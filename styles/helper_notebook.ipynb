{
 "cells": [
  {
   "cell_type": "code",
   "execution_count": 12,
   "metadata": {},
   "outputs": [],
   "source": [
    "import pandas as pd\n",
    "import numpy as np\n",
    "import plotly.express as px"
   ]
  },
  {
   "cell_type": "code",
   "execution_count": 13,
   "metadata": {},
   "outputs": [],
   "source": [
    "top20 = pd.read_csv(r\"C:\\Users\\mikej\\Downloads\\pga_historical_outrights (13).csv\")\n",
    "top10 = pd.read_csv(r\"C:\\Users\\mikej\\Downloads\\pga_historical_outrights (12).csv\")\n",
    "top5 = pd.read_csv(r\"C:\\Users\\mikej\\Downloads\\pga_historical_outrights (11).csv\")\n",
    "win = pd.read_csv(r\"C:\\Users\\mikej\\Downloads\\pga_historical_outrights (10).csv\")"
   ]
  },
  {
   "cell_type": "code",
   "execution_count": 21,
   "metadata": {},
   "outputs": [],
   "source": [
    "top20['outcome'] = top20['outcome'].str.strip(\"T\")\n",
    "\n",
    "outcomes = top20[['player_name','outcome']]\n",
    "outcomes.columns = ['player','outcome']"
   ]
  },
  {
   "cell_type": "code",
   "execution_count": 22,
   "metadata": {},
   "outputs": [
    {
     "data": {
      "text/html": [
       "<div>\n",
       "<style scoped>\n",
       "    .dataframe tbody tr th:only-of-type {\n",
       "        vertical-align: middle;\n",
       "    }\n",
       "\n",
       "    .dataframe tbody tr th {\n",
       "        vertical-align: top;\n",
       "    }\n",
       "\n",
       "    .dataframe thead th {\n",
       "        text-align: right;\n",
       "    }\n",
       "</style>\n",
       "<table border=\"1\" class=\"dataframe\">\n",
       "  <thead>\n",
       "    <tr style=\"text-align: right;\">\n",
       "      <th></th>\n",
       "      <th>player</th>\n",
       "      <th>outcome</th>\n",
       "    </tr>\n",
       "  </thead>\n",
       "  <tbody>\n",
       "    <tr>\n",
       "      <th>0</th>\n",
       "      <td>Scheffler, Scottie</td>\n",
       "      <td>1</td>\n",
       "    </tr>\n",
       "    <tr>\n",
       "      <th>1</th>\n",
       "      <td>Schauffele, Xander</td>\n",
       "      <td>18</td>\n",
       "    </tr>\n",
       "  </tbody>\n",
       "</table>\n",
       "</div>"
      ],
      "text/plain": [
       "               player outcome\n",
       "0  Scheffler, Scottie       1\n",
       "1  Schauffele, Xander      18"
      ]
     },
     "execution_count": 22,
     "metadata": {},
     "output_type": "execute_result"
    }
   ],
   "source": [
    "outcomes.head(2)"
   ]
  },
  {
   "cell_type": "code",
   "execution_count": 14,
   "metadata": {},
   "outputs": [
    {
     "data": {
      "text/html": [
       "<div>\n",
       "<style scoped>\n",
       "    .dataframe tbody tr th:only-of-type {\n",
       "        vertical-align: middle;\n",
       "    }\n",
       "\n",
       "    .dataframe tbody tr th {\n",
       "        vertical-align: top;\n",
       "    }\n",
       "\n",
       "    .dataframe thead th {\n",
       "        text-align: right;\n",
       "    }\n",
       "</style>\n",
       "<table border=\"1\" class=\"dataframe\">\n",
       "  <thead>\n",
       "    <tr style=\"text-align: right;\">\n",
       "      <th></th>\n",
       "      <th>player</th>\n",
       "      <th>odds_20</th>\n",
       "      <th>odds_10</th>\n",
       "      <th>odds_5</th>\n",
       "      <th>odds_win</th>\n",
       "    </tr>\n",
       "  </thead>\n",
       "  <tbody>\n",
       "    <tr>\n",
       "      <th>0</th>\n",
       "      <td>Aberg, Ludvig</td>\n",
       "      <td>0.44</td>\n",
       "      <td>0.67</td>\n",
       "      <td>0.27</td>\n",
       "      <td>0.08</td>\n",
       "    </tr>\n",
       "    <tr>\n",
       "      <th>1</th>\n",
       "      <td>An, Byeong Hun</td>\n",
       "      <td>0.17</td>\n",
       "      <td>0.34</td>\n",
       "      <td>0.08</td>\n",
       "      <td>0.02</td>\n",
       "    </tr>\n",
       "  </tbody>\n",
       "</table>\n",
       "</div>"
      ],
      "text/plain": [
       "           player  odds_20  odds_10  odds_5  odds_win\n",
       "0   Aberg, Ludvig     0.44     0.67    0.27      0.08\n",
       "1  An, Byeong Hun     0.17     0.34    0.08      0.02"
      ]
     },
     "execution_count": 14,
     "metadata": {},
     "output_type": "execute_result"
    }
   ],
   "source": [
    "odds = pd.concat([win,top5,top10,top20])\n",
    "\n",
    "odds = odds[['player_name','market','open_odds']].pivot(index='player_name',columns='market',values='open_odds').reset_index().round(2)\n",
    "\n",
    "odds.columns = ['player','odds_20','odds_10','odds_5','odds_win']\n",
    "\n",
    "odds = odds[['player','odds_20','odds_10','odds_5','odds_win']]\n",
    "\n",
    "odds.head(2)"
   ]
  },
  {
   "cell_type": "code",
   "execution_count": 15,
   "metadata": {},
   "outputs": [
    {
     "data": {
      "text/html": [
       "<div>\n",
       "<style scoped>\n",
       "    .dataframe tbody tr th:only-of-type {\n",
       "        vertical-align: middle;\n",
       "    }\n",
       "\n",
       "    .dataframe tbody tr th {\n",
       "        vertical-align: top;\n",
       "    }\n",
       "\n",
       "    .dataframe thead th {\n",
       "        text-align: right;\n",
       "    }\n",
       "</style>\n",
       "<table border=\"1\" class=\"dataframe\">\n",
       "  <thead>\n",
       "    <tr style=\"text-align: right;\">\n",
       "      <th></th>\n",
       "      <th>player</th>\n",
       "      <th>pred_20</th>\n",
       "      <th>pred_10</th>\n",
       "      <th>pred_5</th>\n",
       "      <th>pred_win</th>\n",
       "    </tr>\n",
       "  </thead>\n",
       "  <tbody>\n",
       "    <tr>\n",
       "      <th>0</th>\n",
       "      <td>Scheffler, Scottie</td>\n",
       "      <td>0.80</td>\n",
       "      <td>0.62</td>\n",
       "      <td>0.45</td>\n",
       "      <td>0.17</td>\n",
       "    </tr>\n",
       "    <tr>\n",
       "      <th>1</th>\n",
       "      <td>Schauffele, Xander</td>\n",
       "      <td>0.62</td>\n",
       "      <td>0.41</td>\n",
       "      <td>0.25</td>\n",
       "      <td>0.07</td>\n",
       "    </tr>\n",
       "  </tbody>\n",
       "</table>\n",
       "</div>"
      ],
      "text/plain": [
       "               player  pred_20  pred_10  pred_5  pred_win\n",
       "0  Scheffler, Scottie     0.80     0.62    0.45      0.17\n",
       "1  Schauffele, Xander     0.62     0.41    0.25      0.07"
      ]
     },
     "execution_count": 15,
     "metadata": {},
     "output_type": "execute_result"
    }
   ],
   "source": [
    "preds = pd.read_csv(r\"C:\\Users\\mikej\\Downloads\\rbc-heritage_course-adjustment-model.csv\")\n",
    "\n",
    "preds = preds[['player_name','top_20','top_10','top_5','win']].round(2)\n",
    "\n",
    "preds.columns = ['player','pred_20','pred_10','pred_5','pred_win']\n",
    "\n",
    "preds.head(2)"
   ]
  },
  {
   "cell_type": "code",
   "execution_count": 16,
   "metadata": {},
   "outputs": [],
   "source": [
    "df = pd.merge(odds,preds)[['player','odds_20','pred_20','odds_10','pred_10','odds_5','pred_5','odds_win','pred_win']]"
   ]
  },
  {
   "cell_type": "code",
   "execution_count": 17,
   "metadata": {},
   "outputs": [
    {
     "data": {
      "text/html": [
       "<div>\n",
       "<style scoped>\n",
       "    .dataframe tbody tr th:only-of-type {\n",
       "        vertical-align: middle;\n",
       "    }\n",
       "\n",
       "    .dataframe tbody tr th {\n",
       "        vertical-align: top;\n",
       "    }\n",
       "\n",
       "    .dataframe thead th {\n",
       "        text-align: right;\n",
       "    }\n",
       "</style>\n",
       "<table border=\"1\" class=\"dataframe\">\n",
       "  <thead>\n",
       "    <tr style=\"text-align: right;\">\n",
       "      <th></th>\n",
       "      <th>player</th>\n",
       "      <th>odds_20</th>\n",
       "      <th>pred_20</th>\n",
       "      <th>odds_10</th>\n",
       "      <th>pred_10</th>\n",
       "      <th>odds_5</th>\n",
       "      <th>pred_5</th>\n",
       "      <th>odds_win</th>\n",
       "      <th>pred_win</th>\n",
       "    </tr>\n",
       "  </thead>\n",
       "  <tbody>\n",
       "    <tr>\n",
       "      <th>0</th>\n",
       "      <td>Aberg, Ludvig</td>\n",
       "      <td>0.44</td>\n",
       "      <td>0.53</td>\n",
       "      <td>0.67</td>\n",
       "      <td>0.32</td>\n",
       "      <td>0.27</td>\n",
       "      <td>0.18</td>\n",
       "      <td>0.08</td>\n",
       "      <td>0.04</td>\n",
       "    </tr>\n",
       "    <tr>\n",
       "      <th>1</th>\n",
       "      <td>An, Byeong Hun</td>\n",
       "      <td>0.17</td>\n",
       "      <td>0.29</td>\n",
       "      <td>0.34</td>\n",
       "      <td>0.13</td>\n",
       "      <td>0.08</td>\n",
       "      <td>0.06</td>\n",
       "      <td>0.02</td>\n",
       "      <td>0.01</td>\n",
       "    </tr>\n",
       "  </tbody>\n",
       "</table>\n",
       "</div>"
      ],
      "text/plain": [
       "           player  odds_20  pred_20  odds_10  pred_10  odds_5  pred_5  \\\n",
       "0   Aberg, Ludvig     0.44     0.53     0.67     0.32    0.27    0.18   \n",
       "1  An, Byeong Hun     0.17     0.29     0.34     0.13    0.08    0.06   \n",
       "\n",
       "   odds_win  pred_win  \n",
       "0      0.08      0.04  \n",
       "1      0.02      0.01  "
      ]
     },
     "execution_count": 17,
     "metadata": {},
     "output_type": "execute_result"
    }
   ],
   "source": [
    "df.head(2)"
   ]
  },
  {
   "cell_type": "code",
   "execution_count": 18,
   "metadata": {},
   "outputs": [],
   "source": [
    "df['diff_20'] = df['pred_20'] - df['odds_20']\n",
    "df['diff_10'] = df['pred_10'] - df['odds_10']\n",
    "df['diff_5'] = df['pred_5'] - df['odds_5']\n",
    "df['diff_win'] = df['pred_win'] - df['odds_win']"
   ]
  },
  {
   "cell_type": "code",
   "execution_count": 23,
   "metadata": {},
   "outputs": [],
   "source": [
    "df = df.merge(outcomes,on='player')"
   ]
  },
  {
   "cell_type": "code",
   "execution_count": 24,
   "metadata": {},
   "outputs": [],
   "source": [
    "def in_top20(a):\n",
    "    if a > 20:\n",
    "        return \"loss\"\n",
    "    return \"win\"\n",
    "\n",
    "def in_top10(a):\n",
    "    if a > 10:\n",
    "        return \"loss\"\n",
    "    return \"win\"\n",
    "\n",
    "def in_top5(a):\n",
    "    if a > 5:\n",
    "        return \"loss\"\n",
    "    return \"win\"\n",
    "\n",
    "def in_win(a):\n",
    "    if a > 1:\n",
    "        return \"loss\"\n",
    "    return \"win\""
   ]
  },
  {
   "cell_type": "code",
   "execution_count": 27,
   "metadata": {},
   "outputs": [],
   "source": [
    "df['outcome'] = df['outcome'].astype(int)\n",
    "\n",
    "df['outcome_bool_20'] = df['outcome'].apply(in_top20)\n",
    "df['outcome_bool_10'] = df['outcome'].apply(in_top10)\n",
    "df['outcome_bool_5'] = df['outcome'].apply(in_top5)\n",
    "df['outcome_bool_win'] = df['outcome'].apply(in_win)"
   ]
  },
  {
   "cell_type": "code",
   "execution_count": 29,
   "metadata": {},
   "outputs": [
    {
     "data": {
      "text/html": [
       "<div>\n",
       "<style scoped>\n",
       "    .dataframe tbody tr th:only-of-type {\n",
       "        vertical-align: middle;\n",
       "    }\n",
       "\n",
       "    .dataframe tbody tr th {\n",
       "        vertical-align: top;\n",
       "    }\n",
       "\n",
       "    .dataframe thead th {\n",
       "        text-align: right;\n",
       "    }\n",
       "</style>\n",
       "<table border=\"1\" class=\"dataframe\">\n",
       "  <thead>\n",
       "    <tr style=\"text-align: right;\">\n",
       "      <th></th>\n",
       "      <th>player</th>\n",
       "      <th>odds_20</th>\n",
       "      <th>pred_20</th>\n",
       "      <th>odds_10</th>\n",
       "      <th>pred_10</th>\n",
       "      <th>odds_5</th>\n",
       "      <th>pred_5</th>\n",
       "      <th>odds_win</th>\n",
       "      <th>pred_win</th>\n",
       "      <th>diff_20</th>\n",
       "      <th>diff_10</th>\n",
       "      <th>diff_5</th>\n",
       "      <th>diff_win</th>\n",
       "      <th>outcome</th>\n",
       "      <th>outcome_bool_20</th>\n",
       "      <th>outcome_bool_10</th>\n",
       "      <th>outcome_bool_5</th>\n",
       "      <th>outcome_bool_win</th>\n",
       "    </tr>\n",
       "  </thead>\n",
       "  <tbody>\n",
       "    <tr>\n",
       "      <th>0</th>\n",
       "      <td>Aberg, Ludvig</td>\n",
       "      <td>0.44</td>\n",
       "      <td>0.53</td>\n",
       "      <td>0.67</td>\n",
       "      <td>0.32</td>\n",
       "      <td>0.27</td>\n",
       "      <td>0.18</td>\n",
       "      <td>0.08</td>\n",
       "      <td>0.04</td>\n",
       "      <td>0.09</td>\n",
       "      <td>-0.35</td>\n",
       "      <td>-0.09</td>\n",
       "      <td>-0.04</td>\n",
       "      <td>10</td>\n",
       "      <td>win</td>\n",
       "      <td>win</td>\n",
       "      <td>loss</td>\n",
       "      <td>loss</td>\n",
       "    </tr>\n",
       "    <tr>\n",
       "      <th>1</th>\n",
       "      <td>An, Byeong Hun</td>\n",
       "      <td>0.17</td>\n",
       "      <td>0.29</td>\n",
       "      <td>0.34</td>\n",
       "      <td>0.13</td>\n",
       "      <td>0.08</td>\n",
       "      <td>0.06</td>\n",
       "      <td>0.02</td>\n",
       "      <td>0.01</td>\n",
       "      <td>0.12</td>\n",
       "      <td>-0.21</td>\n",
       "      <td>-0.02</td>\n",
       "      <td>-0.01</td>\n",
       "      <td>67</td>\n",
       "      <td>loss</td>\n",
       "      <td>loss</td>\n",
       "      <td>loss</td>\n",
       "      <td>loss</td>\n",
       "    </tr>\n",
       "    <tr>\n",
       "      <th>2</th>\n",
       "      <td>Barnes, Erik</td>\n",
       "      <td>0.04</td>\n",
       "      <td>0.07</td>\n",
       "      <td>0.11</td>\n",
       "      <td>0.02</td>\n",
       "      <td>0.01</td>\n",
       "      <td>0.01</td>\n",
       "      <td>0.00</td>\n",
       "      <td>0.00</td>\n",
       "      <td>0.03</td>\n",
       "      <td>-0.09</td>\n",
       "      <td>0.00</td>\n",
       "      <td>0.00</td>\n",
       "      <td>58</td>\n",
       "      <td>loss</td>\n",
       "      <td>loss</td>\n",
       "      <td>loss</td>\n",
       "      <td>loss</td>\n",
       "    </tr>\n",
       "    <tr>\n",
       "      <th>3</th>\n",
       "      <td>Bezuidenhout, Christiaan</td>\n",
       "      <td>0.17</td>\n",
       "      <td>0.33</td>\n",
       "      <td>0.36</td>\n",
       "      <td>0.16</td>\n",
       "      <td>0.08</td>\n",
       "      <td>0.08</td>\n",
       "      <td>0.02</td>\n",
       "      <td>0.01</td>\n",
       "      <td>0.16</td>\n",
       "      <td>-0.20</td>\n",
       "      <td>0.00</td>\n",
       "      <td>-0.01</td>\n",
       "      <td>28</td>\n",
       "      <td>loss</td>\n",
       "      <td>loss</td>\n",
       "      <td>loss</td>\n",
       "      <td>loss</td>\n",
       "    </tr>\n",
       "    <tr>\n",
       "      <th>4</th>\n",
       "      <td>Bhatia, Akshay</td>\n",
       "      <td>0.17</td>\n",
       "      <td>0.37</td>\n",
       "      <td>0.36</td>\n",
       "      <td>0.19</td>\n",
       "      <td>0.08</td>\n",
       "      <td>0.09</td>\n",
       "      <td>0.02</td>\n",
       "      <td>0.02</td>\n",
       "      <td>0.20</td>\n",
       "      <td>-0.17</td>\n",
       "      <td>0.01</td>\n",
       "      <td>0.00</td>\n",
       "      <td>18</td>\n",
       "      <td>win</td>\n",
       "      <td>loss</td>\n",
       "      <td>loss</td>\n",
       "      <td>loss</td>\n",
       "    </tr>\n",
       "    <tr>\n",
       "      <th>...</th>\n",
       "      <td>...</td>\n",
       "      <td>...</td>\n",
       "      <td>...</td>\n",
       "      <td>...</td>\n",
       "      <td>...</td>\n",
       "      <td>...</td>\n",
       "      <td>...</td>\n",
       "      <td>...</td>\n",
       "      <td>...</td>\n",
       "      <td>...</td>\n",
       "      <td>...</td>\n",
       "      <td>...</td>\n",
       "      <td>...</td>\n",
       "      <td>...</td>\n",
       "      <td>...</td>\n",
       "      <td>...</td>\n",
       "      <td>...</td>\n",
       "      <td>...</td>\n",
       "    </tr>\n",
       "    <tr>\n",
       "      <th>64</th>\n",
       "      <td>Tosti, Alejandro</td>\n",
       "      <td>0.04</td>\n",
       "      <td>0.05</td>\n",
       "      <td>0.12</td>\n",
       "      <td>0.02</td>\n",
       "      <td>0.01</td>\n",
       "      <td>0.00</td>\n",
       "      <td>0.00</td>\n",
       "      <td>0.00</td>\n",
       "      <td>0.01</td>\n",
       "      <td>-0.10</td>\n",
       "      <td>-0.01</td>\n",
       "      <td>0.00</td>\n",
       "      <td>33</td>\n",
       "      <td>loss</td>\n",
       "      <td>loss</td>\n",
       "      <td>loss</td>\n",
       "      <td>loss</td>\n",
       "    </tr>\n",
       "    <tr>\n",
       "      <th>65</th>\n",
       "      <td>Van Rooyen, Erik</td>\n",
       "      <td>0.11</td>\n",
       "      <td>0.21</td>\n",
       "      <td>0.25</td>\n",
       "      <td>0.09</td>\n",
       "      <td>0.04</td>\n",
       "      <td>0.04</td>\n",
       "      <td>0.01</td>\n",
       "      <td>0.01</td>\n",
       "      <td>0.10</td>\n",
       "      <td>-0.16</td>\n",
       "      <td>0.00</td>\n",
       "      <td>0.00</td>\n",
       "      <td>33</td>\n",
       "      <td>loss</td>\n",
       "      <td>loss</td>\n",
       "      <td>loss</td>\n",
       "      <td>loss</td>\n",
       "    </tr>\n",
       "    <tr>\n",
       "      <th>66</th>\n",
       "      <td>Woodland, Gary</td>\n",
       "      <td>0.05</td>\n",
       "      <td>0.07</td>\n",
       "      <td>0.13</td>\n",
       "      <td>0.02</td>\n",
       "      <td>0.02</td>\n",
       "      <td>0.01</td>\n",
       "      <td>0.00</td>\n",
       "      <td>0.00</td>\n",
       "      <td>0.02</td>\n",
       "      <td>-0.11</td>\n",
       "      <td>-0.01</td>\n",
       "      <td>0.00</td>\n",
       "      <td>64</td>\n",
       "      <td>loss</td>\n",
       "      <td>loss</td>\n",
       "      <td>loss</td>\n",
       "      <td>loss</td>\n",
       "    </tr>\n",
       "    <tr>\n",
       "      <th>67</th>\n",
       "      <td>Young, Cameron</td>\n",
       "      <td>0.28</td>\n",
       "      <td>0.41</td>\n",
       "      <td>0.50</td>\n",
       "      <td>0.22</td>\n",
       "      <td>0.14</td>\n",
       "      <td>0.11</td>\n",
       "      <td>0.04</td>\n",
       "      <td>0.02</td>\n",
       "      <td>0.13</td>\n",
       "      <td>-0.28</td>\n",
       "      <td>-0.03</td>\n",
       "      <td>-0.02</td>\n",
       "      <td>62</td>\n",
       "      <td>loss</td>\n",
       "      <td>loss</td>\n",
       "      <td>loss</td>\n",
       "      <td>loss</td>\n",
       "    </tr>\n",
       "    <tr>\n",
       "      <th>68</th>\n",
       "      <td>Zalatoris, Will</td>\n",
       "      <td>0.29</td>\n",
       "      <td>0.34</td>\n",
       "      <td>0.51</td>\n",
       "      <td>0.17</td>\n",
       "      <td>0.15</td>\n",
       "      <td>0.08</td>\n",
       "      <td>0.04</td>\n",
       "      <td>0.01</td>\n",
       "      <td>0.05</td>\n",
       "      <td>-0.34</td>\n",
       "      <td>-0.07</td>\n",
       "      <td>-0.03</td>\n",
       "      <td>44</td>\n",
       "      <td>loss</td>\n",
       "      <td>loss</td>\n",
       "      <td>loss</td>\n",
       "      <td>loss</td>\n",
       "    </tr>\n",
       "  </tbody>\n",
       "</table>\n",
       "<p>69 rows × 18 columns</p>\n",
       "</div>"
      ],
      "text/plain": [
       "                      player  odds_20  pred_20  odds_10  pred_10  odds_5  \\\n",
       "0              Aberg, Ludvig     0.44     0.53     0.67     0.32    0.27   \n",
       "1             An, Byeong Hun     0.17     0.29     0.34     0.13    0.08   \n",
       "2               Barnes, Erik     0.04     0.07     0.11     0.02    0.01   \n",
       "3   Bezuidenhout, Christiaan     0.17     0.33     0.36     0.16    0.08   \n",
       "4             Bhatia, Akshay     0.17     0.37     0.36     0.19    0.08   \n",
       "..                       ...      ...      ...      ...      ...     ...   \n",
       "64          Tosti, Alejandro     0.04     0.05     0.12     0.02    0.01   \n",
       "65          Van Rooyen, Erik     0.11     0.21     0.25     0.09    0.04   \n",
       "66            Woodland, Gary     0.05     0.07     0.13     0.02    0.02   \n",
       "67            Young, Cameron     0.28     0.41     0.50     0.22    0.14   \n",
       "68           Zalatoris, Will     0.29     0.34     0.51     0.17    0.15   \n",
       "\n",
       "    pred_5  odds_win  pred_win  diff_20  diff_10  diff_5  diff_win  outcome  \\\n",
       "0     0.18      0.08      0.04     0.09    -0.35   -0.09     -0.04       10   \n",
       "1     0.06      0.02      0.01     0.12    -0.21   -0.02     -0.01       67   \n",
       "2     0.01      0.00      0.00     0.03    -0.09    0.00      0.00       58   \n",
       "3     0.08      0.02      0.01     0.16    -0.20    0.00     -0.01       28   \n",
       "4     0.09      0.02      0.02     0.20    -0.17    0.01      0.00       18   \n",
       "..     ...       ...       ...      ...      ...     ...       ...      ...   \n",
       "64    0.00      0.00      0.00     0.01    -0.10   -0.01      0.00       33   \n",
       "65    0.04      0.01      0.01     0.10    -0.16    0.00      0.00       33   \n",
       "66    0.01      0.00      0.00     0.02    -0.11   -0.01      0.00       64   \n",
       "67    0.11      0.04      0.02     0.13    -0.28   -0.03     -0.02       62   \n",
       "68    0.08      0.04      0.01     0.05    -0.34   -0.07     -0.03       44   \n",
       "\n",
       "   outcome_bool_20 outcome_bool_10 outcome_bool_5 outcome_bool_win  \n",
       "0              win             win           loss             loss  \n",
       "1             loss            loss           loss             loss  \n",
       "2             loss            loss           loss             loss  \n",
       "3             loss            loss           loss             loss  \n",
       "4              win            loss           loss             loss  \n",
       "..             ...             ...            ...              ...  \n",
       "64            loss            loss           loss             loss  \n",
       "65            loss            loss           loss             loss  \n",
       "66            loss            loss           loss             loss  \n",
       "67            loss            loss           loss             loss  \n",
       "68            loss            loss           loss             loss  \n",
       "\n",
       "[69 rows x 18 columns]"
      ]
     },
     "execution_count": 29,
     "metadata": {},
     "output_type": "execute_result"
    }
   ],
   "source": [
    "df"
   ]
  },
  {
   "cell_type": "code",
   "execution_count": 30,
   "metadata": {},
   "outputs": [],
   "source": [
    "# top20s = df[['player','odds_20','pred_20','diff_20','outcome']].sort_values('odds_20',ascending=False)\n",
    "# top10s = df[['player','odds_10','pred_10','diff_10','outcome']].sort_values('odds_10',ascending=False)\n",
    "# top5s = df[['player','odds_5','pred_5','diff_5','outcome']].sort_values('odds_5',ascending=False)\n",
    "# wins = df[['player','odds_win','pred_win','diff_win','outcome']].sort_values('odds_win',ascending=False)"
   ]
  },
  {
   "cell_type": "code",
   "execution_count": 60,
   "metadata": {},
   "outputs": [
    {
     "data": {
      "application/vnd.plotly.v1+json": {
       "config": {
        "plotlyServerURL": "https://plot.ly"
       },
       "data": [
        {
         "hovertemplate": "<b>%{hovertext}</b><br><br>outcome_bool_20=win<br>diff_20=%{marker.size}<br>pred_20=%{y}<extra></extra>",
         "hovertext": [
          "Aberg, Ludvig",
          "Bhatia, Akshay",
          "Cantlay, Patrick",
          "Clark, Wyndham",
          "Day, Jason",
          "Eckroat, Austin",
          "Finau, Tony",
          "Fowler, Rickie",
          "Garnett, Brice",
          "Harman, Brian",
          "Henley, Russell",
          "Hoge, Tom",
          "Im, Sungjae",
          "Jaeger, Stephan",
          "Kim, Si Woo",
          "Kim, Tom",
          "Kirk, Chris",
          "Morikawa, Collin",
          "Poston, J.T.",
          "Power, Seamus",
          "Putnam, Andrew",
          "Rodgers, Patrick",
          "Schauffele, Xander",
          "Scheffler, Scottie",
          "Straka, Sepp",
          "Theegala, Sahith",
          "Thomas, Justin"
         ],
         "legendgroup": "win",
         "marker": {
          "color": "rgb(136, 204, 238)",
          "size": [
           0.09000000000000002,
           0.19999999999999998,
           0.06,
           0.08999999999999997,
           0.09999999999999998,
           0.16,
           0.12999999999999998,
           0.020000000000000018,
           0.06,
           0.11000000000000001,
           0.24000000000000002,
           0.10999999999999999,
           0.13999999999999999,
           0.1,
           0.25,
           0.09999999999999998,
           0.18,
           0.14,
           0.16000000000000003,
           0.09000000000000001,
           0.18000000000000002,
           0.05,
           0.13,
           0.1100000000000001,
           0.13999999999999999,
           0.15000000000000002,
           0.07
          ],
          "sizemode": "area",
          "sizeref": 0.000625,
          "symbol": "circle"
         },
         "mode": "markers",
         "name": "win",
         "orientation": "v",
         "showlegend": true,
         "type": "scatter",
         "x": [
          0.09000000000000002,
          0.19999999999999998,
          0.06,
          0.08999999999999997,
          0.09999999999999998,
          0.16,
          0.12999999999999998,
          0.020000000000000018,
          0.06,
          0.11000000000000001,
          0.24000000000000002,
          0.10999999999999999,
          0.13999999999999999,
          0.1,
          0.25,
          0.09999999999999998,
          0.18,
          0.14,
          0.16000000000000003,
          0.09000000000000001,
          0.18000000000000002,
          0.05,
          0.13,
          0.1100000000000001,
          0.13999999999999999,
          0.15000000000000002,
          0.07
         ],
         "xaxis": "x",
         "y": [
          0.53,
          0.37,
          0.44,
          0.37,
          0.3,
          0.25,
          0.35,
          0.14,
          0.11,
          0.33,
          0.46,
          0.25,
          0.31,
          0.25,
          0.49,
          0.3,
          0.36,
          0.5,
          0.34,
          0.14,
          0.28,
          0.13,
          0.62,
          0.8,
          0.31,
          0.39,
          0.32
         ],
         "yaxis": "y"
        },
        {
         "hovertemplate": "<b>%{hovertext}</b><br><br>outcome_bool_20=loss<br>diff_20=%{marker.size}<br>pred_20=%{y}<extra></extra>",
         "hovertext": [
          "An, Byeong Hun",
          "Barnes, Erik",
          "Bezuidenhout, Christiaan",
          "Bradley, Keegan",
          "Burns, Sam",
          "Cole, Eric",
          "Conners, Corey",
          "Davis, Cameron",
          "Detry, Thomas",
          "Dunlap, Nick",
          "English, Harris",
          "Fitzpatrick, Matt",
          "Fleetwood, Tommy",
          "Glover, Lucas",
          "Grillo, Emiliano",
          "Hadwin, Adam",
          "Hodges, Lee",
          "Homa, Max",
          "Hughes, Mackenzie",
          "Kisner, Kevin",
          "Kitayama, Kurt",
          "Knapp, Jake",
          "Lowry, Shane",
          "Malnati, Peter",
          "McCarthy, Denny",
          "McIlroy, Rory",
          "Moore, Taylor",
          "Murray, Grayson",
          "Pavon, Matthieu",
          "Phillips, Chandler",
          "Rose, Justin",
          "Schenk, Adam",
          "Simpson, Webb",
          "Spieth, Jordan",
          "Svensson, Adam",
          "Taylor, Nick",
          "Todd, Brendon",
          "Tosti, Alejandro",
          "Van Rooyen, Erik",
          "Woodland, Gary",
          "Young, Cameron",
          "Zalatoris, Will"
         ],
         "legendgroup": "loss",
         "marker": {
          "color": "rgb(204, 102, 119)",
          "size": [
           0.11999999999999997,
           0.030000000000000006,
           0.16,
           0.10999999999999999,
           0.11000000000000001,
           0.07999999999999999,
           0.15,
           0.05000000000000002,
           0.06000000000000001,
           0,
           0.18999999999999997,
           0.10999999999999999,
           0.14,
           0.21000000000000002,
           0.13,
           0.13,
           0.13,
           0.08000000000000002,
           0.12,
           0,
           0.15000000000000002,
           0.009999999999999995,
           0.22000000000000003,
           0.09000000000000001,
           0.18999999999999997,
           0.010000000000000009,
           0.11000000000000001,
           0.08,
           0.16999999999999998,
           0.07999999999999999,
           0.03,
           0.16999999999999998,
           0.12,
           0.050000000000000044,
           0.06,
           0.12,
           0.16999999999999998,
           0.010000000000000002,
           0.09999999999999999,
           0.020000000000000004,
           0.12999999999999995,
           0.050000000000000044
          ],
          "sizemode": "area",
          "sizeref": 0.000625,
          "symbol": "circle"
         },
         "mode": "markers",
         "name": "loss",
         "orientation": "v",
         "showlegend": true,
         "type": "scatter",
         "x": [
          0.11999999999999997,
          0.030000000000000006,
          0.16,
          0.10999999999999999,
          0.11000000000000001,
          0.07999999999999999,
          0.15,
          0.05000000000000002,
          0.06000000000000001,
          0,
          0.18999999999999997,
          0.10999999999999999,
          0.14,
          0.21000000000000002,
          0.13,
          0.13,
          0.13,
          0.08000000000000002,
          0.12,
          0,
          0.15000000000000002,
          0.009999999999999995,
          0.22000000000000003,
          0.09000000000000001,
          0.18999999999999997,
          0.010000000000000009,
          0.11000000000000001,
          0.08,
          0.16999999999999998,
          0.07999999999999999,
          0.03,
          0.16999999999999998,
          0.12,
          0.050000000000000044,
          0.06,
          0.12,
          0.16999999999999998,
          0.010000000000000002,
          0.09999999999999999,
          0.020000000000000004,
          0.12999999999999995,
          0.050000000000000044
         ],
         "xaxis": "x",
         "y": [
          0.29,
          0.07,
          0.33,
          0.24,
          0.33,
          0.22,
          0.37,
          0.23,
          0.17,
          0.08,
          0.36,
          0.43,
          0.5,
          0.33,
          0.25,
          0.27,
          0.2,
          0.4,
          0.22,
          0.01,
          0.27,
          0.11,
          0.4,
          0.14,
          0.36,
          0.48,
          0.28,
          0.11,
          0.3,
          0.12,
          0.15,
          0.29,
          0.18,
          0.34,
          0.16,
          0.22,
          0.29,
          0.05,
          0.21,
          0.07,
          0.41,
          0.34
         ],
         "yaxis": "y"
        },
        {
         "hovertemplate": "<b>OLS trendline</b><br>pred_20 = 1.22305 * diff_20 + 0.155255<br>R<sup>2</sup>=0.255856<br><br>diff_20=%{x}<br>pred_20=%{y} <b>(trend)</b><extra></extra>",
         "legendgroup": "Overall Trendline",
         "line": {
          "color": "darkslategrey"
         },
         "mode": "lines",
         "name": "Overall Trendline",
         "showlegend": true,
         "type": "scatter",
         "x": [
          0,
          0,
          0.009999999999999995,
          0.010000000000000002,
          0.010000000000000009,
          0.020000000000000004,
          0.020000000000000018,
          0.03,
          0.030000000000000006,
          0.05,
          0.05000000000000002,
          0.050000000000000044,
          0.050000000000000044,
          0.06,
          0.06,
          0.06,
          0.06000000000000001,
          0.07,
          0.07999999999999999,
          0.07999999999999999,
          0.08,
          0.08000000000000002,
          0.08999999999999997,
          0.09000000000000001,
          0.09000000000000001,
          0.09000000000000002,
          0.09999999999999998,
          0.09999999999999998,
          0.09999999999999999,
          0.1,
          0.10999999999999999,
          0.10999999999999999,
          0.10999999999999999,
          0.11000000000000001,
          0.11000000000000001,
          0.11000000000000001,
          0.1100000000000001,
          0.11999999999999997,
          0.12,
          0.12,
          0.12,
          0.12999999999999995,
          0.12999999999999998,
          0.13,
          0.13,
          0.13,
          0.13,
          0.13999999999999999,
          0.13999999999999999,
          0.14,
          0.14,
          0.15,
          0.15000000000000002,
          0.15000000000000002,
          0.16,
          0.16,
          0.16000000000000003,
          0.16999999999999998,
          0.16999999999999998,
          0.16999999999999998,
          0.18,
          0.18000000000000002,
          0.18999999999999997,
          0.18999999999999997,
          0.19999999999999998,
          0.21000000000000002,
          0.22000000000000003,
          0.24000000000000002,
          0.25
         ],
         "xaxis": "x",
         "y": [
          0.1552550564586176,
          0.1552550564586176,
          0.16748554411217262,
          0.16748554411217265,
          0.16748554411217265,
          0.17971603176572767,
          0.1797160317657277,
          0.1919465194192827,
          0.1919465194192827,
          0.21640749472639279,
          0.2164074947263928,
          0.21640749472639284,
          0.21640749472639284,
          0.2286379823799478,
          0.2286379823799478,
          0.2286379823799478,
          0.22863798237994784,
          0.24086847003350287,
          0.2530989576870579,
          0.2530989576870579,
          0.2530989576870579,
          0.2530989576870579,
          0.2653294453406129,
          0.265329445340613,
          0.265329445340613,
          0.265329445340613,
          0.277559932994168,
          0.277559932994168,
          0.277559932994168,
          0.277559932994168,
          0.289790420647723,
          0.289790420647723,
          0.289790420647723,
          0.28979042064772303,
          0.28979042064772303,
          0.28979042064772303,
          0.28979042064772315,
          0.30202090830127803,
          0.30202090830127803,
          0.30202090830127803,
          0.30202090830127803,
          0.31425139595483303,
          0.3142513959548331,
          0.3142513959548331,
          0.3142513959548331,
          0.3142513959548331,
          0.3142513959548331,
          0.32648188360838815,
          0.32648188360838815,
          0.32648188360838815,
          0.32648188360838815,
          0.3387123712619432,
          0.3387123712619432,
          0.3387123712619432,
          0.35094285891549826,
          0.35094285891549826,
          0.35094285891549826,
          0.36317334656905326,
          0.36317334656905326,
          0.36317334656905326,
          0.3754038342226083,
          0.37540383422260837,
          0.3876343218761633,
          0.3876343218761633,
          0.39986480952971837,
          0.4120952971832735,
          0.4243257848368285,
          0.4487867601439386,
          0.4610172477974936
         ],
         "yaxis": "y"
        }
       ],
       "layout": {
        "height": 700,
        "legend": {
         "itemsizing": "constant",
         "title": {
          "text": "outcome_bool_20"
         },
         "tracegroupgap": 0
        },
        "margin": {
         "t": 60
        },
        "template": {
         "data": {
          "bar": [
           {
            "error_x": {
             "color": "#2a3f5f"
            },
            "error_y": {
             "color": "#2a3f5f"
            },
            "marker": {
             "line": {
              "color": "#E5ECF6",
              "width": 0.5
             },
             "pattern": {
              "fillmode": "overlay",
              "size": 10,
              "solidity": 0.2
             }
            },
            "type": "bar"
           }
          ],
          "barpolar": [
           {
            "marker": {
             "line": {
              "color": "#E5ECF6",
              "width": 0.5
             },
             "pattern": {
              "fillmode": "overlay",
              "size": 10,
              "solidity": 0.2
             }
            },
            "type": "barpolar"
           }
          ],
          "carpet": [
           {
            "aaxis": {
             "endlinecolor": "#2a3f5f",
             "gridcolor": "white",
             "linecolor": "white",
             "minorgridcolor": "white",
             "startlinecolor": "#2a3f5f"
            },
            "baxis": {
             "endlinecolor": "#2a3f5f",
             "gridcolor": "white",
             "linecolor": "white",
             "minorgridcolor": "white",
             "startlinecolor": "#2a3f5f"
            },
            "type": "carpet"
           }
          ],
          "choropleth": [
           {
            "colorbar": {
             "outlinewidth": 0,
             "ticks": ""
            },
            "type": "choropleth"
           }
          ],
          "contour": [
           {
            "colorbar": {
             "outlinewidth": 0,
             "ticks": ""
            },
            "colorscale": [
             [
              0,
              "#0d0887"
             ],
             [
              0.1111111111111111,
              "#46039f"
             ],
             [
              0.2222222222222222,
              "#7201a8"
             ],
             [
              0.3333333333333333,
              "#9c179e"
             ],
             [
              0.4444444444444444,
              "#bd3786"
             ],
             [
              0.5555555555555556,
              "#d8576b"
             ],
             [
              0.6666666666666666,
              "#ed7953"
             ],
             [
              0.7777777777777778,
              "#fb9f3a"
             ],
             [
              0.8888888888888888,
              "#fdca26"
             ],
             [
              1,
              "#f0f921"
             ]
            ],
            "type": "contour"
           }
          ],
          "contourcarpet": [
           {
            "colorbar": {
             "outlinewidth": 0,
             "ticks": ""
            },
            "type": "contourcarpet"
           }
          ],
          "heatmap": [
           {
            "colorbar": {
             "outlinewidth": 0,
             "ticks": ""
            },
            "colorscale": [
             [
              0,
              "#0d0887"
             ],
             [
              0.1111111111111111,
              "#46039f"
             ],
             [
              0.2222222222222222,
              "#7201a8"
             ],
             [
              0.3333333333333333,
              "#9c179e"
             ],
             [
              0.4444444444444444,
              "#bd3786"
             ],
             [
              0.5555555555555556,
              "#d8576b"
             ],
             [
              0.6666666666666666,
              "#ed7953"
             ],
             [
              0.7777777777777778,
              "#fb9f3a"
             ],
             [
              0.8888888888888888,
              "#fdca26"
             ],
             [
              1,
              "#f0f921"
             ]
            ],
            "type": "heatmap"
           }
          ],
          "heatmapgl": [
           {
            "colorbar": {
             "outlinewidth": 0,
             "ticks": ""
            },
            "colorscale": [
             [
              0,
              "#0d0887"
             ],
             [
              0.1111111111111111,
              "#46039f"
             ],
             [
              0.2222222222222222,
              "#7201a8"
             ],
             [
              0.3333333333333333,
              "#9c179e"
             ],
             [
              0.4444444444444444,
              "#bd3786"
             ],
             [
              0.5555555555555556,
              "#d8576b"
             ],
             [
              0.6666666666666666,
              "#ed7953"
             ],
             [
              0.7777777777777778,
              "#fb9f3a"
             ],
             [
              0.8888888888888888,
              "#fdca26"
             ],
             [
              1,
              "#f0f921"
             ]
            ],
            "type": "heatmapgl"
           }
          ],
          "histogram": [
           {
            "marker": {
             "pattern": {
              "fillmode": "overlay",
              "size": 10,
              "solidity": 0.2
             }
            },
            "type": "histogram"
           }
          ],
          "histogram2d": [
           {
            "colorbar": {
             "outlinewidth": 0,
             "ticks": ""
            },
            "colorscale": [
             [
              0,
              "#0d0887"
             ],
             [
              0.1111111111111111,
              "#46039f"
             ],
             [
              0.2222222222222222,
              "#7201a8"
             ],
             [
              0.3333333333333333,
              "#9c179e"
             ],
             [
              0.4444444444444444,
              "#bd3786"
             ],
             [
              0.5555555555555556,
              "#d8576b"
             ],
             [
              0.6666666666666666,
              "#ed7953"
             ],
             [
              0.7777777777777778,
              "#fb9f3a"
             ],
             [
              0.8888888888888888,
              "#fdca26"
             ],
             [
              1,
              "#f0f921"
             ]
            ],
            "type": "histogram2d"
           }
          ],
          "histogram2dcontour": [
           {
            "colorbar": {
             "outlinewidth": 0,
             "ticks": ""
            },
            "colorscale": [
             [
              0,
              "#0d0887"
             ],
             [
              0.1111111111111111,
              "#46039f"
             ],
             [
              0.2222222222222222,
              "#7201a8"
             ],
             [
              0.3333333333333333,
              "#9c179e"
             ],
             [
              0.4444444444444444,
              "#bd3786"
             ],
             [
              0.5555555555555556,
              "#d8576b"
             ],
             [
              0.6666666666666666,
              "#ed7953"
             ],
             [
              0.7777777777777778,
              "#fb9f3a"
             ],
             [
              0.8888888888888888,
              "#fdca26"
             ],
             [
              1,
              "#f0f921"
             ]
            ],
            "type": "histogram2dcontour"
           }
          ],
          "mesh3d": [
           {
            "colorbar": {
             "outlinewidth": 0,
             "ticks": ""
            },
            "type": "mesh3d"
           }
          ],
          "parcoords": [
           {
            "line": {
             "colorbar": {
              "outlinewidth": 0,
              "ticks": ""
             }
            },
            "type": "parcoords"
           }
          ],
          "pie": [
           {
            "automargin": true,
            "type": "pie"
           }
          ],
          "scatter": [
           {
            "fillpattern": {
             "fillmode": "overlay",
             "size": 10,
             "solidity": 0.2
            },
            "type": "scatter"
           }
          ],
          "scatter3d": [
           {
            "line": {
             "colorbar": {
              "outlinewidth": 0,
              "ticks": ""
             }
            },
            "marker": {
             "colorbar": {
              "outlinewidth": 0,
              "ticks": ""
             }
            },
            "type": "scatter3d"
           }
          ],
          "scattercarpet": [
           {
            "marker": {
             "colorbar": {
              "outlinewidth": 0,
              "ticks": ""
             }
            },
            "type": "scattercarpet"
           }
          ],
          "scattergeo": [
           {
            "marker": {
             "colorbar": {
              "outlinewidth": 0,
              "ticks": ""
             }
            },
            "type": "scattergeo"
           }
          ],
          "scattergl": [
           {
            "marker": {
             "colorbar": {
              "outlinewidth": 0,
              "ticks": ""
             }
            },
            "type": "scattergl"
           }
          ],
          "scattermapbox": [
           {
            "marker": {
             "colorbar": {
              "outlinewidth": 0,
              "ticks": ""
             }
            },
            "type": "scattermapbox"
           }
          ],
          "scatterpolar": [
           {
            "marker": {
             "colorbar": {
              "outlinewidth": 0,
              "ticks": ""
             }
            },
            "type": "scatterpolar"
           }
          ],
          "scatterpolargl": [
           {
            "marker": {
             "colorbar": {
              "outlinewidth": 0,
              "ticks": ""
             }
            },
            "type": "scatterpolargl"
           }
          ],
          "scatterternary": [
           {
            "marker": {
             "colorbar": {
              "outlinewidth": 0,
              "ticks": ""
             }
            },
            "type": "scatterternary"
           }
          ],
          "surface": [
           {
            "colorbar": {
             "outlinewidth": 0,
             "ticks": ""
            },
            "colorscale": [
             [
              0,
              "#0d0887"
             ],
             [
              0.1111111111111111,
              "#46039f"
             ],
             [
              0.2222222222222222,
              "#7201a8"
             ],
             [
              0.3333333333333333,
              "#9c179e"
             ],
             [
              0.4444444444444444,
              "#bd3786"
             ],
             [
              0.5555555555555556,
              "#d8576b"
             ],
             [
              0.6666666666666666,
              "#ed7953"
             ],
             [
              0.7777777777777778,
              "#fb9f3a"
             ],
             [
              0.8888888888888888,
              "#fdca26"
             ],
             [
              1,
              "#f0f921"
             ]
            ],
            "type": "surface"
           }
          ],
          "table": [
           {
            "cells": {
             "fill": {
              "color": "#EBF0F8"
             },
             "line": {
              "color": "white"
             }
            },
            "header": {
             "fill": {
              "color": "#C8D4E3"
             },
             "line": {
              "color": "white"
             }
            },
            "type": "table"
           }
          ]
         },
         "layout": {
          "annotationdefaults": {
           "arrowcolor": "#2a3f5f",
           "arrowhead": 0,
           "arrowwidth": 1
          },
          "autotypenumbers": "strict",
          "coloraxis": {
           "colorbar": {
            "outlinewidth": 0,
            "ticks": ""
           }
          },
          "colorscale": {
           "diverging": [
            [
             0,
             "#8e0152"
            ],
            [
             0.1,
             "#c51b7d"
            ],
            [
             0.2,
             "#de77ae"
            ],
            [
             0.3,
             "#f1b6da"
            ],
            [
             0.4,
             "#fde0ef"
            ],
            [
             0.5,
             "#f7f7f7"
            ],
            [
             0.6,
             "#e6f5d0"
            ],
            [
             0.7,
             "#b8e186"
            ],
            [
             0.8,
             "#7fbc41"
            ],
            [
             0.9,
             "#4d9221"
            ],
            [
             1,
             "#276419"
            ]
           ],
           "sequential": [
            [
             0,
             "#0d0887"
            ],
            [
             0.1111111111111111,
             "#46039f"
            ],
            [
             0.2222222222222222,
             "#7201a8"
            ],
            [
             0.3333333333333333,
             "#9c179e"
            ],
            [
             0.4444444444444444,
             "#bd3786"
            ],
            [
             0.5555555555555556,
             "#d8576b"
            ],
            [
             0.6666666666666666,
             "#ed7953"
            ],
            [
             0.7777777777777778,
             "#fb9f3a"
            ],
            [
             0.8888888888888888,
             "#fdca26"
            ],
            [
             1,
             "#f0f921"
            ]
           ],
           "sequentialminus": [
            [
             0,
             "#0d0887"
            ],
            [
             0.1111111111111111,
             "#46039f"
            ],
            [
             0.2222222222222222,
             "#7201a8"
            ],
            [
             0.3333333333333333,
             "#9c179e"
            ],
            [
             0.4444444444444444,
             "#bd3786"
            ],
            [
             0.5555555555555556,
             "#d8576b"
            ],
            [
             0.6666666666666666,
             "#ed7953"
            ],
            [
             0.7777777777777778,
             "#fb9f3a"
            ],
            [
             0.8888888888888888,
             "#fdca26"
            ],
            [
             1,
             "#f0f921"
            ]
           ]
          },
          "colorway": [
           "#636efa",
           "#EF553B",
           "#00cc96",
           "#ab63fa",
           "#FFA15A",
           "#19d3f3",
           "#FF6692",
           "#B6E880",
           "#FF97FF",
           "#FECB52"
          ],
          "font": {
           "color": "#2a3f5f"
          },
          "geo": {
           "bgcolor": "white",
           "lakecolor": "white",
           "landcolor": "#E5ECF6",
           "showlakes": true,
           "showland": true,
           "subunitcolor": "white"
          },
          "hoverlabel": {
           "align": "left"
          },
          "hovermode": "closest",
          "mapbox": {
           "style": "light"
          },
          "paper_bgcolor": "white",
          "plot_bgcolor": "#E5ECF6",
          "polar": {
           "angularaxis": {
            "gridcolor": "white",
            "linecolor": "white",
            "ticks": ""
           },
           "bgcolor": "#E5ECF6",
           "radialaxis": {
            "gridcolor": "white",
            "linecolor": "white",
            "ticks": ""
           }
          },
          "scene": {
           "xaxis": {
            "backgroundcolor": "#E5ECF6",
            "gridcolor": "white",
            "gridwidth": 2,
            "linecolor": "white",
            "showbackground": true,
            "ticks": "",
            "zerolinecolor": "white"
           },
           "yaxis": {
            "backgroundcolor": "#E5ECF6",
            "gridcolor": "white",
            "gridwidth": 2,
            "linecolor": "white",
            "showbackground": true,
            "ticks": "",
            "zerolinecolor": "white"
           },
           "zaxis": {
            "backgroundcolor": "#E5ECF6",
            "gridcolor": "white",
            "gridwidth": 2,
            "linecolor": "white",
            "showbackground": true,
            "ticks": "",
            "zerolinecolor": "white"
           }
          },
          "shapedefaults": {
           "line": {
            "color": "#2a3f5f"
           }
          },
          "ternary": {
           "aaxis": {
            "gridcolor": "white",
            "linecolor": "white",
            "ticks": ""
           },
           "baxis": {
            "gridcolor": "white",
            "linecolor": "white",
            "ticks": ""
           },
           "bgcolor": "#E5ECF6",
           "caxis": {
            "gridcolor": "white",
            "linecolor": "white",
            "ticks": ""
           }
          },
          "title": {
           "x": 0.05
          },
          "xaxis": {
           "automargin": true,
           "gridcolor": "white",
           "linecolor": "white",
           "ticks": "",
           "title": {
            "standoff": 15
           },
           "zerolinecolor": "white",
           "zerolinewidth": 2
          },
          "yaxis": {
           "automargin": true,
           "gridcolor": "white",
           "linecolor": "white",
           "ticks": "",
           "title": {
            "standoff": 15
           },
           "zerolinecolor": "white",
           "zerolinewidth": 2
          }
         }
        },
        "width": 800,
        "xaxis": {
         "anchor": "y",
         "domain": [
          0,
          1
         ],
         "title": {
          "text": "diff_20"
         }
        },
        "yaxis": {
         "anchor": "x",
         "domain": [
          0,
          1
         ],
         "title": {
          "text": "pred_20"
         }
        }
       }
      }
     },
     "metadata": {},
     "output_type": "display_data"
    }
   ],
   "source": [
    "\n",
    "px.scatter(df,\n",
    "           x='diff_20',\n",
    "           y='pred_20',\n",
    "           hover_name='player',\n",
    "           color='outcome_bool_20',\n",
    "           color_discrete_sequence=px.colors.qualitative.Safe,\n",
    "           trendline = 'ols',trendline_scope='overall',trendline_color_override = 'darkslategrey',\n",
    "           width=800,\n",
    "           height=700,\n",
    "           size='diff_20')#.add_shape(type=\"line\", x0=0, y0=0, x1=1, y1=1)"
   ]
  },
  {
   "cell_type": "code",
   "execution_count": 62,
   "metadata": {},
   "outputs": [
    {
     "data": {
      "application/vnd.plotly.v1+json": {
       "config": {
        "plotlyServerURL": "https://plot.ly"
       },
       "data": [
        {
         "hovertemplate": "<b>%{hovertext}</b><br><br>outcome_bool_10=win<br>diff_10=%{x}<br>pred_10=%{y}<br>odds_10=%{marker.size}<extra></extra>",
         "hovertext": [
          "Aberg, Ludvig",
          "Cantlay, Patrick",
          "Clark, Wyndham",
          "Kirk, Chris",
          "Morikawa, Collin",
          "Poston, J.T.",
          "Rodgers, Patrick",
          "Scheffler, Scottie",
          "Straka, Sepp",
          "Theegala, Sahith",
          "Thomas, Justin"
         ],
         "legendgroup": "win",
         "marker": {
          "color": "rgb(136, 204, 238)",
          "size": [
           0.67,
           0.62,
           0.5,
           0.36,
           0.6,
           0.36,
           0.2,
           0.86,
           0.34,
           0.44,
           0.45
          ],
          "sizemode": "area",
          "sizeref": 0.00215,
          "symbol": "circle"
         },
         "mode": "markers",
         "name": "win",
         "orientation": "v",
         "showlegend": true,
         "type": "scatter",
         "x": [
          -0.35000000000000003,
          -0.38,
          -0.31,
          -0.18,
          -0.31,
          -0.19999999999999998,
          -0.15000000000000002,
          -0.24,
          -0.19000000000000003,
          -0.24,
          -0.30000000000000004
         ],
         "xaxis": "x",
         "y": [
          0.32,
          0.24,
          0.19,
          0.18,
          0.29,
          0.16,
          0.05,
          0.62,
          0.15,
          0.2,
          0.15
         ],
         "yaxis": "y"
        },
        {
         "hovertemplate": "<b>%{hovertext}</b><br><br>outcome_bool_10=loss<br>diff_10=%{x}<br>pred_10=%{y}<br>odds_10=%{marker.size}<extra></extra>",
         "hovertext": [
          "An, Byeong Hun",
          "Barnes, Erik",
          "Bezuidenhout, Christiaan",
          "Bhatia, Akshay",
          "Bradley, Keegan",
          "Burns, Sam",
          "Cole, Eric",
          "Conners, Corey",
          "Davis, Cameron",
          "Day, Jason",
          "Detry, Thomas",
          "Dunlap, Nick",
          "Eckroat, Austin",
          "English, Harris",
          "Finau, Tony",
          "Fitzpatrick, Matt",
          "Fleetwood, Tommy",
          "Fowler, Rickie",
          "Garnett, Brice",
          "Glover, Lucas",
          "Grillo, Emiliano",
          "Hadwin, Adam",
          "Harman, Brian",
          "Henley, Russell",
          "Hodges, Lee",
          "Hoge, Tom",
          "Homa, Max",
          "Hughes, Mackenzie",
          "Im, Sungjae",
          "Jaeger, Stephan",
          "Kim, Si Woo",
          "Kim, Tom",
          "Kisner, Kevin",
          "Kitayama, Kurt",
          "Knapp, Jake",
          "Lowry, Shane",
          "Malnati, Peter",
          "McCarthy, Denny",
          "McIlroy, Rory",
          "Moore, Taylor",
          "Murray, Grayson",
          "Pavon, Matthieu",
          "Phillips, Chandler",
          "Power, Seamus",
          "Putnam, Andrew",
          "Rose, Justin",
          "Schauffele, Xander",
          "Schenk, Adam",
          "Simpson, Webb",
          "Spieth, Jordan",
          "Svensson, Adam",
          "Taylor, Nick",
          "Todd, Brendon",
          "Tosti, Alejandro",
          "Van Rooyen, Erik",
          "Woodland, Gary",
          "Young, Cameron",
          "Zalatoris, Will"
         ],
         "legendgroup": "loss",
         "marker": {
          "color": "rgb(204, 102, 119)",
          "size": [
           0.34,
           0.11,
           0.36,
           0.36,
           0.3,
           0.43,
           0.31,
           0.42,
           0.36,
           0.4,
           0.26,
           0.2,
           0.22,
           0.36,
           0.42,
           0.55,
           0.6,
           0.28,
           0.14,
           0.29,
           0.29,
           0.3,
           0.43,
           0.42,
           0.18,
           0.31,
           0.56,
           0.24,
           0.34,
           0.32,
           0.47,
           0.4,
           0.05,
           0.29,
           0.24,
           0.38,
           0.14,
           0.34,
           0.69,
           0.34,
           0.1,
           0.3,
           0.13,
           0.15,
           0.24,
           0.28,
           0.71,
           0.29,
           0.17,
           0.51,
           0.25,
           0.25,
           0.28,
           0.12,
           0.25,
           0.13,
           0.5,
           0.51
          ],
          "sizemode": "area",
          "sizeref": 0.00215,
          "symbol": "circle"
         },
         "mode": "markers",
         "name": "loss",
         "orientation": "v",
         "showlegend": true,
         "type": "scatter",
         "x": [
          -0.21000000000000002,
          -0.09,
          -0.19999999999999998,
          -0.16999999999999998,
          -0.19999999999999998,
          -0.27,
          -0.22,
          -0.22999999999999998,
          -0.26,
          -0.26,
          -0.19,
          -0.17,
          -0.11,
          -0.18,
          -0.24999999999999997,
          -0.32000000000000006,
          -0.31,
          -0.23000000000000004,
          -0.11000000000000001,
          -0.12999999999999998,
          -0.18,
          -0.18,
          -0.27,
          -0.16999999999999998,
          -0.09999999999999999,
          -0.2,
          -0.3500000000000001,
          -0.15,
          -0.2,
          -0.21000000000000002,
          -0.18999999999999995,
          -0.26,
          -0.05,
          -0.16999999999999998,
          -0.19999999999999998,
          -0.17,
          -0.09000000000000001,
          -0.16000000000000003,
          -0.41999999999999993,
          -0.22000000000000003,
          -0.060000000000000005,
          -0.15999999999999998,
          -0.09,
          -0.09999999999999999,
          -0.12,
          -0.23000000000000004,
          -0.3,
          -0.15999999999999998,
          -0.1,
          -0.33999999999999997,
          -0.19,
          -0.16,
          -0.14,
          -0.09999999999999999,
          -0.16,
          -0.11,
          -0.28,
          -0.33999999999999997
         ],
         "xaxis": "x",
         "y": [
          0.13,
          0.02,
          0.16,
          0.19,
          0.1,
          0.16,
          0.09,
          0.19,
          0.1,
          0.14,
          0.07,
          0.03,
          0.11,
          0.18,
          0.17,
          0.23,
          0.29,
          0.05,
          0.03,
          0.16,
          0.11,
          0.12,
          0.16,
          0.25,
          0.08,
          0.11,
          0.21,
          0.09,
          0.14,
          0.11,
          0.28,
          0.14,
          0,
          0.12,
          0.04,
          0.21,
          0.05,
          0.18,
          0.27,
          0.12,
          0.04,
          0.14,
          0.04,
          0.05,
          0.12,
          0.05,
          0.41,
          0.13,
          0.07,
          0.17,
          0.06,
          0.09,
          0.14,
          0.02,
          0.09,
          0.02,
          0.22,
          0.17
         ],
         "yaxis": "y"
        },
        {
         "hovertemplate": "<b>OLS trendline</b><br>pred_10 = -0.726688 * diff_10 + -0.00337251<br>R<sup>2</sup>=0.348753<br><br>diff_10=%{x}<br>pred_10=%{y} <b>(trend)</b><extra></extra>",
         "legendgroup": "Overall Trendline",
         "line": {
          "color": "darkslategrey"
         },
         "mode": "lines",
         "name": "Overall Trendline",
         "showlegend": true,
         "type": "scatter",
         "x": [
          -0.41999999999999993,
          -0.38,
          -0.3500000000000001,
          -0.35000000000000003,
          -0.33999999999999997,
          -0.33999999999999997,
          -0.32000000000000006,
          -0.31,
          -0.31,
          -0.31,
          -0.30000000000000004,
          -0.3,
          -0.28,
          -0.27,
          -0.27,
          -0.26,
          -0.26,
          -0.26,
          -0.24999999999999997,
          -0.24,
          -0.24,
          -0.23000000000000004,
          -0.23000000000000004,
          -0.22999999999999998,
          -0.22000000000000003,
          -0.22,
          -0.21000000000000002,
          -0.21000000000000002,
          -0.2,
          -0.2,
          -0.19999999999999998,
          -0.19999999999999998,
          -0.19999999999999998,
          -0.19999999999999998,
          -0.19000000000000003,
          -0.19,
          -0.19,
          -0.18999999999999995,
          -0.18,
          -0.18,
          -0.18,
          -0.18,
          -0.17,
          -0.17,
          -0.16999999999999998,
          -0.16999999999999998,
          -0.16999999999999998,
          -0.16000000000000003,
          -0.16,
          -0.16,
          -0.15999999999999998,
          -0.15999999999999998,
          -0.15000000000000002,
          -0.15,
          -0.14,
          -0.12999999999999998,
          -0.12,
          -0.11000000000000001,
          -0.11,
          -0.11,
          -0.1,
          -0.09999999999999999,
          -0.09999999999999999,
          -0.09999999999999999,
          -0.09000000000000001,
          -0.09,
          -0.09,
          -0.060000000000000005,
          -0.05
         ],
         "xaxis": "x",
         "y": [
          0.3018365592232005,
          0.2727690288713911,
          0.25096838110753406,
          0.250968381107534,
          0.24370149851958156,
          0.24370149851958156,
          0.2291677333436769,
          0.2219008507557245,
          0.2219008507557245,
          0.2219008507557245,
          0.21463396816777217,
          0.21463396816777214,
          0.20010020299186743,
          0.19283332040391504,
          0.19283332040391504,
          0.1855664378159627,
          0.1855664378159627,
          0.1855664378159627,
          0.17829955522801028,
          0.17103267264005792,
          0.17103267264005792,
          0.1637657900521056,
          0.1637657900521056,
          0.16376579005210556,
          0.15649890746415324,
          0.1564989074641532,
          0.14923202487620085,
          0.14923202487620085,
          0.14196514228824847,
          0.14196514228824847,
          0.14196514228824847,
          0.14196514228824847,
          0.14196514228824847,
          0.14196514228824847,
          0.13469825970029614,
          0.1346982597002961,
          0.1346982597002961,
          0.13469825970029606,
          0.12743137711234373,
          0.12743137711234373,
          0.12743137711234373,
          0.12743137711234373,
          0.12016449452439139,
          0.12016449452439139,
          0.12016449452439136,
          0.12016449452439136,
          0.12016449452439136,
          0.11289761193643903,
          0.11289761193643902,
          0.11289761193643902,
          0.11289761193643899,
          0.11289761193643899,
          0.10563072934848666,
          0.10563072934848665,
          0.0983638467605343,
          0.0910969641725819,
          0.08383008158462954,
          0.0765631989966772,
          0.07656319899667718,
          0.07656319899667718,
          0.06929631640872481,
          0.06929631640872481,
          0.06929631640872481,
          0.06929631640872481,
          0.06202943382077246,
          0.062029433820772445,
          0.062029433820772445,
          0.040228786056915364,
          0.032961903468962994
         ],
         "yaxis": "y"
        }
       ],
       "layout": {
        "height": 700,
        "legend": {
         "itemsizing": "constant",
         "title": {
          "text": "outcome_bool_10"
         },
         "tracegroupgap": 0
        },
        "margin": {
         "t": 60
        },
        "template": {
         "data": {
          "bar": [
           {
            "error_x": {
             "color": "#2a3f5f"
            },
            "error_y": {
             "color": "#2a3f5f"
            },
            "marker": {
             "line": {
              "color": "#E5ECF6",
              "width": 0.5
             },
             "pattern": {
              "fillmode": "overlay",
              "size": 10,
              "solidity": 0.2
             }
            },
            "type": "bar"
           }
          ],
          "barpolar": [
           {
            "marker": {
             "line": {
              "color": "#E5ECF6",
              "width": 0.5
             },
             "pattern": {
              "fillmode": "overlay",
              "size": 10,
              "solidity": 0.2
             }
            },
            "type": "barpolar"
           }
          ],
          "carpet": [
           {
            "aaxis": {
             "endlinecolor": "#2a3f5f",
             "gridcolor": "white",
             "linecolor": "white",
             "minorgridcolor": "white",
             "startlinecolor": "#2a3f5f"
            },
            "baxis": {
             "endlinecolor": "#2a3f5f",
             "gridcolor": "white",
             "linecolor": "white",
             "minorgridcolor": "white",
             "startlinecolor": "#2a3f5f"
            },
            "type": "carpet"
           }
          ],
          "choropleth": [
           {
            "colorbar": {
             "outlinewidth": 0,
             "ticks": ""
            },
            "type": "choropleth"
           }
          ],
          "contour": [
           {
            "colorbar": {
             "outlinewidth": 0,
             "ticks": ""
            },
            "colorscale": [
             [
              0,
              "#0d0887"
             ],
             [
              0.1111111111111111,
              "#46039f"
             ],
             [
              0.2222222222222222,
              "#7201a8"
             ],
             [
              0.3333333333333333,
              "#9c179e"
             ],
             [
              0.4444444444444444,
              "#bd3786"
             ],
             [
              0.5555555555555556,
              "#d8576b"
             ],
             [
              0.6666666666666666,
              "#ed7953"
             ],
             [
              0.7777777777777778,
              "#fb9f3a"
             ],
             [
              0.8888888888888888,
              "#fdca26"
             ],
             [
              1,
              "#f0f921"
             ]
            ],
            "type": "contour"
           }
          ],
          "contourcarpet": [
           {
            "colorbar": {
             "outlinewidth": 0,
             "ticks": ""
            },
            "type": "contourcarpet"
           }
          ],
          "heatmap": [
           {
            "colorbar": {
             "outlinewidth": 0,
             "ticks": ""
            },
            "colorscale": [
             [
              0,
              "#0d0887"
             ],
             [
              0.1111111111111111,
              "#46039f"
             ],
             [
              0.2222222222222222,
              "#7201a8"
             ],
             [
              0.3333333333333333,
              "#9c179e"
             ],
             [
              0.4444444444444444,
              "#bd3786"
             ],
             [
              0.5555555555555556,
              "#d8576b"
             ],
             [
              0.6666666666666666,
              "#ed7953"
             ],
             [
              0.7777777777777778,
              "#fb9f3a"
             ],
             [
              0.8888888888888888,
              "#fdca26"
             ],
             [
              1,
              "#f0f921"
             ]
            ],
            "type": "heatmap"
           }
          ],
          "heatmapgl": [
           {
            "colorbar": {
             "outlinewidth": 0,
             "ticks": ""
            },
            "colorscale": [
             [
              0,
              "#0d0887"
             ],
             [
              0.1111111111111111,
              "#46039f"
             ],
             [
              0.2222222222222222,
              "#7201a8"
             ],
             [
              0.3333333333333333,
              "#9c179e"
             ],
             [
              0.4444444444444444,
              "#bd3786"
             ],
             [
              0.5555555555555556,
              "#d8576b"
             ],
             [
              0.6666666666666666,
              "#ed7953"
             ],
             [
              0.7777777777777778,
              "#fb9f3a"
             ],
             [
              0.8888888888888888,
              "#fdca26"
             ],
             [
              1,
              "#f0f921"
             ]
            ],
            "type": "heatmapgl"
           }
          ],
          "histogram": [
           {
            "marker": {
             "pattern": {
              "fillmode": "overlay",
              "size": 10,
              "solidity": 0.2
             }
            },
            "type": "histogram"
           }
          ],
          "histogram2d": [
           {
            "colorbar": {
             "outlinewidth": 0,
             "ticks": ""
            },
            "colorscale": [
             [
              0,
              "#0d0887"
             ],
             [
              0.1111111111111111,
              "#46039f"
             ],
             [
              0.2222222222222222,
              "#7201a8"
             ],
             [
              0.3333333333333333,
              "#9c179e"
             ],
             [
              0.4444444444444444,
              "#bd3786"
             ],
             [
              0.5555555555555556,
              "#d8576b"
             ],
             [
              0.6666666666666666,
              "#ed7953"
             ],
             [
              0.7777777777777778,
              "#fb9f3a"
             ],
             [
              0.8888888888888888,
              "#fdca26"
             ],
             [
              1,
              "#f0f921"
             ]
            ],
            "type": "histogram2d"
           }
          ],
          "histogram2dcontour": [
           {
            "colorbar": {
             "outlinewidth": 0,
             "ticks": ""
            },
            "colorscale": [
             [
              0,
              "#0d0887"
             ],
             [
              0.1111111111111111,
              "#46039f"
             ],
             [
              0.2222222222222222,
              "#7201a8"
             ],
             [
              0.3333333333333333,
              "#9c179e"
             ],
             [
              0.4444444444444444,
              "#bd3786"
             ],
             [
              0.5555555555555556,
              "#d8576b"
             ],
             [
              0.6666666666666666,
              "#ed7953"
             ],
             [
              0.7777777777777778,
              "#fb9f3a"
             ],
             [
              0.8888888888888888,
              "#fdca26"
             ],
             [
              1,
              "#f0f921"
             ]
            ],
            "type": "histogram2dcontour"
           }
          ],
          "mesh3d": [
           {
            "colorbar": {
             "outlinewidth": 0,
             "ticks": ""
            },
            "type": "mesh3d"
           }
          ],
          "parcoords": [
           {
            "line": {
             "colorbar": {
              "outlinewidth": 0,
              "ticks": ""
             }
            },
            "type": "parcoords"
           }
          ],
          "pie": [
           {
            "automargin": true,
            "type": "pie"
           }
          ],
          "scatter": [
           {
            "fillpattern": {
             "fillmode": "overlay",
             "size": 10,
             "solidity": 0.2
            },
            "type": "scatter"
           }
          ],
          "scatter3d": [
           {
            "line": {
             "colorbar": {
              "outlinewidth": 0,
              "ticks": ""
             }
            },
            "marker": {
             "colorbar": {
              "outlinewidth": 0,
              "ticks": ""
             }
            },
            "type": "scatter3d"
           }
          ],
          "scattercarpet": [
           {
            "marker": {
             "colorbar": {
              "outlinewidth": 0,
              "ticks": ""
             }
            },
            "type": "scattercarpet"
           }
          ],
          "scattergeo": [
           {
            "marker": {
             "colorbar": {
              "outlinewidth": 0,
              "ticks": ""
             }
            },
            "type": "scattergeo"
           }
          ],
          "scattergl": [
           {
            "marker": {
             "colorbar": {
              "outlinewidth": 0,
              "ticks": ""
             }
            },
            "type": "scattergl"
           }
          ],
          "scattermapbox": [
           {
            "marker": {
             "colorbar": {
              "outlinewidth": 0,
              "ticks": ""
             }
            },
            "type": "scattermapbox"
           }
          ],
          "scatterpolar": [
           {
            "marker": {
             "colorbar": {
              "outlinewidth": 0,
              "ticks": ""
             }
            },
            "type": "scatterpolar"
           }
          ],
          "scatterpolargl": [
           {
            "marker": {
             "colorbar": {
              "outlinewidth": 0,
              "ticks": ""
             }
            },
            "type": "scatterpolargl"
           }
          ],
          "scatterternary": [
           {
            "marker": {
             "colorbar": {
              "outlinewidth": 0,
              "ticks": ""
             }
            },
            "type": "scatterternary"
           }
          ],
          "surface": [
           {
            "colorbar": {
             "outlinewidth": 0,
             "ticks": ""
            },
            "colorscale": [
             [
              0,
              "#0d0887"
             ],
             [
              0.1111111111111111,
              "#46039f"
             ],
             [
              0.2222222222222222,
              "#7201a8"
             ],
             [
              0.3333333333333333,
              "#9c179e"
             ],
             [
              0.4444444444444444,
              "#bd3786"
             ],
             [
              0.5555555555555556,
              "#d8576b"
             ],
             [
              0.6666666666666666,
              "#ed7953"
             ],
             [
              0.7777777777777778,
              "#fb9f3a"
             ],
             [
              0.8888888888888888,
              "#fdca26"
             ],
             [
              1,
              "#f0f921"
             ]
            ],
            "type": "surface"
           }
          ],
          "table": [
           {
            "cells": {
             "fill": {
              "color": "#EBF0F8"
             },
             "line": {
              "color": "white"
             }
            },
            "header": {
             "fill": {
              "color": "#C8D4E3"
             },
             "line": {
              "color": "white"
             }
            },
            "type": "table"
           }
          ]
         },
         "layout": {
          "annotationdefaults": {
           "arrowcolor": "#2a3f5f",
           "arrowhead": 0,
           "arrowwidth": 1
          },
          "autotypenumbers": "strict",
          "coloraxis": {
           "colorbar": {
            "outlinewidth": 0,
            "ticks": ""
           }
          },
          "colorscale": {
           "diverging": [
            [
             0,
             "#8e0152"
            ],
            [
             0.1,
             "#c51b7d"
            ],
            [
             0.2,
             "#de77ae"
            ],
            [
             0.3,
             "#f1b6da"
            ],
            [
             0.4,
             "#fde0ef"
            ],
            [
             0.5,
             "#f7f7f7"
            ],
            [
             0.6,
             "#e6f5d0"
            ],
            [
             0.7,
             "#b8e186"
            ],
            [
             0.8,
             "#7fbc41"
            ],
            [
             0.9,
             "#4d9221"
            ],
            [
             1,
             "#276419"
            ]
           ],
           "sequential": [
            [
             0,
             "#0d0887"
            ],
            [
             0.1111111111111111,
             "#46039f"
            ],
            [
             0.2222222222222222,
             "#7201a8"
            ],
            [
             0.3333333333333333,
             "#9c179e"
            ],
            [
             0.4444444444444444,
             "#bd3786"
            ],
            [
             0.5555555555555556,
             "#d8576b"
            ],
            [
             0.6666666666666666,
             "#ed7953"
            ],
            [
             0.7777777777777778,
             "#fb9f3a"
            ],
            [
             0.8888888888888888,
             "#fdca26"
            ],
            [
             1,
             "#f0f921"
            ]
           ],
           "sequentialminus": [
            [
             0,
             "#0d0887"
            ],
            [
             0.1111111111111111,
             "#46039f"
            ],
            [
             0.2222222222222222,
             "#7201a8"
            ],
            [
             0.3333333333333333,
             "#9c179e"
            ],
            [
             0.4444444444444444,
             "#bd3786"
            ],
            [
             0.5555555555555556,
             "#d8576b"
            ],
            [
             0.6666666666666666,
             "#ed7953"
            ],
            [
             0.7777777777777778,
             "#fb9f3a"
            ],
            [
             0.8888888888888888,
             "#fdca26"
            ],
            [
             1,
             "#f0f921"
            ]
           ]
          },
          "colorway": [
           "#636efa",
           "#EF553B",
           "#00cc96",
           "#ab63fa",
           "#FFA15A",
           "#19d3f3",
           "#FF6692",
           "#B6E880",
           "#FF97FF",
           "#FECB52"
          ],
          "font": {
           "color": "#2a3f5f"
          },
          "geo": {
           "bgcolor": "white",
           "lakecolor": "white",
           "landcolor": "#E5ECF6",
           "showlakes": true,
           "showland": true,
           "subunitcolor": "white"
          },
          "hoverlabel": {
           "align": "left"
          },
          "hovermode": "closest",
          "mapbox": {
           "style": "light"
          },
          "paper_bgcolor": "white",
          "plot_bgcolor": "#E5ECF6",
          "polar": {
           "angularaxis": {
            "gridcolor": "white",
            "linecolor": "white",
            "ticks": ""
           },
           "bgcolor": "#E5ECF6",
           "radialaxis": {
            "gridcolor": "white",
            "linecolor": "white",
            "ticks": ""
           }
          },
          "scene": {
           "xaxis": {
            "backgroundcolor": "#E5ECF6",
            "gridcolor": "white",
            "gridwidth": 2,
            "linecolor": "white",
            "showbackground": true,
            "ticks": "",
            "zerolinecolor": "white"
           },
           "yaxis": {
            "backgroundcolor": "#E5ECF6",
            "gridcolor": "white",
            "gridwidth": 2,
            "linecolor": "white",
            "showbackground": true,
            "ticks": "",
            "zerolinecolor": "white"
           },
           "zaxis": {
            "backgroundcolor": "#E5ECF6",
            "gridcolor": "white",
            "gridwidth": 2,
            "linecolor": "white",
            "showbackground": true,
            "ticks": "",
            "zerolinecolor": "white"
           }
          },
          "shapedefaults": {
           "line": {
            "color": "#2a3f5f"
           }
          },
          "ternary": {
           "aaxis": {
            "gridcolor": "white",
            "linecolor": "white",
            "ticks": ""
           },
           "baxis": {
            "gridcolor": "white",
            "linecolor": "white",
            "ticks": ""
           },
           "bgcolor": "#E5ECF6",
           "caxis": {
            "gridcolor": "white",
            "linecolor": "white",
            "ticks": ""
           }
          },
          "title": {
           "x": 0.05
          },
          "xaxis": {
           "automargin": true,
           "gridcolor": "white",
           "linecolor": "white",
           "ticks": "",
           "title": {
            "standoff": 15
           },
           "zerolinecolor": "white",
           "zerolinewidth": 2
          },
          "yaxis": {
           "automargin": true,
           "gridcolor": "white",
           "linecolor": "white",
           "ticks": "",
           "title": {
            "standoff": 15
           },
           "zerolinecolor": "white",
           "zerolinewidth": 2
          }
         }
        },
        "width": 800,
        "xaxis": {
         "anchor": "y",
         "domain": [
          0,
          1
         ],
         "title": {
          "text": "diff_10"
         }
        },
        "yaxis": {
         "anchor": "x",
         "domain": [
          0,
          1
         ],
         "title": {
          "text": "pred_10"
         }
        }
       }
      }
     },
     "metadata": {},
     "output_type": "display_data"
    }
   ],
   "source": [
    "\n",
    "px.scatter(df,\n",
    "           x='diff_10',\n",
    "           y='pred_10',\n",
    "           hover_name='player',\n",
    "           color='outcome_bool_10',\n",
    "           color_discrete_sequence=px.colors.qualitative.Safe,\n",
    "           trendline = 'ols',trendline_scope='overall',trendline_color_override = 'darkslategrey',\n",
    "           width=800,\n",
    "           height=700,\n",
    "           size='odds_10')#.add_shape(type=\"line\", x0=0, y0=0, x1=1, y1=1)"
   ]
  },
  {
   "cell_type": "code",
   "execution_count": 58,
   "metadata": {},
   "outputs": [
    {
     "data": {
      "application/vnd.plotly.v1+json": {
       "config": {
        "plotlyServerURL": "https://plot.ly"
       },
       "data": [
        {
         "hovertemplate": "<b>%{hovertext}</b><br><br>outcome_bool_5=loss<br>diff_5=%{x}<br>pred_5=%{y}<br>odds_5=%{marker.size}<extra></extra>",
         "hovertext": [
          "Aberg, Ludvig",
          "An, Byeong Hun",
          "Barnes, Erik",
          "Bezuidenhout, Christiaan",
          "Bhatia, Akshay",
          "Bradley, Keegan",
          "Burns, Sam",
          "Cole, Eric",
          "Conners, Corey",
          "Davis, Cameron",
          "Day, Jason",
          "Detry, Thomas",
          "Dunlap, Nick",
          "Eckroat, Austin",
          "English, Harris",
          "Finau, Tony",
          "Fitzpatrick, Matt",
          "Fleetwood, Tommy",
          "Fowler, Rickie",
          "Garnett, Brice",
          "Glover, Lucas",
          "Grillo, Emiliano",
          "Hadwin, Adam",
          "Harman, Brian",
          "Henley, Russell",
          "Hodges, Lee",
          "Hoge, Tom",
          "Homa, Max",
          "Hughes, Mackenzie",
          "Im, Sungjae",
          "Jaeger, Stephan",
          "Kim, Si Woo",
          "Kim, Tom",
          "Kirk, Chris",
          "Kisner, Kevin",
          "Kitayama, Kurt",
          "Knapp, Jake",
          "Lowry, Shane",
          "Malnati, Peter",
          "McCarthy, Denny",
          "McIlroy, Rory",
          "Moore, Taylor",
          "Morikawa, Collin",
          "Murray, Grayson",
          "Pavon, Matthieu",
          "Phillips, Chandler",
          "Power, Seamus",
          "Putnam, Andrew",
          "Rose, Justin",
          "Schauffele, Xander",
          "Schenk, Adam",
          "Simpson, Webb",
          "Spieth, Jordan",
          "Svensson, Adam",
          "Taylor, Nick",
          "Todd, Brendon",
          "Tosti, Alejandro",
          "Van Rooyen, Erik",
          "Woodland, Gary",
          "Young, Cameron",
          "Zalatoris, Will"
         ],
         "legendgroup": "loss",
         "marker": {
          "color": "rgb(136, 204, 238)",
          "size": [
           0.27,
           0.08,
           0.01,
           0.08,
           0.08,
           0.06,
           0.11,
           0.06,
           0.1,
           0.08,
           0.09,
           0.05,
           0.03,
           0.03,
           0.08,
           0.11,
           0.18,
           0.2,
           0.05,
           0.02,
           0.05,
           0.05,
           0.06,
           0.11,
           0.1,
           0.02,
           0.07,
           0.18,
           0.04,
           0.08,
           0.07,
           0.12,
           0.1,
           0.08,
           0,
           0.05,
           0.04,
           0.08,
           0.02,
           0.08,
           0.29,
           0.08,
           0.22,
           0.01,
           0.06,
           0.02,
           0.02,
           0.04,
           0.05,
           0.3,
           0.05,
           0.02,
           0.15,
           0.04,
           0.04,
           0.05,
           0.01,
           0.04,
           0.02,
           0.14,
           0.15
          ],
          "sizemode": "area",
          "sizeref": 0.001275,
          "symbol": "circle"
         },
         "mode": "markers",
         "name": "loss",
         "orientation": "v",
         "showlegend": true,
         "type": "scatter",
         "x": [
          -0.09000000000000002,
          -0.020000000000000004,
          0,
          0,
          0.009999999999999995,
          -0.019999999999999997,
          -0.03,
          -0.019999999999999997,
          -0.010000000000000009,
          -0.04,
          -0.01999999999999999,
          -0.020000000000000004,
          -0.019999999999999997,
          0.020000000000000004,
          0.009999999999999995,
          -0.03,
          -0.06,
          -0.04000000000000001,
          -0.030000000000000002,
          -0.01,
          0.03,
          0,
          0,
          -0.03,
          0.03,
          0.009999999999999998,
          -0.020000000000000004,
          -0.06999999999999999,
          0,
          -0.009999999999999995,
          -0.030000000000000006,
          0.03,
          -0.03,
          0.009999999999999995,
          0,
          0.009999999999999995,
          -0.03,
          0.020000000000000004,
          0,
          0.009999999999999995,
          -0.13999999999999999,
          -0.03,
          -0.06,
          0,
          0,
          0,
          0,
          0.010000000000000002,
          -0.030000000000000002,
          -0.04999999999999999,
          0.009999999999999995,
          0.009999999999999998,
          -0.06999999999999999,
          -0.02,
          0,
          0.009999999999999995,
          -0.01,
          0,
          -0.01,
          -0.030000000000000013,
          -0.06999999999999999
         ],
         "xaxis": "x",
         "y": [
          0.18,
          0.06,
          0.01,
          0.08,
          0.09,
          0.04,
          0.08,
          0.04,
          0.09,
          0.04,
          0.07,
          0.03,
          0.01,
          0.05,
          0.09,
          0.08,
          0.12,
          0.16,
          0.02,
          0.01,
          0.08,
          0.05,
          0.06,
          0.08,
          0.13,
          0.03,
          0.05,
          0.11,
          0.04,
          0.07,
          0.04,
          0.15,
          0.07,
          0.09,
          0,
          0.06,
          0.01,
          0.1,
          0.02,
          0.09,
          0.15,
          0.05,
          0.16,
          0.01,
          0.06,
          0.02,
          0.02,
          0.05,
          0.02,
          0.25,
          0.06,
          0.03,
          0.08,
          0.02,
          0.04,
          0.06,
          0,
          0.04,
          0.01,
          0.11,
          0.08
         ],
         "yaxis": "y"
        },
        {
         "hovertemplate": "<b>%{hovertext}</b><br><br>outcome_bool_5=win<br>diff_5=%{x}<br>pred_5=%{y}<br>odds_5=%{marker.size}<extra></extra>",
         "hovertext": [
          "Cantlay, Patrick",
          "Clark, Wyndham",
          "Poston, J.T.",
          "Rodgers, Patrick",
          "Scheffler, Scottie",
          "Straka, Sepp",
          "Theegala, Sahith",
          "Thomas, Justin"
         ],
         "legendgroup": "win",
         "marker": {
          "color": "rgb(204, 102, 119)",
          "size": [
           0.22,
           0.14,
           0.08,
           0.03,
           0.51,
           0.08,
           0.12,
           0.12
          ],
          "sizemode": "area",
          "sizeref": 0.001275,
          "symbol": "circle"
         },
         "mode": "markers",
         "name": "win",
         "orientation": "v",
         "showlegend": true,
         "type": "scatter",
         "x": [
          -0.09,
          -0.05000000000000002,
          -0.009999999999999995,
          -0.009999999999999998,
          -0.06,
          -0.009999999999999995,
          -0.01999999999999999,
          -0.04999999999999999
         ],
         "xaxis": "x",
         "y": [
          0.13,
          0.09,
          0.07,
          0.02,
          0.45,
          0.07,
          0.1,
          0.07
         ],
         "yaxis": "y"
        },
        {
         "hovertemplate": "<b>OLS trendline</b><br>pred_5 = -0.84737 * diff_5 + 0.0568672<br>R<sup>2</sup>=0.160356<br><br>diff_5=%{x}<br>pred_5=%{y} <b>(trend)</b><extra></extra>",
         "legendgroup": "Overall Trendline",
         "line": {
          "color": "darkslategrey"
         },
         "mode": "lines",
         "name": "Overall Trendline",
         "showlegend": true,
         "type": "scatter",
         "x": [
          -0.13999999999999999,
          -0.09000000000000002,
          -0.09,
          -0.06999999999999999,
          -0.06999999999999999,
          -0.06999999999999999,
          -0.06,
          -0.06,
          -0.06,
          -0.05000000000000002,
          -0.04999999999999999,
          -0.04999999999999999,
          -0.04000000000000001,
          -0.04,
          -0.030000000000000013,
          -0.030000000000000006,
          -0.030000000000000002,
          -0.030000000000000002,
          -0.03,
          -0.03,
          -0.03,
          -0.03,
          -0.03,
          -0.03,
          -0.020000000000000004,
          -0.020000000000000004,
          -0.020000000000000004,
          -0.02,
          -0.019999999999999997,
          -0.019999999999999997,
          -0.019999999999999997,
          -0.01999999999999999,
          -0.01999999999999999,
          -0.010000000000000009,
          -0.01,
          -0.01,
          -0.01,
          -0.009999999999999998,
          -0.009999999999999995,
          -0.009999999999999995,
          -0.009999999999999995,
          0,
          0,
          0,
          0,
          0,
          0,
          0,
          0,
          0,
          0,
          0,
          0,
          0,
          0.009999999999999995,
          0.009999999999999995,
          0.009999999999999995,
          0.009999999999999995,
          0.009999999999999995,
          0.009999999999999995,
          0.009999999999999995,
          0.009999999999999998,
          0.009999999999999998,
          0.010000000000000002,
          0.020000000000000004,
          0.020000000000000004,
          0.03,
          0.03,
          0.03
         ],
         "xaxis": "x",
         "y": [
          0.1754991067927323,
          0.13313058254542287,
          0.13313058254542284,
          0.11618317284649904,
          0.11618317284649904,
          0.11618317284649904,
          0.10770946799703715,
          0.10770946799703715,
          0.10770946799703715,
          0.09923576314757528,
          0.09923576314757525,
          0.09923576314757525,
          0.09076205829811337,
          0.09076205829811337,
          0.08228835344865149,
          0.08228835344865147,
          0.08228835344865147,
          0.08228835344865147,
          0.08228835344865146,
          0.08228835344865146,
          0.08228835344865146,
          0.08228835344865146,
          0.08228835344865146,
          0.08228835344865146,
          0.07381464859918957,
          0.07381464859918957,
          0.07381464859918957,
          0.07381464859918957,
          0.07381464859918957,
          0.07381464859918957,
          0.07381464859918957,
          0.07381464859918957,
          0.07381464859918957,
          0.06534094374972768,
          0.06534094374972768,
          0.06534094374972768,
          0.06534094374972768,
          0.06534094374972768,
          0.06534094374972767,
          0.06534094374972767,
          0.06534094374972767,
          0.05686723890026578,
          0.05686723890026578,
          0.05686723890026578,
          0.05686723890026578,
          0.05686723890026578,
          0.05686723890026578,
          0.05686723890026578,
          0.05686723890026578,
          0.05686723890026578,
          0.05686723890026578,
          0.05686723890026578,
          0.05686723890026578,
          0.05686723890026578,
          0.04839353405080389,
          0.04839353405080389,
          0.04839353405080389,
          0.04839353405080389,
          0.04839353405080389,
          0.04839353405080389,
          0.04839353405080389,
          0.048393534050803884,
          0.048393534050803884,
          0.048393534050803884,
          0.03991982920134199,
          0.03991982920134199,
          0.03144612435188009,
          0.03144612435188009,
          0.03144612435188009
         ],
         "yaxis": "y"
        }
       ],
       "layout": {
        "height": 700,
        "legend": {
         "itemsizing": "constant",
         "title": {
          "text": "outcome_bool_5"
         },
         "tracegroupgap": 0
        },
        "margin": {
         "t": 60
        },
        "template": {
         "data": {
          "bar": [
           {
            "error_x": {
             "color": "#2a3f5f"
            },
            "error_y": {
             "color": "#2a3f5f"
            },
            "marker": {
             "line": {
              "color": "#E5ECF6",
              "width": 0.5
             },
             "pattern": {
              "fillmode": "overlay",
              "size": 10,
              "solidity": 0.2
             }
            },
            "type": "bar"
           }
          ],
          "barpolar": [
           {
            "marker": {
             "line": {
              "color": "#E5ECF6",
              "width": 0.5
             },
             "pattern": {
              "fillmode": "overlay",
              "size": 10,
              "solidity": 0.2
             }
            },
            "type": "barpolar"
           }
          ],
          "carpet": [
           {
            "aaxis": {
             "endlinecolor": "#2a3f5f",
             "gridcolor": "white",
             "linecolor": "white",
             "minorgridcolor": "white",
             "startlinecolor": "#2a3f5f"
            },
            "baxis": {
             "endlinecolor": "#2a3f5f",
             "gridcolor": "white",
             "linecolor": "white",
             "minorgridcolor": "white",
             "startlinecolor": "#2a3f5f"
            },
            "type": "carpet"
           }
          ],
          "choropleth": [
           {
            "colorbar": {
             "outlinewidth": 0,
             "ticks": ""
            },
            "type": "choropleth"
           }
          ],
          "contour": [
           {
            "colorbar": {
             "outlinewidth": 0,
             "ticks": ""
            },
            "colorscale": [
             [
              0,
              "#0d0887"
             ],
             [
              0.1111111111111111,
              "#46039f"
             ],
             [
              0.2222222222222222,
              "#7201a8"
             ],
             [
              0.3333333333333333,
              "#9c179e"
             ],
             [
              0.4444444444444444,
              "#bd3786"
             ],
             [
              0.5555555555555556,
              "#d8576b"
             ],
             [
              0.6666666666666666,
              "#ed7953"
             ],
             [
              0.7777777777777778,
              "#fb9f3a"
             ],
             [
              0.8888888888888888,
              "#fdca26"
             ],
             [
              1,
              "#f0f921"
             ]
            ],
            "type": "contour"
           }
          ],
          "contourcarpet": [
           {
            "colorbar": {
             "outlinewidth": 0,
             "ticks": ""
            },
            "type": "contourcarpet"
           }
          ],
          "heatmap": [
           {
            "colorbar": {
             "outlinewidth": 0,
             "ticks": ""
            },
            "colorscale": [
             [
              0,
              "#0d0887"
             ],
             [
              0.1111111111111111,
              "#46039f"
             ],
             [
              0.2222222222222222,
              "#7201a8"
             ],
             [
              0.3333333333333333,
              "#9c179e"
             ],
             [
              0.4444444444444444,
              "#bd3786"
             ],
             [
              0.5555555555555556,
              "#d8576b"
             ],
             [
              0.6666666666666666,
              "#ed7953"
             ],
             [
              0.7777777777777778,
              "#fb9f3a"
             ],
             [
              0.8888888888888888,
              "#fdca26"
             ],
             [
              1,
              "#f0f921"
             ]
            ],
            "type": "heatmap"
           }
          ],
          "heatmapgl": [
           {
            "colorbar": {
             "outlinewidth": 0,
             "ticks": ""
            },
            "colorscale": [
             [
              0,
              "#0d0887"
             ],
             [
              0.1111111111111111,
              "#46039f"
             ],
             [
              0.2222222222222222,
              "#7201a8"
             ],
             [
              0.3333333333333333,
              "#9c179e"
             ],
             [
              0.4444444444444444,
              "#bd3786"
             ],
             [
              0.5555555555555556,
              "#d8576b"
             ],
             [
              0.6666666666666666,
              "#ed7953"
             ],
             [
              0.7777777777777778,
              "#fb9f3a"
             ],
             [
              0.8888888888888888,
              "#fdca26"
             ],
             [
              1,
              "#f0f921"
             ]
            ],
            "type": "heatmapgl"
           }
          ],
          "histogram": [
           {
            "marker": {
             "pattern": {
              "fillmode": "overlay",
              "size": 10,
              "solidity": 0.2
             }
            },
            "type": "histogram"
           }
          ],
          "histogram2d": [
           {
            "colorbar": {
             "outlinewidth": 0,
             "ticks": ""
            },
            "colorscale": [
             [
              0,
              "#0d0887"
             ],
             [
              0.1111111111111111,
              "#46039f"
             ],
             [
              0.2222222222222222,
              "#7201a8"
             ],
             [
              0.3333333333333333,
              "#9c179e"
             ],
             [
              0.4444444444444444,
              "#bd3786"
             ],
             [
              0.5555555555555556,
              "#d8576b"
             ],
             [
              0.6666666666666666,
              "#ed7953"
             ],
             [
              0.7777777777777778,
              "#fb9f3a"
             ],
             [
              0.8888888888888888,
              "#fdca26"
             ],
             [
              1,
              "#f0f921"
             ]
            ],
            "type": "histogram2d"
           }
          ],
          "histogram2dcontour": [
           {
            "colorbar": {
             "outlinewidth": 0,
             "ticks": ""
            },
            "colorscale": [
             [
              0,
              "#0d0887"
             ],
             [
              0.1111111111111111,
              "#46039f"
             ],
             [
              0.2222222222222222,
              "#7201a8"
             ],
             [
              0.3333333333333333,
              "#9c179e"
             ],
             [
              0.4444444444444444,
              "#bd3786"
             ],
             [
              0.5555555555555556,
              "#d8576b"
             ],
             [
              0.6666666666666666,
              "#ed7953"
             ],
             [
              0.7777777777777778,
              "#fb9f3a"
             ],
             [
              0.8888888888888888,
              "#fdca26"
             ],
             [
              1,
              "#f0f921"
             ]
            ],
            "type": "histogram2dcontour"
           }
          ],
          "mesh3d": [
           {
            "colorbar": {
             "outlinewidth": 0,
             "ticks": ""
            },
            "type": "mesh3d"
           }
          ],
          "parcoords": [
           {
            "line": {
             "colorbar": {
              "outlinewidth": 0,
              "ticks": ""
             }
            },
            "type": "parcoords"
           }
          ],
          "pie": [
           {
            "automargin": true,
            "type": "pie"
           }
          ],
          "scatter": [
           {
            "fillpattern": {
             "fillmode": "overlay",
             "size": 10,
             "solidity": 0.2
            },
            "type": "scatter"
           }
          ],
          "scatter3d": [
           {
            "line": {
             "colorbar": {
              "outlinewidth": 0,
              "ticks": ""
             }
            },
            "marker": {
             "colorbar": {
              "outlinewidth": 0,
              "ticks": ""
             }
            },
            "type": "scatter3d"
           }
          ],
          "scattercarpet": [
           {
            "marker": {
             "colorbar": {
              "outlinewidth": 0,
              "ticks": ""
             }
            },
            "type": "scattercarpet"
           }
          ],
          "scattergeo": [
           {
            "marker": {
             "colorbar": {
              "outlinewidth": 0,
              "ticks": ""
             }
            },
            "type": "scattergeo"
           }
          ],
          "scattergl": [
           {
            "marker": {
             "colorbar": {
              "outlinewidth": 0,
              "ticks": ""
             }
            },
            "type": "scattergl"
           }
          ],
          "scattermapbox": [
           {
            "marker": {
             "colorbar": {
              "outlinewidth": 0,
              "ticks": ""
             }
            },
            "type": "scattermapbox"
           }
          ],
          "scatterpolar": [
           {
            "marker": {
             "colorbar": {
              "outlinewidth": 0,
              "ticks": ""
             }
            },
            "type": "scatterpolar"
           }
          ],
          "scatterpolargl": [
           {
            "marker": {
             "colorbar": {
              "outlinewidth": 0,
              "ticks": ""
             }
            },
            "type": "scatterpolargl"
           }
          ],
          "scatterternary": [
           {
            "marker": {
             "colorbar": {
              "outlinewidth": 0,
              "ticks": ""
             }
            },
            "type": "scatterternary"
           }
          ],
          "surface": [
           {
            "colorbar": {
             "outlinewidth": 0,
             "ticks": ""
            },
            "colorscale": [
             [
              0,
              "#0d0887"
             ],
             [
              0.1111111111111111,
              "#46039f"
             ],
             [
              0.2222222222222222,
              "#7201a8"
             ],
             [
              0.3333333333333333,
              "#9c179e"
             ],
             [
              0.4444444444444444,
              "#bd3786"
             ],
             [
              0.5555555555555556,
              "#d8576b"
             ],
             [
              0.6666666666666666,
              "#ed7953"
             ],
             [
              0.7777777777777778,
              "#fb9f3a"
             ],
             [
              0.8888888888888888,
              "#fdca26"
             ],
             [
              1,
              "#f0f921"
             ]
            ],
            "type": "surface"
           }
          ],
          "table": [
           {
            "cells": {
             "fill": {
              "color": "#EBF0F8"
             },
             "line": {
              "color": "white"
             }
            },
            "header": {
             "fill": {
              "color": "#C8D4E3"
             },
             "line": {
              "color": "white"
             }
            },
            "type": "table"
           }
          ]
         },
         "layout": {
          "annotationdefaults": {
           "arrowcolor": "#2a3f5f",
           "arrowhead": 0,
           "arrowwidth": 1
          },
          "autotypenumbers": "strict",
          "coloraxis": {
           "colorbar": {
            "outlinewidth": 0,
            "ticks": ""
           }
          },
          "colorscale": {
           "diverging": [
            [
             0,
             "#8e0152"
            ],
            [
             0.1,
             "#c51b7d"
            ],
            [
             0.2,
             "#de77ae"
            ],
            [
             0.3,
             "#f1b6da"
            ],
            [
             0.4,
             "#fde0ef"
            ],
            [
             0.5,
             "#f7f7f7"
            ],
            [
             0.6,
             "#e6f5d0"
            ],
            [
             0.7,
             "#b8e186"
            ],
            [
             0.8,
             "#7fbc41"
            ],
            [
             0.9,
             "#4d9221"
            ],
            [
             1,
             "#276419"
            ]
           ],
           "sequential": [
            [
             0,
             "#0d0887"
            ],
            [
             0.1111111111111111,
             "#46039f"
            ],
            [
             0.2222222222222222,
             "#7201a8"
            ],
            [
             0.3333333333333333,
             "#9c179e"
            ],
            [
             0.4444444444444444,
             "#bd3786"
            ],
            [
             0.5555555555555556,
             "#d8576b"
            ],
            [
             0.6666666666666666,
             "#ed7953"
            ],
            [
             0.7777777777777778,
             "#fb9f3a"
            ],
            [
             0.8888888888888888,
             "#fdca26"
            ],
            [
             1,
             "#f0f921"
            ]
           ],
           "sequentialminus": [
            [
             0,
             "#0d0887"
            ],
            [
             0.1111111111111111,
             "#46039f"
            ],
            [
             0.2222222222222222,
             "#7201a8"
            ],
            [
             0.3333333333333333,
             "#9c179e"
            ],
            [
             0.4444444444444444,
             "#bd3786"
            ],
            [
             0.5555555555555556,
             "#d8576b"
            ],
            [
             0.6666666666666666,
             "#ed7953"
            ],
            [
             0.7777777777777778,
             "#fb9f3a"
            ],
            [
             0.8888888888888888,
             "#fdca26"
            ],
            [
             1,
             "#f0f921"
            ]
           ]
          },
          "colorway": [
           "#636efa",
           "#EF553B",
           "#00cc96",
           "#ab63fa",
           "#FFA15A",
           "#19d3f3",
           "#FF6692",
           "#B6E880",
           "#FF97FF",
           "#FECB52"
          ],
          "font": {
           "color": "#2a3f5f"
          },
          "geo": {
           "bgcolor": "white",
           "lakecolor": "white",
           "landcolor": "#E5ECF6",
           "showlakes": true,
           "showland": true,
           "subunitcolor": "white"
          },
          "hoverlabel": {
           "align": "left"
          },
          "hovermode": "closest",
          "mapbox": {
           "style": "light"
          },
          "paper_bgcolor": "white",
          "plot_bgcolor": "#E5ECF6",
          "polar": {
           "angularaxis": {
            "gridcolor": "white",
            "linecolor": "white",
            "ticks": ""
           },
           "bgcolor": "#E5ECF6",
           "radialaxis": {
            "gridcolor": "white",
            "linecolor": "white",
            "ticks": ""
           }
          },
          "scene": {
           "xaxis": {
            "backgroundcolor": "#E5ECF6",
            "gridcolor": "white",
            "gridwidth": 2,
            "linecolor": "white",
            "showbackground": true,
            "ticks": "",
            "zerolinecolor": "white"
           },
           "yaxis": {
            "backgroundcolor": "#E5ECF6",
            "gridcolor": "white",
            "gridwidth": 2,
            "linecolor": "white",
            "showbackground": true,
            "ticks": "",
            "zerolinecolor": "white"
           },
           "zaxis": {
            "backgroundcolor": "#E5ECF6",
            "gridcolor": "white",
            "gridwidth": 2,
            "linecolor": "white",
            "showbackground": true,
            "ticks": "",
            "zerolinecolor": "white"
           }
          },
          "shapedefaults": {
           "line": {
            "color": "#2a3f5f"
           }
          },
          "ternary": {
           "aaxis": {
            "gridcolor": "white",
            "linecolor": "white",
            "ticks": ""
           },
           "baxis": {
            "gridcolor": "white",
            "linecolor": "white",
            "ticks": ""
           },
           "bgcolor": "#E5ECF6",
           "caxis": {
            "gridcolor": "white",
            "linecolor": "white",
            "ticks": ""
           }
          },
          "title": {
           "x": 0.05
          },
          "xaxis": {
           "automargin": true,
           "gridcolor": "white",
           "linecolor": "white",
           "ticks": "",
           "title": {
            "standoff": 15
           },
           "zerolinecolor": "white",
           "zerolinewidth": 2
          },
          "yaxis": {
           "automargin": true,
           "gridcolor": "white",
           "linecolor": "white",
           "ticks": "",
           "title": {
            "standoff": 15
           },
           "zerolinecolor": "white",
           "zerolinewidth": 2
          }
         }
        },
        "width": 800,
        "xaxis": {
         "anchor": "y",
         "domain": [
          0,
          1
         ],
         "title": {
          "text": "diff_5"
         }
        },
        "yaxis": {
         "anchor": "x",
         "domain": [
          0,
          1
         ],
         "title": {
          "text": "pred_5"
         }
        }
       }
      }
     },
     "metadata": {},
     "output_type": "display_data"
    }
   ],
   "source": [
    "\n",
    "\n",
    "px.scatter(df,\n",
    "           x='diff_5',\n",
    "           y='pred_5',\n",
    "           hover_name='player',\n",
    "           color='outcome_bool_5',\n",
    "           color_discrete_sequence=px.colors.qualitative.Safe,\n",
    "           trendline = 'ols',trendline_scope='overall',trendline_color_override = 'darkslategrey',\n",
    "           width=800,\n",
    "           height=700,\n",
    "           size='odds_5')#.add_shape(type=\"line\", x0=0, y0=0, x1=1, y1=1)"
   ]
  },
  {
   "cell_type": "code",
   "execution_count": 65,
   "metadata": {},
   "outputs": [
    {
     "data": {
      "application/vnd.plotly.v1+json": {
       "config": {
        "plotlyServerURL": "https://plot.ly"
       },
       "data": [
        {
         "hovertemplate": "<b>%{hovertext}</b><br><br>outcome_bool_win=loss<br>diff_win=%{x}<br>pred_win=%{y}<extra></extra>",
         "hovertext": [
          "Aberg, Ludvig",
          "An, Byeong Hun",
          "Barnes, Erik",
          "Bezuidenhout, Christiaan",
          "Bhatia, Akshay",
          "Bradley, Keegan",
          "Burns, Sam",
          "Cantlay, Patrick",
          "Clark, Wyndham",
          "Cole, Eric",
          "Conners, Corey",
          "Davis, Cameron",
          "Day, Jason",
          "Detry, Thomas",
          "Dunlap, Nick",
          "Eckroat, Austin",
          "English, Harris",
          "Finau, Tony",
          "Fitzpatrick, Matt",
          "Fleetwood, Tommy",
          "Fowler, Rickie",
          "Garnett, Brice",
          "Glover, Lucas",
          "Grillo, Emiliano",
          "Hadwin, Adam",
          "Harman, Brian",
          "Henley, Russell",
          "Hodges, Lee",
          "Hoge, Tom",
          "Homa, Max",
          "Hughes, Mackenzie",
          "Im, Sungjae",
          "Jaeger, Stephan",
          "Kim, Si Woo",
          "Kim, Tom",
          "Kirk, Chris",
          "Kisner, Kevin",
          "Kitayama, Kurt",
          "Knapp, Jake",
          "Lowry, Shane",
          "Malnati, Peter",
          "McCarthy, Denny",
          "McIlroy, Rory",
          "Moore, Taylor",
          "Morikawa, Collin",
          "Murray, Grayson",
          "Pavon, Matthieu",
          "Phillips, Chandler",
          "Poston, J.T.",
          "Power, Seamus",
          "Putnam, Andrew",
          "Rodgers, Patrick",
          "Rose, Justin",
          "Schauffele, Xander",
          "Schenk, Adam",
          "Simpson, Webb",
          "Spieth, Jordan",
          "Straka, Sepp",
          "Svensson, Adam",
          "Taylor, Nick",
          "Theegala, Sahith",
          "Thomas, Justin",
          "Todd, Brendon",
          "Tosti, Alejandro",
          "Van Rooyen, Erik",
          "Woodland, Gary",
          "Young, Cameron",
          "Zalatoris, Will"
         ],
         "legendgroup": "loss",
         "marker": {
          "color": "rgb(136, 204, 238)",
          "symbol": "circle"
         },
         "mode": "markers",
         "name": "loss",
         "orientation": "v",
         "showlegend": true,
         "type": "scatter",
         "x": [
          -0.04,
          -0.01,
          0,
          -0.01,
          0,
          0,
          -0.01,
          -0.03,
          -0.02,
          0,
          0,
          -0.01,
          -0.01,
          -0.01,
          -0.01,
          0,
          0,
          -0.01,
          -0.02,
          -0.010000000000000002,
          -0.01,
          0,
          0,
          0,
          0,
          -0.01,
          0.009999999999999998,
          0,
          0,
          -0.02,
          0,
          -0.01,
          0,
          0,
          -0.01,
          -0.01,
          0,
          0,
          -0.01,
          0,
          0,
          0,
          -0.05,
          -0.01,
          -0.010000000000000002,
          0,
          0,
          0,
          -0.01,
          0,
          0,
          -0.01,
          -0.01,
          -0.01999999999999999,
          0,
          0,
          -0.03,
          -0.01,
          -0.01,
          0,
          -0.009999999999999998,
          -0.019999999999999997,
          0,
          0,
          0,
          0,
          -0.02,
          -0.03
         ],
         "xaxis": "x",
         "y": [
          0.04,
          0.01,
          0,
          0.01,
          0.02,
          0.01,
          0.01,
          0.03,
          0.02,
          0.01,
          0.02,
          0.01,
          0.01,
          0,
          0,
          0.01,
          0.02,
          0.01,
          0.02,
          0.04,
          0,
          0,
          0.01,
          0.01,
          0.01,
          0.01,
          0.03,
          0,
          0.01,
          0.02,
          0.01,
          0.01,
          0.01,
          0.03,
          0.01,
          0.01,
          0,
          0.01,
          0,
          0.02,
          0,
          0.02,
          0.03,
          0.01,
          0.04,
          0,
          0.01,
          0,
          0.01,
          0,
          0.01,
          0,
          0,
          0.07,
          0.01,
          0,
          0.01,
          0.01,
          0,
          0.01,
          0.02,
          0.01,
          0.01,
          0,
          0.01,
          0,
          0.02,
          0.01
         ],
         "yaxis": "y"
        },
        {
         "hovertemplate": "<b>%{hovertext}</b><br><br>outcome_bool_win=win<br>diff_win=%{x}<br>pred_win=%{y}<extra></extra>",
         "hovertext": [
          "Scheffler, Scottie"
         ],
         "legendgroup": "win",
         "marker": {
          "color": "rgb(204, 102, 119)",
          "symbol": "circle"
         },
         "mode": "markers",
         "name": "win",
         "orientation": "v",
         "showlegend": true,
         "type": "scatter",
         "x": [
          -0.04999999999999999
         ],
         "xaxis": "x",
         "y": [
          0.17
         ],
         "yaxis": "y"
        },
        {
         "hovertemplate": "<b>OLS trendline</b><br>pred_win = -1.06898 * diff_win + 0.00566204<br>R<sup>2</sup>=0.307433<br><br>diff_win=%{x}<br>pred_win=%{y} <b>(trend)</b><extra></extra>",
         "legendgroup": "Overall Trendline",
         "line": {
          "color": "black"
         },
         "mode": "lines",
         "name": "Overall Trendline",
         "showlegend": true,
         "type": "scatter",
         "x": [
          -0.05,
          -0.04999999999999999,
          -0.04,
          -0.03,
          -0.03,
          -0.03,
          -0.02,
          -0.02,
          -0.02,
          -0.02,
          -0.019999999999999997,
          -0.01999999999999999,
          -0.010000000000000002,
          -0.010000000000000002,
          -0.01,
          -0.01,
          -0.01,
          -0.01,
          -0.01,
          -0.01,
          -0.01,
          -0.01,
          -0.01,
          -0.01,
          -0.01,
          -0.01,
          -0.01,
          -0.01,
          -0.01,
          -0.01,
          -0.01,
          -0.01,
          -0.01,
          -0.01,
          -0.009999999999999998,
          0,
          0,
          0,
          0,
          0,
          0,
          0,
          0,
          0,
          0,
          0,
          0,
          0,
          0,
          0,
          0,
          0,
          0,
          0,
          0,
          0,
          0,
          0,
          0,
          0,
          0,
          0,
          0,
          0,
          0,
          0,
          0,
          0,
          0.009999999999999998
         ],
         "xaxis": "x",
         "y": [
          0.05911111111111113,
          0.05911111111111111,
          0.0484212962962963,
          0.037731481481481484,
          0.037731481481481484,
          0.037731481481481484,
          0.027041666666666672,
          0.027041666666666672,
          0.027041666666666672,
          0.027041666666666672,
          0.02704166666666667,
          0.027041666666666662,
          0.016351851851851857,
          0.016351851851851857,
          0.016351851851851854,
          0.016351851851851854,
          0.016351851851851854,
          0.016351851851851854,
          0.016351851851851854,
          0.016351851851851854,
          0.016351851851851854,
          0.016351851851851854,
          0.016351851851851854,
          0.016351851851851854,
          0.016351851851851854,
          0.016351851851851854,
          0.016351851851851854,
          0.016351851851851854,
          0.016351851851851854,
          0.016351851851851854,
          0.016351851851851854,
          0.016351851851851854,
          0.016351851851851854,
          0.016351851851851854,
          0.016351851851851854,
          0.0056620370370370375,
          0.0056620370370370375,
          0.0056620370370370375,
          0.0056620370370370375,
          0.0056620370370370375,
          0.0056620370370370375,
          0.0056620370370370375,
          0.0056620370370370375,
          0.0056620370370370375,
          0.0056620370370370375,
          0.0056620370370370375,
          0.0056620370370370375,
          0.0056620370370370375,
          0.0056620370370370375,
          0.0056620370370370375,
          0.0056620370370370375,
          0.0056620370370370375,
          0.0056620370370370375,
          0.0056620370370370375,
          0.0056620370370370375,
          0.0056620370370370375,
          0.0056620370370370375,
          0.0056620370370370375,
          0.0056620370370370375,
          0.0056620370370370375,
          0.0056620370370370375,
          0.0056620370370370375,
          0.0056620370370370375,
          0.0056620370370370375,
          0.0056620370370370375,
          0.0056620370370370375,
          0.0056620370370370375,
          0.0056620370370370375,
          -0.005027777777777778
         ],
         "yaxis": "y"
        }
       ],
       "layout": {
        "height": 700,
        "legend": {
         "title": {
          "text": "outcome_bool_win"
         },
         "tracegroupgap": 0
        },
        "margin": {
         "t": 60
        },
        "template": {
         "data": {
          "bar": [
           {
            "error_x": {
             "color": "#2a3f5f"
            },
            "error_y": {
             "color": "#2a3f5f"
            },
            "marker": {
             "line": {
              "color": "#E5ECF6",
              "width": 0.5
             },
             "pattern": {
              "fillmode": "overlay",
              "size": 10,
              "solidity": 0.2
             }
            },
            "type": "bar"
           }
          ],
          "barpolar": [
           {
            "marker": {
             "line": {
              "color": "#E5ECF6",
              "width": 0.5
             },
             "pattern": {
              "fillmode": "overlay",
              "size": 10,
              "solidity": 0.2
             }
            },
            "type": "barpolar"
           }
          ],
          "carpet": [
           {
            "aaxis": {
             "endlinecolor": "#2a3f5f",
             "gridcolor": "white",
             "linecolor": "white",
             "minorgridcolor": "white",
             "startlinecolor": "#2a3f5f"
            },
            "baxis": {
             "endlinecolor": "#2a3f5f",
             "gridcolor": "white",
             "linecolor": "white",
             "minorgridcolor": "white",
             "startlinecolor": "#2a3f5f"
            },
            "type": "carpet"
           }
          ],
          "choropleth": [
           {
            "colorbar": {
             "outlinewidth": 0,
             "ticks": ""
            },
            "type": "choropleth"
           }
          ],
          "contour": [
           {
            "colorbar": {
             "outlinewidth": 0,
             "ticks": ""
            },
            "colorscale": [
             [
              0,
              "#0d0887"
             ],
             [
              0.1111111111111111,
              "#46039f"
             ],
             [
              0.2222222222222222,
              "#7201a8"
             ],
             [
              0.3333333333333333,
              "#9c179e"
             ],
             [
              0.4444444444444444,
              "#bd3786"
             ],
             [
              0.5555555555555556,
              "#d8576b"
             ],
             [
              0.6666666666666666,
              "#ed7953"
             ],
             [
              0.7777777777777778,
              "#fb9f3a"
             ],
             [
              0.8888888888888888,
              "#fdca26"
             ],
             [
              1,
              "#f0f921"
             ]
            ],
            "type": "contour"
           }
          ],
          "contourcarpet": [
           {
            "colorbar": {
             "outlinewidth": 0,
             "ticks": ""
            },
            "type": "contourcarpet"
           }
          ],
          "heatmap": [
           {
            "colorbar": {
             "outlinewidth": 0,
             "ticks": ""
            },
            "colorscale": [
             [
              0,
              "#0d0887"
             ],
             [
              0.1111111111111111,
              "#46039f"
             ],
             [
              0.2222222222222222,
              "#7201a8"
             ],
             [
              0.3333333333333333,
              "#9c179e"
             ],
             [
              0.4444444444444444,
              "#bd3786"
             ],
             [
              0.5555555555555556,
              "#d8576b"
             ],
             [
              0.6666666666666666,
              "#ed7953"
             ],
             [
              0.7777777777777778,
              "#fb9f3a"
             ],
             [
              0.8888888888888888,
              "#fdca26"
             ],
             [
              1,
              "#f0f921"
             ]
            ],
            "type": "heatmap"
           }
          ],
          "heatmapgl": [
           {
            "colorbar": {
             "outlinewidth": 0,
             "ticks": ""
            },
            "colorscale": [
             [
              0,
              "#0d0887"
             ],
             [
              0.1111111111111111,
              "#46039f"
             ],
             [
              0.2222222222222222,
              "#7201a8"
             ],
             [
              0.3333333333333333,
              "#9c179e"
             ],
             [
              0.4444444444444444,
              "#bd3786"
             ],
             [
              0.5555555555555556,
              "#d8576b"
             ],
             [
              0.6666666666666666,
              "#ed7953"
             ],
             [
              0.7777777777777778,
              "#fb9f3a"
             ],
             [
              0.8888888888888888,
              "#fdca26"
             ],
             [
              1,
              "#f0f921"
             ]
            ],
            "type": "heatmapgl"
           }
          ],
          "histogram": [
           {
            "marker": {
             "pattern": {
              "fillmode": "overlay",
              "size": 10,
              "solidity": 0.2
             }
            },
            "type": "histogram"
           }
          ],
          "histogram2d": [
           {
            "colorbar": {
             "outlinewidth": 0,
             "ticks": ""
            },
            "colorscale": [
             [
              0,
              "#0d0887"
             ],
             [
              0.1111111111111111,
              "#46039f"
             ],
             [
              0.2222222222222222,
              "#7201a8"
             ],
             [
              0.3333333333333333,
              "#9c179e"
             ],
             [
              0.4444444444444444,
              "#bd3786"
             ],
             [
              0.5555555555555556,
              "#d8576b"
             ],
             [
              0.6666666666666666,
              "#ed7953"
             ],
             [
              0.7777777777777778,
              "#fb9f3a"
             ],
             [
              0.8888888888888888,
              "#fdca26"
             ],
             [
              1,
              "#f0f921"
             ]
            ],
            "type": "histogram2d"
           }
          ],
          "histogram2dcontour": [
           {
            "colorbar": {
             "outlinewidth": 0,
             "ticks": ""
            },
            "colorscale": [
             [
              0,
              "#0d0887"
             ],
             [
              0.1111111111111111,
              "#46039f"
             ],
             [
              0.2222222222222222,
              "#7201a8"
             ],
             [
              0.3333333333333333,
              "#9c179e"
             ],
             [
              0.4444444444444444,
              "#bd3786"
             ],
             [
              0.5555555555555556,
              "#d8576b"
             ],
             [
              0.6666666666666666,
              "#ed7953"
             ],
             [
              0.7777777777777778,
              "#fb9f3a"
             ],
             [
              0.8888888888888888,
              "#fdca26"
             ],
             [
              1,
              "#f0f921"
             ]
            ],
            "type": "histogram2dcontour"
           }
          ],
          "mesh3d": [
           {
            "colorbar": {
             "outlinewidth": 0,
             "ticks": ""
            },
            "type": "mesh3d"
           }
          ],
          "parcoords": [
           {
            "line": {
             "colorbar": {
              "outlinewidth": 0,
              "ticks": ""
             }
            },
            "type": "parcoords"
           }
          ],
          "pie": [
           {
            "automargin": true,
            "type": "pie"
           }
          ],
          "scatter": [
           {
            "fillpattern": {
             "fillmode": "overlay",
             "size": 10,
             "solidity": 0.2
            },
            "type": "scatter"
           }
          ],
          "scatter3d": [
           {
            "line": {
             "colorbar": {
              "outlinewidth": 0,
              "ticks": ""
             }
            },
            "marker": {
             "colorbar": {
              "outlinewidth": 0,
              "ticks": ""
             }
            },
            "type": "scatter3d"
           }
          ],
          "scattercarpet": [
           {
            "marker": {
             "colorbar": {
              "outlinewidth": 0,
              "ticks": ""
             }
            },
            "type": "scattercarpet"
           }
          ],
          "scattergeo": [
           {
            "marker": {
             "colorbar": {
              "outlinewidth": 0,
              "ticks": ""
             }
            },
            "type": "scattergeo"
           }
          ],
          "scattergl": [
           {
            "marker": {
             "colorbar": {
              "outlinewidth": 0,
              "ticks": ""
             }
            },
            "type": "scattergl"
           }
          ],
          "scattermapbox": [
           {
            "marker": {
             "colorbar": {
              "outlinewidth": 0,
              "ticks": ""
             }
            },
            "type": "scattermapbox"
           }
          ],
          "scatterpolar": [
           {
            "marker": {
             "colorbar": {
              "outlinewidth": 0,
              "ticks": ""
             }
            },
            "type": "scatterpolar"
           }
          ],
          "scatterpolargl": [
           {
            "marker": {
             "colorbar": {
              "outlinewidth": 0,
              "ticks": ""
             }
            },
            "type": "scatterpolargl"
           }
          ],
          "scatterternary": [
           {
            "marker": {
             "colorbar": {
              "outlinewidth": 0,
              "ticks": ""
             }
            },
            "type": "scatterternary"
           }
          ],
          "surface": [
           {
            "colorbar": {
             "outlinewidth": 0,
             "ticks": ""
            },
            "colorscale": [
             [
              0,
              "#0d0887"
             ],
             [
              0.1111111111111111,
              "#46039f"
             ],
             [
              0.2222222222222222,
              "#7201a8"
             ],
             [
              0.3333333333333333,
              "#9c179e"
             ],
             [
              0.4444444444444444,
              "#bd3786"
             ],
             [
              0.5555555555555556,
              "#d8576b"
             ],
             [
              0.6666666666666666,
              "#ed7953"
             ],
             [
              0.7777777777777778,
              "#fb9f3a"
             ],
             [
              0.8888888888888888,
              "#fdca26"
             ],
             [
              1,
              "#f0f921"
             ]
            ],
            "type": "surface"
           }
          ],
          "table": [
           {
            "cells": {
             "fill": {
              "color": "#EBF0F8"
             },
             "line": {
              "color": "white"
             }
            },
            "header": {
             "fill": {
              "color": "#C8D4E3"
             },
             "line": {
              "color": "white"
             }
            },
            "type": "table"
           }
          ]
         },
         "layout": {
          "annotationdefaults": {
           "arrowcolor": "#2a3f5f",
           "arrowhead": 0,
           "arrowwidth": 1
          },
          "autotypenumbers": "strict",
          "coloraxis": {
           "colorbar": {
            "outlinewidth": 0,
            "ticks": ""
           }
          },
          "colorscale": {
           "diverging": [
            [
             0,
             "#8e0152"
            ],
            [
             0.1,
             "#c51b7d"
            ],
            [
             0.2,
             "#de77ae"
            ],
            [
             0.3,
             "#f1b6da"
            ],
            [
             0.4,
             "#fde0ef"
            ],
            [
             0.5,
             "#f7f7f7"
            ],
            [
             0.6,
             "#e6f5d0"
            ],
            [
             0.7,
             "#b8e186"
            ],
            [
             0.8,
             "#7fbc41"
            ],
            [
             0.9,
             "#4d9221"
            ],
            [
             1,
             "#276419"
            ]
           ],
           "sequential": [
            [
             0,
             "#0d0887"
            ],
            [
             0.1111111111111111,
             "#46039f"
            ],
            [
             0.2222222222222222,
             "#7201a8"
            ],
            [
             0.3333333333333333,
             "#9c179e"
            ],
            [
             0.4444444444444444,
             "#bd3786"
            ],
            [
             0.5555555555555556,
             "#d8576b"
            ],
            [
             0.6666666666666666,
             "#ed7953"
            ],
            [
             0.7777777777777778,
             "#fb9f3a"
            ],
            [
             0.8888888888888888,
             "#fdca26"
            ],
            [
             1,
             "#f0f921"
            ]
           ],
           "sequentialminus": [
            [
             0,
             "#0d0887"
            ],
            [
             0.1111111111111111,
             "#46039f"
            ],
            [
             0.2222222222222222,
             "#7201a8"
            ],
            [
             0.3333333333333333,
             "#9c179e"
            ],
            [
             0.4444444444444444,
             "#bd3786"
            ],
            [
             0.5555555555555556,
             "#d8576b"
            ],
            [
             0.6666666666666666,
             "#ed7953"
            ],
            [
             0.7777777777777778,
             "#fb9f3a"
            ],
            [
             0.8888888888888888,
             "#fdca26"
            ],
            [
             1,
             "#f0f921"
            ]
           ]
          },
          "colorway": [
           "#636efa",
           "#EF553B",
           "#00cc96",
           "#ab63fa",
           "#FFA15A",
           "#19d3f3",
           "#FF6692",
           "#B6E880",
           "#FF97FF",
           "#FECB52"
          ],
          "font": {
           "color": "#2a3f5f"
          },
          "geo": {
           "bgcolor": "white",
           "lakecolor": "white",
           "landcolor": "#E5ECF6",
           "showlakes": true,
           "showland": true,
           "subunitcolor": "white"
          },
          "hoverlabel": {
           "align": "left"
          },
          "hovermode": "closest",
          "mapbox": {
           "style": "light"
          },
          "paper_bgcolor": "white",
          "plot_bgcolor": "#E5ECF6",
          "polar": {
           "angularaxis": {
            "gridcolor": "white",
            "linecolor": "white",
            "ticks": ""
           },
           "bgcolor": "#E5ECF6",
           "radialaxis": {
            "gridcolor": "white",
            "linecolor": "white",
            "ticks": ""
           }
          },
          "scene": {
           "xaxis": {
            "backgroundcolor": "#E5ECF6",
            "gridcolor": "white",
            "gridwidth": 2,
            "linecolor": "white",
            "showbackground": true,
            "ticks": "",
            "zerolinecolor": "white"
           },
           "yaxis": {
            "backgroundcolor": "#E5ECF6",
            "gridcolor": "white",
            "gridwidth": 2,
            "linecolor": "white",
            "showbackground": true,
            "ticks": "",
            "zerolinecolor": "white"
           },
           "zaxis": {
            "backgroundcolor": "#E5ECF6",
            "gridcolor": "white",
            "gridwidth": 2,
            "linecolor": "white",
            "showbackground": true,
            "ticks": "",
            "zerolinecolor": "white"
           }
          },
          "shapedefaults": {
           "line": {
            "color": "#2a3f5f"
           }
          },
          "ternary": {
           "aaxis": {
            "gridcolor": "white",
            "linecolor": "white",
            "ticks": ""
           },
           "baxis": {
            "gridcolor": "white",
            "linecolor": "white",
            "ticks": ""
           },
           "bgcolor": "#E5ECF6",
           "caxis": {
            "gridcolor": "white",
            "linecolor": "white",
            "ticks": ""
           }
          },
          "title": {
           "x": 0.05
          },
          "xaxis": {
           "automargin": true,
           "gridcolor": "white",
           "linecolor": "white",
           "ticks": "",
           "title": {
            "standoff": 15
           },
           "zerolinecolor": "white",
           "zerolinewidth": 2
          },
          "yaxis": {
           "automargin": true,
           "gridcolor": "white",
           "linecolor": "white",
           "ticks": "",
           "title": {
            "standoff": 15
           },
           "zerolinecolor": "white",
           "zerolinewidth": 2
          }
         }
        },
        "width": 800,
        "xaxis": {
         "anchor": "y",
         "domain": [
          0,
          1
         ],
         "title": {
          "text": "diff_win"
         }
        },
        "yaxis": {
         "anchor": "x",
         "domain": [
          0,
          1
         ],
         "title": {
          "text": "pred_win"
         }
        }
       }
      }
     },
     "metadata": {},
     "output_type": "display_data"
    }
   ],
   "source": [
    "\n",
    "\n",
    "# top5s['outcome'] = top5s['outcome'].astype('int')\n",
    "\n",
    "px.scatter(df,\n",
    "           x='diff_win',\n",
    "           y='pred_win',\n",
    "           hover_name='player',\n",
    "           color='outcome_bool_win',\n",
    "           color_discrete_sequence=px.colors.qualitative.Safe,\n",
    "           trendline = 'ols',trendline_scope='overall',trendline_color_override = 'black',\n",
    "           width=800,\n",
    "           height=700,)"
   ]
  },
  {
   "cell_type": "code",
   "execution_count": 80,
   "metadata": {},
   "outputs": [],
   "source": [
    "temp = df.sort_values('outcome')"
   ]
  },
  {
   "cell_type": "code",
   "execution_count": 90,
   "metadata": {},
   "outputs": [
    {
     "data": {
      "application/vnd.plotly.v1+json": {
       "config": {
        "plotlyServerURL": "https://plot.ly"
       },
       "data": [
        {
         "alignmentgroup": "True",
         "hovertemplate": "player=%{x}<br>outcome=%{y}<br>diff_20=%{marker.color}<extra></extra>",
         "legendgroup": "",
         "marker": {
          "color": [
           0.1100000000000001,
           0.15000000000000002,
           0.06,
           0.08999999999999997,
           0.07,
           0.13999999999999999,
           0.05,
           0.16000000000000003,
           0.14,
           0.18,
           0.09000000000000002,
           0.13999999999999999,
           0.12999999999999998,
           0.09000000000000001,
           0.24000000000000002,
           0.11000000000000001,
           0.16,
           0.09999999999999998,
           0.19999999999999998,
           0.020000000000000018,
           0.06,
           0.09999999999999998,
           0.25,
           0.13,
           0.18000000000000002,
           0.1,
           0.10999999999999999,
           0.10999999999999999,
           0.18999999999999997,
           0.16,
           0.06000000000000001,
           0.18999999999999997,
           0.21000000000000002,
           0.15000000000000002,
           0.010000000000000009,
           0.07999999999999999,
           0.010000000000000002,
           0.09999999999999999,
           0.08,
           0.050000000000000044,
           0.12,
           0.12,
           0.13,
           0.11000000000000001,
           0.06,
           0.03,
           0.15,
           0.050000000000000044,
           0.14,
           0.16999999999999998,
           0.12,
           0.16999999999999998,
           0.05000000000000002,
           0.09000000000000001,
           0.10999999999999999,
           0.07999999999999999,
           0.08000000000000002,
           0.16999999999999998,
           0.030000000000000006,
           0.11000000000000001,
           0.13,
           0.009999999999999995,
           0.12999999999999995,
           0.020000000000000004,
           0.13,
           0.22000000000000003,
           0.11999999999999997,
           0,
           0
          ],
          "coloraxis": "coloraxis",
          "pattern": {
           "shape": ""
          }
         },
         "name": "",
         "offsetgroup": "",
         "orientation": "v",
         "showlegend": false,
         "textposition": "auto",
         "type": "bar",
         "x": [
          "Scheffler, Scottie",
          "Theegala, Sahith",
          "Cantlay, Patrick",
          "Clark, Wyndham",
          "Thomas, Justin",
          "Straka, Sepp",
          "Rodgers, Patrick",
          "Poston, J.T.",
          "Morikawa, Collin",
          "Kirk, Chris",
          "Aberg, Ludvig",
          "Im, Sungjae",
          "Finau, Tony",
          "Power, Seamus",
          "Henley, Russell",
          "Harman, Brian",
          "Eckroat, Austin",
          "Day, Jason",
          "Bhatia, Akshay",
          "Fowler, Rickie",
          "Garnett, Brice",
          "Kim, Tom",
          "Kim, Si Woo",
          "Schauffele, Xander",
          "Putnam, Andrew",
          "Jaeger, Stephan",
          "Hoge, Tom",
          "Fitzpatrick, Matt",
          "English, Harris",
          "Bezuidenhout, Christiaan",
          "Detry, Thomas",
          "McCarthy, Denny",
          "Glover, Lucas",
          "Kitayama, Kurt",
          "McIlroy, Rory",
          "Cole, Eric",
          "Tosti, Alejandro",
          "Van Rooyen, Erik",
          "Murray, Grayson",
          "Spieth, Jordan",
          "Hughes, Mackenzie",
          "Simpson, Webb",
          "Hadwin, Adam",
          "Burns, Sam",
          "Svensson, Adam",
          "Rose, Justin",
          "Conners, Corey",
          "Zalatoris, Will",
          "Fleetwood, Tommy",
          "Schenk, Adam",
          "Taylor, Nick",
          "Pavon, Matthieu",
          "Davis, Cameron",
          "Malnati, Peter",
          "Bradley, Keegan",
          "Phillips, Chandler",
          "Homa, Max",
          "Todd, Brendon",
          "Barnes, Erik",
          "Moore, Taylor",
          "Hodges, Lee",
          "Knapp, Jake",
          "Young, Cameron",
          "Woodland, Gary",
          "Grillo, Emiliano",
          "Lowry, Shane",
          "An, Byeong Hun",
          "Kisner, Kevin",
          "Dunlap, Nick"
         ],
         "xaxis": "x",
         "y": [
          1,
          2,
          3,
          3,
          5,
          5,
          5,
          5,
          9,
          10,
          10,
          12,
          12,
          12,
          12,
          12,
          17,
          18,
          18,
          18,
          18,
          18,
          18,
          18,
          18,
          18,
          18,
          28,
          28,
          28,
          28,
          28,
          33,
          33,
          33,
          33,
          33,
          33,
          39,
          39,
          39,
          42,
          42,
          44,
          44,
          44,
          44,
          44,
          49,
          49,
          49,
          49,
          49,
          49,
          55,
          55,
          55,
          58,
          58,
          58,
          58,
          62,
          62,
          64,
          64,
          64,
          67,
          68,
          69
         ],
         "yaxis": "y"
        }
       ],
       "layout": {
        "barmode": "relative",
        "coloraxis": {
         "colorbar": {
          "title": {
           "text": "diff_20"
          }
         },
         "colorscale": [
          [
           0,
           "#0d0887"
          ],
          [
           0.1111111111111111,
           "#46039f"
          ],
          [
           0.2222222222222222,
           "#7201a8"
          ],
          [
           0.3333333333333333,
           "#9c179e"
          ],
          [
           0.4444444444444444,
           "#bd3786"
          ],
          [
           0.5555555555555556,
           "#d8576b"
          ],
          [
           0.6666666666666666,
           "#ed7953"
          ],
          [
           0.7777777777777778,
           "#fb9f3a"
          ],
          [
           0.8888888888888888,
           "#fdca26"
          ],
          [
           1,
           "#f0f921"
          ]
         ]
        },
        "legend": {
         "tracegroupgap": 0
        },
        "margin": {
         "t": 60
        },
        "shapes": [
         {
          "type": "line",
          "x0": "Kim, Si Woo",
          "x1": "Kim, Si Woo",
          "xref": "x",
          "y0": 0,
          "y1": 1,
          "yref": "y domain"
         }
        ],
        "template": {
         "data": {
          "bar": [
           {
            "error_x": {
             "color": "#2a3f5f"
            },
            "error_y": {
             "color": "#2a3f5f"
            },
            "marker": {
             "line": {
              "color": "#E5ECF6",
              "width": 0.5
             },
             "pattern": {
              "fillmode": "overlay",
              "size": 10,
              "solidity": 0.2
             }
            },
            "type": "bar"
           }
          ],
          "barpolar": [
           {
            "marker": {
             "line": {
              "color": "#E5ECF6",
              "width": 0.5
             },
             "pattern": {
              "fillmode": "overlay",
              "size": 10,
              "solidity": 0.2
             }
            },
            "type": "barpolar"
           }
          ],
          "carpet": [
           {
            "aaxis": {
             "endlinecolor": "#2a3f5f",
             "gridcolor": "white",
             "linecolor": "white",
             "minorgridcolor": "white",
             "startlinecolor": "#2a3f5f"
            },
            "baxis": {
             "endlinecolor": "#2a3f5f",
             "gridcolor": "white",
             "linecolor": "white",
             "minorgridcolor": "white",
             "startlinecolor": "#2a3f5f"
            },
            "type": "carpet"
           }
          ],
          "choropleth": [
           {
            "colorbar": {
             "outlinewidth": 0,
             "ticks": ""
            },
            "type": "choropleth"
           }
          ],
          "contour": [
           {
            "colorbar": {
             "outlinewidth": 0,
             "ticks": ""
            },
            "colorscale": [
             [
              0,
              "#0d0887"
             ],
             [
              0.1111111111111111,
              "#46039f"
             ],
             [
              0.2222222222222222,
              "#7201a8"
             ],
             [
              0.3333333333333333,
              "#9c179e"
             ],
             [
              0.4444444444444444,
              "#bd3786"
             ],
             [
              0.5555555555555556,
              "#d8576b"
             ],
             [
              0.6666666666666666,
              "#ed7953"
             ],
             [
              0.7777777777777778,
              "#fb9f3a"
             ],
             [
              0.8888888888888888,
              "#fdca26"
             ],
             [
              1,
              "#f0f921"
             ]
            ],
            "type": "contour"
           }
          ],
          "contourcarpet": [
           {
            "colorbar": {
             "outlinewidth": 0,
             "ticks": ""
            },
            "type": "contourcarpet"
           }
          ],
          "heatmap": [
           {
            "colorbar": {
             "outlinewidth": 0,
             "ticks": ""
            },
            "colorscale": [
             [
              0,
              "#0d0887"
             ],
             [
              0.1111111111111111,
              "#46039f"
             ],
             [
              0.2222222222222222,
              "#7201a8"
             ],
             [
              0.3333333333333333,
              "#9c179e"
             ],
             [
              0.4444444444444444,
              "#bd3786"
             ],
             [
              0.5555555555555556,
              "#d8576b"
             ],
             [
              0.6666666666666666,
              "#ed7953"
             ],
             [
              0.7777777777777778,
              "#fb9f3a"
             ],
             [
              0.8888888888888888,
              "#fdca26"
             ],
             [
              1,
              "#f0f921"
             ]
            ],
            "type": "heatmap"
           }
          ],
          "heatmapgl": [
           {
            "colorbar": {
             "outlinewidth": 0,
             "ticks": ""
            },
            "colorscale": [
             [
              0,
              "#0d0887"
             ],
             [
              0.1111111111111111,
              "#46039f"
             ],
             [
              0.2222222222222222,
              "#7201a8"
             ],
             [
              0.3333333333333333,
              "#9c179e"
             ],
             [
              0.4444444444444444,
              "#bd3786"
             ],
             [
              0.5555555555555556,
              "#d8576b"
             ],
             [
              0.6666666666666666,
              "#ed7953"
             ],
             [
              0.7777777777777778,
              "#fb9f3a"
             ],
             [
              0.8888888888888888,
              "#fdca26"
             ],
             [
              1,
              "#f0f921"
             ]
            ],
            "type": "heatmapgl"
           }
          ],
          "histogram": [
           {
            "marker": {
             "pattern": {
              "fillmode": "overlay",
              "size": 10,
              "solidity": 0.2
             }
            },
            "type": "histogram"
           }
          ],
          "histogram2d": [
           {
            "colorbar": {
             "outlinewidth": 0,
             "ticks": ""
            },
            "colorscale": [
             [
              0,
              "#0d0887"
             ],
             [
              0.1111111111111111,
              "#46039f"
             ],
             [
              0.2222222222222222,
              "#7201a8"
             ],
             [
              0.3333333333333333,
              "#9c179e"
             ],
             [
              0.4444444444444444,
              "#bd3786"
             ],
             [
              0.5555555555555556,
              "#d8576b"
             ],
             [
              0.6666666666666666,
              "#ed7953"
             ],
             [
              0.7777777777777778,
              "#fb9f3a"
             ],
             [
              0.8888888888888888,
              "#fdca26"
             ],
             [
              1,
              "#f0f921"
             ]
            ],
            "type": "histogram2d"
           }
          ],
          "histogram2dcontour": [
           {
            "colorbar": {
             "outlinewidth": 0,
             "ticks": ""
            },
            "colorscale": [
             [
              0,
              "#0d0887"
             ],
             [
              0.1111111111111111,
              "#46039f"
             ],
             [
              0.2222222222222222,
              "#7201a8"
             ],
             [
              0.3333333333333333,
              "#9c179e"
             ],
             [
              0.4444444444444444,
              "#bd3786"
             ],
             [
              0.5555555555555556,
              "#d8576b"
             ],
             [
              0.6666666666666666,
              "#ed7953"
             ],
             [
              0.7777777777777778,
              "#fb9f3a"
             ],
             [
              0.8888888888888888,
              "#fdca26"
             ],
             [
              1,
              "#f0f921"
             ]
            ],
            "type": "histogram2dcontour"
           }
          ],
          "mesh3d": [
           {
            "colorbar": {
             "outlinewidth": 0,
             "ticks": ""
            },
            "type": "mesh3d"
           }
          ],
          "parcoords": [
           {
            "line": {
             "colorbar": {
              "outlinewidth": 0,
              "ticks": ""
             }
            },
            "type": "parcoords"
           }
          ],
          "pie": [
           {
            "automargin": true,
            "type": "pie"
           }
          ],
          "scatter": [
           {
            "fillpattern": {
             "fillmode": "overlay",
             "size": 10,
             "solidity": 0.2
            },
            "type": "scatter"
           }
          ],
          "scatter3d": [
           {
            "line": {
             "colorbar": {
              "outlinewidth": 0,
              "ticks": ""
             }
            },
            "marker": {
             "colorbar": {
              "outlinewidth": 0,
              "ticks": ""
             }
            },
            "type": "scatter3d"
           }
          ],
          "scattercarpet": [
           {
            "marker": {
             "colorbar": {
              "outlinewidth": 0,
              "ticks": ""
             }
            },
            "type": "scattercarpet"
           }
          ],
          "scattergeo": [
           {
            "marker": {
             "colorbar": {
              "outlinewidth": 0,
              "ticks": ""
             }
            },
            "type": "scattergeo"
           }
          ],
          "scattergl": [
           {
            "marker": {
             "colorbar": {
              "outlinewidth": 0,
              "ticks": ""
             }
            },
            "type": "scattergl"
           }
          ],
          "scattermapbox": [
           {
            "marker": {
             "colorbar": {
              "outlinewidth": 0,
              "ticks": ""
             }
            },
            "type": "scattermapbox"
           }
          ],
          "scatterpolar": [
           {
            "marker": {
             "colorbar": {
              "outlinewidth": 0,
              "ticks": ""
             }
            },
            "type": "scatterpolar"
           }
          ],
          "scatterpolargl": [
           {
            "marker": {
             "colorbar": {
              "outlinewidth": 0,
              "ticks": ""
             }
            },
            "type": "scatterpolargl"
           }
          ],
          "scatterternary": [
           {
            "marker": {
             "colorbar": {
              "outlinewidth": 0,
              "ticks": ""
             }
            },
            "type": "scatterternary"
           }
          ],
          "surface": [
           {
            "colorbar": {
             "outlinewidth": 0,
             "ticks": ""
            },
            "colorscale": [
             [
              0,
              "#0d0887"
             ],
             [
              0.1111111111111111,
              "#46039f"
             ],
             [
              0.2222222222222222,
              "#7201a8"
             ],
             [
              0.3333333333333333,
              "#9c179e"
             ],
             [
              0.4444444444444444,
              "#bd3786"
             ],
             [
              0.5555555555555556,
              "#d8576b"
             ],
             [
              0.6666666666666666,
              "#ed7953"
             ],
             [
              0.7777777777777778,
              "#fb9f3a"
             ],
             [
              0.8888888888888888,
              "#fdca26"
             ],
             [
              1,
              "#f0f921"
             ]
            ],
            "type": "surface"
           }
          ],
          "table": [
           {
            "cells": {
             "fill": {
              "color": "#EBF0F8"
             },
             "line": {
              "color": "white"
             }
            },
            "header": {
             "fill": {
              "color": "#C8D4E3"
             },
             "line": {
              "color": "white"
             }
            },
            "type": "table"
           }
          ]
         },
         "layout": {
          "annotationdefaults": {
           "arrowcolor": "#2a3f5f",
           "arrowhead": 0,
           "arrowwidth": 1
          },
          "autotypenumbers": "strict",
          "coloraxis": {
           "colorbar": {
            "outlinewidth": 0,
            "ticks": ""
           }
          },
          "colorscale": {
           "diverging": [
            [
             0,
             "#8e0152"
            ],
            [
             0.1,
             "#c51b7d"
            ],
            [
             0.2,
             "#de77ae"
            ],
            [
             0.3,
             "#f1b6da"
            ],
            [
             0.4,
             "#fde0ef"
            ],
            [
             0.5,
             "#f7f7f7"
            ],
            [
             0.6,
             "#e6f5d0"
            ],
            [
             0.7,
             "#b8e186"
            ],
            [
             0.8,
             "#7fbc41"
            ],
            [
             0.9,
             "#4d9221"
            ],
            [
             1,
             "#276419"
            ]
           ],
           "sequential": [
            [
             0,
             "#0d0887"
            ],
            [
             0.1111111111111111,
             "#46039f"
            ],
            [
             0.2222222222222222,
             "#7201a8"
            ],
            [
             0.3333333333333333,
             "#9c179e"
            ],
            [
             0.4444444444444444,
             "#bd3786"
            ],
            [
             0.5555555555555556,
             "#d8576b"
            ],
            [
             0.6666666666666666,
             "#ed7953"
            ],
            [
             0.7777777777777778,
             "#fb9f3a"
            ],
            [
             0.8888888888888888,
             "#fdca26"
            ],
            [
             1,
             "#f0f921"
            ]
           ],
           "sequentialminus": [
            [
             0,
             "#0d0887"
            ],
            [
             0.1111111111111111,
             "#46039f"
            ],
            [
             0.2222222222222222,
             "#7201a8"
            ],
            [
             0.3333333333333333,
             "#9c179e"
            ],
            [
             0.4444444444444444,
             "#bd3786"
            ],
            [
             0.5555555555555556,
             "#d8576b"
            ],
            [
             0.6666666666666666,
             "#ed7953"
            ],
            [
             0.7777777777777778,
             "#fb9f3a"
            ],
            [
             0.8888888888888888,
             "#fdca26"
            ],
            [
             1,
             "#f0f921"
            ]
           ]
          },
          "colorway": [
           "#636efa",
           "#EF553B",
           "#00cc96",
           "#ab63fa",
           "#FFA15A",
           "#19d3f3",
           "#FF6692",
           "#B6E880",
           "#FF97FF",
           "#FECB52"
          ],
          "font": {
           "color": "#2a3f5f"
          },
          "geo": {
           "bgcolor": "white",
           "lakecolor": "white",
           "landcolor": "#E5ECF6",
           "showlakes": true,
           "showland": true,
           "subunitcolor": "white"
          },
          "hoverlabel": {
           "align": "left"
          },
          "hovermode": "closest",
          "mapbox": {
           "style": "light"
          },
          "paper_bgcolor": "white",
          "plot_bgcolor": "#E5ECF6",
          "polar": {
           "angularaxis": {
            "gridcolor": "white",
            "linecolor": "white",
            "ticks": ""
           },
           "bgcolor": "#E5ECF6",
           "radialaxis": {
            "gridcolor": "white",
            "linecolor": "white",
            "ticks": ""
           }
          },
          "scene": {
           "xaxis": {
            "backgroundcolor": "#E5ECF6",
            "gridcolor": "white",
            "gridwidth": 2,
            "linecolor": "white",
            "showbackground": true,
            "ticks": "",
            "zerolinecolor": "white"
           },
           "yaxis": {
            "backgroundcolor": "#E5ECF6",
            "gridcolor": "white",
            "gridwidth": 2,
            "linecolor": "white",
            "showbackground": true,
            "ticks": "",
            "zerolinecolor": "white"
           },
           "zaxis": {
            "backgroundcolor": "#E5ECF6",
            "gridcolor": "white",
            "gridwidth": 2,
            "linecolor": "white",
            "showbackground": true,
            "ticks": "",
            "zerolinecolor": "white"
           }
          },
          "shapedefaults": {
           "line": {
            "color": "#2a3f5f"
           }
          },
          "ternary": {
           "aaxis": {
            "gridcolor": "white",
            "linecolor": "white",
            "ticks": ""
           },
           "baxis": {
            "gridcolor": "white",
            "linecolor": "white",
            "ticks": ""
           },
           "bgcolor": "#E5ECF6",
           "caxis": {
            "gridcolor": "white",
            "linecolor": "white",
            "ticks": ""
           }
          },
          "title": {
           "x": 0.05
          },
          "xaxis": {
           "automargin": true,
           "gridcolor": "white",
           "linecolor": "white",
           "ticks": "",
           "title": {
            "standoff": 15
           },
           "zerolinecolor": "white",
           "zerolinewidth": 2
          },
          "yaxis": {
           "automargin": true,
           "gridcolor": "white",
           "linecolor": "white",
           "ticks": "",
           "title": {
            "standoff": 15
           },
           "zerolinecolor": "white",
           "zerolinewidth": 2
          }
         }
        },
        "xaxis": {
         "anchor": "y",
         "domain": [
          0,
          1
         ],
         "title": {
          "text": "player"
         }
        },
        "yaxis": {
         "anchor": "x",
         "domain": [
          0,
          1
         ],
         "title": {
          "text": "outcome"
         }
        }
       }
      }
     },
     "metadata": {},
     "output_type": "display_data"
    }
   ],
   "source": [
    "px.bar(temp.sort_values('outcome'),#,ascending=False),\n",
    "    x='player',\n",
    "    y='outcome',\n",
    "    color='diff_20').add_vline(x='Kim, Si Woo')"
   ]
  },
  {
   "cell_type": "code",
   "execution_count": null,
   "metadata": {},
   "outputs": [],
   "source": []
  }
 ],
 "metadata": {
  "kernelspec": {
   "display_name": "base",
   "language": "python",
   "name": "python3"
  },
  "language_info": {
   "codemirror_mode": {
    "name": "ipython",
    "version": 3
   },
   "file_extension": ".py",
   "mimetype": "text/x-python",
   "name": "python",
   "nbconvert_exporter": "python",
   "pygments_lexer": "ipython3",
   "version": "3.11.5"
  }
 },
 "nbformat": 4,
 "nbformat_minor": 2
}
