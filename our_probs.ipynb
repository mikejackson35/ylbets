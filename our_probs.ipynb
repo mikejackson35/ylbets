{
 "cells": [
  {
   "cell_type": "code",
   "execution_count": 1,
   "metadata": {},
   "outputs": [],
   "source": [
    "import pandas as pd\n",
    "import numpy as np"
   ]
  },
  {
   "cell_type": "code",
   "execution_count": 52,
   "metadata": {},
   "outputs": [
    {
     "data": {
      "application/javascript": "\n        if (window._pyforest_update_imports_cell) { window._pyforest_update_imports_cell('from statsmodels.tsa.arima_model import ARIMA\\nimport pandas as pd\\nfrom sklearn.linear_model import LinearRegression\\nfrom sklearn.feature_extraction.text import TfidfVectorizer\\nimport pickle'); }\n    ",
      "text/plain": [
       "<IPython.core.display.Javascript object>"
      ]
     },
     "metadata": {},
     "output_type": "display_data"
    },
    {
     "data": {
      "application/javascript": "\n        if (window._pyforest_update_imports_cell) { window._pyforest_update_imports_cell('from statsmodels.tsa.arima_model import ARIMA\\nimport pandas as pd\\nfrom sklearn.linear_model import LinearRegression\\nfrom sklearn.feature_extraction.text import TfidfVectorizer\\nimport pickle'); }\n    ",
      "text/plain": [
       "<IPython.core.display.Javascript object>"
      ]
     },
     "metadata": {},
     "output_type": "display_data"
    },
    {
     "name": "stdout",
     "output_type": "stream",
     "text": [
      "last updated: 10:35\n",
      " \n",
      "               Player  Pos Top20 Top10 Top5 Win\n",
      "0        Schenk, Adam   --   38%   23%  13%  3%\n",
      "1       Hubbard, Mark  T18   35%   20%  11%  2%\n",
      "2       Sigg, Greyson  T18   22%   11%   5%  1%\n",
      "3  Endycott, Harrison   --   13%    6%   3%  0%\n",
      "4      Cummins, Quade   --   15%    7%   3%  0%\n",
      "5       Meissner, Mac  T42   14%    6%   3%  0%\n"
     ]
    }
   ],
   "source": [
    "def get_our_plays(list_of_our_plays, LIVE_ODDS):\n",
    "    try:\n",
    "        # read in live odds\n",
    "        usecols=['last_update', 'player_name', 'current_pos', 'win', 'top_5', 'top_10', 'top_20']\n",
    "        df = pd.read_csv(LIVE_ODDS, usecols=usecols).convert_dtypes()\n",
    "\n",
    "        # get last update time\n",
    "        updated_at = pd.to_datetime(df['last_update']).dt.strftime('%H:%M')\n",
    "        df.drop(columns='last_update', inplace=True)\n",
    "\n",
    "        # format percentages\n",
    "        df['win'] = ((df['win'] * 100).round()).astype(int).astype(str) + '%'\n",
    "        df['top_5'] = ((df['top_5'] * 100).round()).astype(int).astype(str) + '%'\n",
    "        df['top_10'] = ((df['top_10'] * 100).round()).astype(int).astype(str) + '%'\n",
    "        df['top_20'] = ((df['top_20'] * 100).round()).astype(int).astype(str) + '%'\n",
    "\n",
    "        # filter to selected plays and needed columns\n",
    "        plays = df[df['player_name'].isin(list_of_our_plays)].round(2).reset_index(drop=True)\n",
    "        plays.columns = ['Player','Pos','Top20','Top10','Top5','Win']\n",
    "\n",
    "        # show last update time\n",
    "        print(f\"last updated: {updated_at[0]}\")\n",
    "        print(f\" \")\n",
    "\n",
    "        return plays\n",
    "\n",
    "    except Exception as e:\n",
    "        print(\"An error occurred:\", e)\n",
    "        return None\n",
    "\n",
    "# user inputs list of players...\n",
    "list_of_our_plays = ['Meissner, Mac','Endycott, Harrison','Hubbard, Mark','Schenk, Adam','Sigg, Greyson','Cummins, Quade']\n",
    "LIVE_ODDS = \"https://feeds.datagolf.com/preds/in-play?tour=pga&dead_heat=no&odds_format=percent&file_format=csv&key=e297e933c3ad47d71ec1626c299e\"\n",
    "\n",
    "\n",
    "table = get_our_plays(list_of_our_plays, LIVE_ODDS)\n",
    "if table is not None:\n",
    "    print(table)\n"
   ]
  },
  {
   "cell_type": "code",
   "execution_count": 53,
   "metadata": {},
   "outputs": [
    {
     "data": {
      "application/javascript": "\n        if (window._pyforest_update_imports_cell) { window._pyforest_update_imports_cell('from statsmodels.tsa.arima_model import ARIMA\\nimport pandas as pd\\nfrom sklearn.linear_model import LinearRegression\\nfrom sklearn.feature_extraction.text import TfidfVectorizer\\nimport pickle'); }\n    ",
      "text/plain": [
       "<IPython.core.display.Javascript object>"
      ]
     },
     "metadata": {},
     "output_type": "display_data"
    },
    {
     "data": {
      "application/javascript": "\n        if (window._pyforest_update_imports_cell) { window._pyforest_update_imports_cell('from statsmodels.tsa.arima_model import ARIMA\\nimport pandas as pd\\nfrom sklearn.linear_model import LinearRegression\\nfrom sklearn.feature_extraction.text import TfidfVectorizer\\nimport pickle'); }\n    ",
      "text/plain": [
       "<IPython.core.display.Javascript object>"
      ]
     },
     "metadata": {},
     "output_type": "display_data"
    },
    {
     "name": "stdout",
     "output_type": "stream",
     "text": [
      "last updated: 10:35\n",
      " \n"
     ]
    },
    {
     "data": {
      "text/html": [
       "<div>\n",
       "<style scoped>\n",
       "    .dataframe tbody tr th:only-of-type {\n",
       "        vertical-align: middle;\n",
       "    }\n",
       "\n",
       "    .dataframe tbody tr th {\n",
       "        vertical-align: top;\n",
       "    }\n",
       "\n",
       "    .dataframe thead th {\n",
       "        text-align: right;\n",
       "    }\n",
       "</style>\n",
       "<table border=\"1\" class=\"dataframe\">\n",
       "  <thead>\n",
       "    <tr style=\"text-align: right;\">\n",
       "      <th></th>\n",
       "      <th>Player</th>\n",
       "      <th>Pos</th>\n",
       "      <th>Top20</th>\n",
       "      <th>Top10</th>\n",
       "      <th>Top5</th>\n",
       "      <th>Win</th>\n",
       "    </tr>\n",
       "  </thead>\n",
       "  <tbody>\n",
       "    <tr>\n",
       "      <th>0</th>\n",
       "      <td>Schenk, Adam</td>\n",
       "      <td>--</td>\n",
       "      <td>38%</td>\n",
       "      <td>23%</td>\n",
       "      <td>13%</td>\n",
       "      <td>3%</td>\n",
       "    </tr>\n",
       "    <tr>\n",
       "      <th>1</th>\n",
       "      <td>Hubbard, Mark</td>\n",
       "      <td>T18</td>\n",
       "      <td>35%</td>\n",
       "      <td>20%</td>\n",
       "      <td>11%</td>\n",
       "      <td>2%</td>\n",
       "    </tr>\n",
       "    <tr>\n",
       "      <th>2</th>\n",
       "      <td>Sigg, Greyson</td>\n",
       "      <td>T18</td>\n",
       "      <td>22%</td>\n",
       "      <td>11%</td>\n",
       "      <td>5%</td>\n",
       "      <td>1%</td>\n",
       "    </tr>\n",
       "    <tr>\n",
       "      <th>3</th>\n",
       "      <td>Endycott, Harrison</td>\n",
       "      <td>--</td>\n",
       "      <td>13%</td>\n",
       "      <td>6%</td>\n",
       "      <td>3%</td>\n",
       "      <td>0%</td>\n",
       "    </tr>\n",
       "    <tr>\n",
       "      <th>4</th>\n",
       "      <td>Cummins, Quade</td>\n",
       "      <td>--</td>\n",
       "      <td>15%</td>\n",
       "      <td>7%</td>\n",
       "      <td>3%</td>\n",
       "      <td>0%</td>\n",
       "    </tr>\n",
       "    <tr>\n",
       "      <th>5</th>\n",
       "      <td>Meissner, Mac</td>\n",
       "      <td>T42</td>\n",
       "      <td>14%</td>\n",
       "      <td>6%</td>\n",
       "      <td>3%</td>\n",
       "      <td>0%</td>\n",
       "    </tr>\n",
       "  </tbody>\n",
       "</table>\n",
       "</div>"
      ],
      "text/plain": [
       "               Player  Pos Top20 Top10 Top5 Win\n",
       "0        Schenk, Adam   --   38%   23%  13%  3%\n",
       "1       Hubbard, Mark  T18   35%   20%  11%  2%\n",
       "2       Sigg, Greyson  T18   22%   11%   5%  1%\n",
       "3  Endycott, Harrison   --   13%    6%   3%  0%\n",
       "4      Cummins, Quade   --   15%    7%   3%  0%\n",
       "5       Meissner, Mac  T42   14%    6%   3%  0%"
      ]
     },
     "execution_count": 53,
     "metadata": {},
     "output_type": "execute_result"
    }
   ],
   "source": [
    "# user inputs list of players...\n",
    "\n",
    "get_our_plays(list_of_our_plays, LIVE_ODDS)"
   ]
  },
  {
   "cell_type": "code",
   "execution_count": null,
   "metadata": {},
   "outputs": [],
   "source": []
  }
 ],
 "metadata": {
  "kernelspec": {
   "display_name": "Python 3 (ipykernel)",
   "language": "python",
   "name": "python3"
  },
  "language_info": {
   "codemirror_mode": {
    "name": "ipython",
    "version": 3
   },
   "file_extension": ".py",
   "mimetype": "text/x-python",
   "name": "python",
   "nbconvert_exporter": "python",
   "pygments_lexer": "ipython3",
   "version": "3.11.5"
  }
 },
 "nbformat": 4,
 "nbformat_minor": 2
}
