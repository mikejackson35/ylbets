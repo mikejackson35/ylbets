{
 "cells": [
  {
   "cell_type": "code",
   "execution_count": 1,
   "metadata": {},
   "outputs": [],
   "source": [
    "import pandas as pd\n",
    "import numpy as np"
   ]
  },
  {
   "cell_type": "code",
   "execution_count": 5,
   "metadata": {},
   "outputs": [],
   "source": [
    "\n",
    "def get_our_plays(our_plays):\n",
    "    usecols = ['last_update','player_name','current_pos','top_10']\n",
    "\n",
    "    df = pd.read_csv(r\"https://feeds.datagolf.com/preds/in-play?tour=pga&dead_heat=no&odds_format=percent&file_format=csv&key=e297e933c3ad47d71ec1626c299e\",\n",
    "                        usecols=usecols).convert_dtypes()\n",
    "\n",
    "    df['last_update'] = pd.to_datetime(df['last_update'])\n",
    "    df['updated'] = df['last_update'].astype(str).str[-8:-3]\n",
    "    df.drop(columns='last_update', inplace=True)\n",
    "    plays = round(df[df.player_name.isin(our_plays)],2)\n",
    "    return plays\n",
    "\n",
    "\n"
   ]
  },
  {
   "cell_type": "code",
   "execution_count": 19,
   "metadata": {},
   "outputs": [
    {
     "name": "stdout",
     "output_type": "stream",
     "text": [
      "        player_name current_pos top_10 updated\n",
      "11  Eckroat, Austin          T2    31%   13:55\n",
      "30      Kirk, Chris         T15    18%   13:55\n",
      "48   Putnam, Andrew         T22    10%   13:55\n",
      "68      Hodges, Lee          62     0%   13:55\n"
     ]
    }
   ],
   "source": [
    "def get_our_plays(our_plays, url, columns):\n",
    "    try:\n",
    "        # Read CSV from URL, selecting specific columns\n",
    "        df = pd.read_csv(url, usecols=columns).convert_dtypes()\n",
    "\n",
    "        # Convert 'last_update' to datetime and extract time component\n",
    "        df['updated'] = pd.to_datetime(df['last_update']).dt.strftime('%H:%M')\n",
    "\n",
    "        # Drop 'last_update' column\n",
    "        df.drop(columns='last_update', inplace=True)\n",
    "\n",
    "        # Format 'top_10' column as percentage\n",
    "        df['top_10'] = ((df['top_10'] * 100).round()).astype(int).astype(str) + '%'\n",
    "\n",
    "        # Filter DataFrame based on 'our_plays'\n",
    "        plays = df[df['player_name'].isin(our_plays)].round(2)\n",
    "        return plays\n",
    "\n",
    "    except Exception as e:\n",
    "        print(\"An error occurred:\", e)\n",
    "        return None\n",
    "\n",
    "# Example usage:\n",
    "our_plays = ['Hodges, Lee','Kirk, Chris','Putnam, Andrew','Eckroat, Austin']  # Your list of player names\n",
    "url = \"https://feeds.datagolf.com/preds/in-play?tour=pga&dead_heat=no&odds_format=percent&file_format=csv&key=e297e933c3ad47d71ec1626c299e\"\n",
    "columns = ['last_update', 'player_name', 'current_pos', 'top_10']\n",
    "\n",
    "table = get_our_plays(our_plays, url, columns)\n",
    "if table is not None:\n",
    "    print(table)\n"
   ]
  },
  {
   "cell_type": "code",
   "execution_count": 6,
   "metadata": {},
   "outputs": [
    {
     "data": {
      "text/html": [
       "<div>\n",
       "<style scoped>\n",
       "    .dataframe tbody tr th:only-of-type {\n",
       "        vertical-align: middle;\n",
       "    }\n",
       "\n",
       "    .dataframe tbody tr th {\n",
       "        vertical-align: top;\n",
       "    }\n",
       "\n",
       "    .dataframe thead th {\n",
       "        text-align: right;\n",
       "    }\n",
       "</style>\n",
       "<table border=\"1\" class=\"dataframe\">\n",
       "  <thead>\n",
       "    <tr style=\"text-align: right;\">\n",
       "      <th></th>\n",
       "      <th>player_name</th>\n",
       "      <th>current_pos</th>\n",
       "      <th>top_10</th>\n",
       "      <th>updated</th>\n",
       "    </tr>\n",
       "  </thead>\n",
       "  <tbody>\n",
       "    <tr>\n",
       "      <th>10</th>\n",
       "      <td>Eckroat, Austin</td>\n",
       "      <td>T2</td>\n",
       "      <td>0.33</td>\n",
       "      <td>13:25</td>\n",
       "    </tr>\n",
       "    <tr>\n",
       "      <th>28</th>\n",
       "      <td>Kirk, Chris</td>\n",
       "      <td>T14</td>\n",
       "      <td>0.19</td>\n",
       "      <td>13:25</td>\n",
       "    </tr>\n",
       "    <tr>\n",
       "      <th>51</th>\n",
       "      <td>Putnam, Andrew</td>\n",
       "      <td>T35</td>\n",
       "      <td>0.08</td>\n",
       "      <td>13:25</td>\n",
       "    </tr>\n",
       "    <tr>\n",
       "      <th>67</th>\n",
       "      <td>Hodges, Lee</td>\n",
       "      <td>56</td>\n",
       "      <td>0.0</td>\n",
       "      <td>13:25</td>\n",
       "    </tr>\n",
       "  </tbody>\n",
       "</table>\n",
       "</div>"
      ],
      "text/plain": [
       "        player_name current_pos  top_10 updated\n",
       "10  Eckroat, Austin          T2    0.33   13:25\n",
       "28      Kirk, Chris         T14    0.19   13:25\n",
       "51   Putnam, Andrew         T35    0.08   13:25\n",
       "67      Hodges, Lee          56     0.0   13:25"
      ]
     },
     "execution_count": 6,
     "metadata": {},
     "output_type": "execute_result"
    }
   ],
   "source": [
    "# user inputs list of players...\n",
    "our_plays = ['Hodges, Lee','Kirk, Chris','Putnam, Andrew','Eckroat, Austin']\n",
    "\n",
    "\n",
    "get_our_plays(our_plays)"
   ]
  },
  {
   "cell_type": "code",
   "execution_count": null,
   "metadata": {},
   "outputs": [],
   "source": []
  }
 ],
 "metadata": {
  "kernelspec": {
   "display_name": "base",
   "language": "python",
   "name": "python3"
  },
  "language_info": {
   "codemirror_mode": {
    "name": "ipython",
    "version": 3
   },
   "file_extension": ".py",
   "mimetype": "text/x-python",
   "name": "python",
   "nbconvert_exporter": "python",
   "pygments_lexer": "ipython3",
   "version": "3.11.5"
  }
 },
 "nbformat": 4,
 "nbformat_minor": 2
}
