{
 "cells": [
  {
   "cell_type": "code",
   "execution_count": 1,
   "metadata": {},
   "outputs": [],
   "source": [
    "import pandas as pd\n",
    "import plotly.express as px\n",
    "import numpy as np\n",
    "import streamlit as st\n",
    "import altair as alt\n",
    "from utils import fetch_odds, calculate_ev, plus_prefix, fix_names"
   ]
  },
  {
   "cell_type": "code",
   "execution_count": 2,
   "metadata": {},
   "outputs": [],
   "source": [
    "#  def main : displays front ui\n",
    "\n",
    "odds = fetch_odds('win').dropna()"
   ]
  },
  {
   "cell_type": "code",
   "execution_count": 5,
   "metadata": {},
   "outputs": [],
   "source": [
    "books = ['betmgm', 'betfair', 'fanduel', 'draftkings', 'bovada',\n",
    "       'williamhill', 'betonline', 'betcris', 'unibet', 'caesars', 'bet365',\n",
    "       'betway', 'pinnacle', 'skybet', 'pointsbet']"
   ]
  },
  {
   "cell_type": "code",
   "execution_count": 27,
   "metadata": {},
   "outputs": [],
   "source": [
    "aggregate_lines = odds[books].T.mean().round(0).to_frame()"
   ]
  },
  {
   "cell_type": "code",
   "execution_count": 38,
   "metadata": {},
   "outputs": [],
   "source": [
    "def calc_ev(line):\n",
    "    return (line/100)+1\n"
   ]
  },
  {
   "cell_type": "code",
   "execution_count": 57,
   "metadata": {},
   "outputs": [
    {
     "data": {
      "text/html": [
       "<div>\n",
       "<style scoped>\n",
       "    .dataframe tbody tr th:only-of-type {\n",
       "        vertical-align: middle;\n",
       "    }\n",
       "\n",
       "    .dataframe tbody tr th {\n",
       "        vertical-align: top;\n",
       "    }\n",
       "\n",
       "    .dataframe thead th {\n",
       "        text-align: right;\n",
       "    }\n",
       "</style>\n",
       "<table border=\"1\" class=\"dataframe\">\n",
       "  <thead>\n",
       "    <tr style=\"text-align: right;\">\n",
       "      <th></th>\n",
       "      <th>player</th>\n",
       "      <th>real_odds</th>\n",
       "      <th>agg_line</th>\n",
       "      <th>ev</th>\n",
       "    </tr>\n",
       "  </thead>\n",
       "  <tbody>\n",
       "    <tr>\n",
       "      <th>0</th>\n",
       "      <td>Scheffler, Scottie</td>\n",
       "      <td>584.0</td>\n",
       "      <td>430.0</td>\n",
       "      <td>0.36</td>\n",
       "    </tr>\n",
       "    <tr>\n",
       "      <th>1</th>\n",
       "      <td>McIlroy, Rory</td>\n",
       "      <td>1348.0</td>\n",
       "      <td>1065.0</td>\n",
       "      <td>0.27</td>\n",
       "    </tr>\n",
       "    <tr>\n",
       "      <th>2</th>\n",
       "      <td>Schauffele, Xander</td>\n",
       "      <td>1362.0</td>\n",
       "      <td>1401.0</td>\n",
       "      <td>-0.03</td>\n",
       "    </tr>\n",
       "    <tr>\n",
       "      <th>3</th>\n",
       "      <td>Rahm, Jon</td>\n",
       "      <td>1600.0</td>\n",
       "      <td>1167.0</td>\n",
       "      <td>0.37</td>\n",
       "    </tr>\n",
       "    <tr>\n",
       "      <th>4</th>\n",
       "      <td>Matsuyama, Hideki</td>\n",
       "      <td>2530.0</td>\n",
       "      <td>1810.0</td>\n",
       "      <td>0.40</td>\n",
       "    </tr>\n",
       "    <tr>\n",
       "      <th>...</th>\n",
       "      <td>...</td>\n",
       "      <td>...</td>\n",
       "      <td>...</td>\n",
       "      <td>...</td>\n",
       "    </tr>\n",
       "    <tr>\n",
       "      <th>71</th>\n",
       "      <td>Dunlap, Nick</td>\n",
       "      <td>111011.0</td>\n",
       "      <td>29975.0</td>\n",
       "      <td>2.70</td>\n",
       "    </tr>\n",
       "    <tr>\n",
       "      <th>73</th>\n",
       "      <td>Watson, Bubba</td>\n",
       "      <td>115285.0</td>\n",
       "      <td>30119.0</td>\n",
       "      <td>2.83</td>\n",
       "    </tr>\n",
       "    <tr>\n",
       "      <th>74</th>\n",
       "      <td>Woods, Tiger</td>\n",
       "      <td>117547.0</td>\n",
       "      <td>12948.0</td>\n",
       "      <td>8.08</td>\n",
       "    </tr>\n",
       "    <tr>\n",
       "      <th>76</th>\n",
       "      <td>Schwartzel, Charl</td>\n",
       "      <td>139435.0</td>\n",
       "      <td>38875.0</td>\n",
       "      <td>2.59</td>\n",
       "    </tr>\n",
       "    <tr>\n",
       "      <th>77</th>\n",
       "      <td>Mickelson, Phil</td>\n",
       "      <td>249900.0</td>\n",
       "      <td>19099.0</td>\n",
       "      <td>12.08</td>\n",
       "    </tr>\n",
       "  </tbody>\n",
       "</table>\n",
       "<p>74 rows × 4 columns</p>\n",
       "</div>"
      ],
      "text/plain": [
       "                player  real_odds  agg_line     ev\n",
       "0   Scheffler, Scottie      584.0     430.0   0.36\n",
       "1        McIlroy, Rory     1348.0    1065.0   0.27\n",
       "2   Schauffele, Xander     1362.0    1401.0  -0.03\n",
       "3            Rahm, Jon     1600.0    1167.0   0.37\n",
       "4    Matsuyama, Hideki     2530.0    1810.0   0.40\n",
       "..                 ...        ...       ...    ...\n",
       "71        Dunlap, Nick   111011.0   29975.0   2.70\n",
       "73       Watson, Bubba   115285.0   30119.0   2.83\n",
       "74        Woods, Tiger   117547.0   12948.0   8.08\n",
       "76   Schwartzel, Charl   139435.0   38875.0   2.59\n",
       "77     Mickelson, Phil   249900.0   19099.0  12.08\n",
       "\n",
       "[74 rows x 4 columns]"
      ]
     },
     "execution_count": 57,
     "metadata": {},
     "output_type": "execute_result"
    }
   ],
   "source": [
    "df = odds[['player_name','datagolf_base_history_fit']].merge(\n",
    "        aggregate_lines,\n",
    "        left_index=True, \n",
    "        right_index=True\n",
    "        ).rename(\n",
    "            columns={\n",
    "                'player_name':'player',\n",
    "                'datagolf_base_history_fit':'real_odds',\n",
    "                0:'agg_line'\n",
    "                }\n",
    "                )\n",
    "\n",
    "df['dec_agg_line'] = (df['agg_line'] / 100) / 1\n",
    "df['dec_real_odds'] = (df['real_odds'] / 100) / 1\n",
    "\n",
    "df['ev'] = round(df['dec_real_odds'] * (1/df['dec_agg_line']) - 1,2)\n",
    "\n",
    "df.drop(columns = ['dec_agg_line','dec_real_odds'], inplace=True)\n",
    "\n",
    "df['real_odds'].apply(plus_prefix)\n",
    "df['agg_line'].apply(plus_prefix)\n",
    "df"
   ]
  },
  {
   "cell_type": "code",
   "execution_count": 45,
   "metadata": {},
   "outputs": [
    {
     "data": {
      "text/plain": [
       "0      0.36\n",
       "1      0.27\n",
       "2     -0.03\n",
       "3      0.37\n",
       "4      0.40\n",
       "      ...  \n",
       "71     2.70\n",
       "73     2.83\n",
       "74     8.08\n",
       "76     2.59\n",
       "77    12.08\n",
       "Length: 74, dtype: float64"
      ]
     },
     "execution_count": 45,
     "metadata": {},
     "output_type": "execute_result"
    }
   ],
   "source": [
    "round(df['dec_real_odds'] * (1/df['dec_agg_line']) - 1,2)"
   ]
  },
  {
   "cell_type": "code",
   "execution_count": null,
   "metadata": {},
   "outputs": [],
   "source": []
  },
  {
   "cell_type": "code",
   "execution_count": null,
   "metadata": {},
   "outputs": [],
   "source": [
    "pd.concat([fetch_odds('win'), fetch_odds('top_5'), fetch_odds('top_10'), fetch_odds('top_20')]).dropna()"
   ]
  },
  {
   "cell_type": "code",
   "execution_count": null,
   "metadata": {},
   "outputs": [],
   "source": []
  },
  {
   "cell_type": "code",
   "execution_count": null,
   "metadata": {},
   "outputs": [],
   "source": []
  },
  {
   "cell_type": "code",
   "execution_count": null,
   "metadata": {},
   "outputs": [],
   "source": []
  },
  {
   "cell_type": "code",
   "execution_count": null,
   "metadata": {},
   "outputs": [],
   "source": []
  },
  {
   "cell_type": "code",
   "execution_count": null,
   "metadata": {},
   "outputs": [],
   "source": [
    "odds = fetch_odds('win')\n",
    "odds = pd.concat([odds, fetch_odds('top_5'), fetch_odds('top_10'), fetch_odds('top_20')]).dropna()\n",
    "\n",
    "odds.rename(columns={'datagolf_base_history_fit':'real_odds'},inplace=True)\n",
    "odds['player_name'] = fix_names(odds)\n",
    "\n",
    "odds = calculate_ev(odds)\n",
    "\n",
    "odds = odds[['market', 'player_name', 'real_odds', 'fanduel','fanduel_ev', 'draftkings','draftkings_ev', 'betmgm','betmgm_ev']].convert_dtypes()\n",
    "\n",
    "odds['real_odds'] = odds['real_odds'].dropna().apply(plus_prefix)\n",
    "odds['fanduel'] = odds['fanduel'].dropna().apply(plus_prefix)\n",
    "odds['draftkings'] = odds['draftkings'].dropna().apply(plus_prefix)\n",
    "odds['betmgm'] = odds['betmgm'].dropna().apply(plus_prefix)\n",
    "\n",
    "odds['market'] = odds['market'].replace({'win': 'Win', 'top_5': 'Top 5', 'top_10': 'Top 10', 'top_20': 'Top 20'})\n",
    "\n",
    "odds.columns = ['Market','Player','True Odds','FD','FD EV','DK','DK EV','MGM','MGM EV']"
   ]
  }
 ],
 "metadata": {
  "kernelspec": {
   "display_name": "base",
   "language": "python",
   "name": "python3"
  },
  "language_info": {
   "codemirror_mode": {
    "name": "ipython",
    "version": 3
   },
   "file_extension": ".py",
   "mimetype": "text/x-python",
   "name": "python",
   "nbconvert_exporter": "python",
   "pygments_lexer": "ipython3",
   "version": "3.11.5"
  }
 },
 "nbformat": 4,
 "nbformat_minor": 2
}
