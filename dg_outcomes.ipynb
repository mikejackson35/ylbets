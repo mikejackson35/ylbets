{
 "cells": [
  {
   "cell_type": "code",
   "execution_count": 1,
   "metadata": {},
   "outputs": [],
   "source": [
    "import pandas as pd\n",
    "import numpy as np\n",
    "import plotly.express as px"
   ]
  },
  {
   "cell_type": "code",
   "execution_count": 4,
   "metadata": {},
   "outputs": [],
   "source": [
    "# cj cup\n",
    "\n",
    "preds_path = r\"C:\\Users\\mikej\\Downloads\\the-cj-cup-byron-nelson_course-adjustment-model.csv\"\n",
    "\n",
    "win_path = r\"C:\\Users\\mikej\\Downloads\\pga_historical_outrights (23).csv\"\n",
    "top5_path = r\"C:\\Users\\mikej\\Downloads\\pga_historical_outrights (24).csv\"\n",
    "top10_path = r\"C:\\Users\\mikej\\Downloads\\pga_historical_outrights (25).csv\"\n",
    "top20_path = r\"C:\\Users\\mikej\\Downloads\\pga_historical_outrights (26).csv\"\n"
   ]
  },
  {
   "cell_type": "code",
   "execution_count": 5,
   "metadata": {},
   "outputs": [],
   "source": [
    "def in_top20(a):\n",
    "    if int(a) > 20:\n",
    "        return \"loss\"\n",
    "    return \"win\"\n",
    "\n",
    "def in_top10(a):\n",
    "    if int(a) > 10:\n",
    "        return \"loss\"\n",
    "    return \"win\"\n",
    "\n",
    "def in_top5(a):\n",
    "    if int(a) > 5:\n",
    "        return \"loss\"\n",
    "    return \"win\"\n",
    "\n",
    "def in_win(a):\n",
    "    if int(a) > 1:\n",
    "        return \"loss\"\n",
    "    return \"win\""
   ]
  },
  {
   "cell_type": "code",
   "execution_count": null,
   "metadata": {},
   "outputs": [],
   "source": [
    "# rbc heritage paths\n",
    "\n",
    "    # read in datagolf\n",
    "top20 = pd.read_csv(r\"C:\\Users\\mikej\\Downloads\\pga_historical_outrights (13).csv\")\n",
    "top10 = pd.read_csv(r\"C:\\Users\\mikej\\Downloads\\pga_historical_outrights (12).csv\")\n",
    "top5 = pd.read_csv(r\"C:\\Users\\mikej\\Downloads\\pga_historical_outrights (11).csv\")\n",
    "win = pd.read_csv(r\"C:\\Users\\mikej\\Downloads\\pga_historical_outrights (10).csv\")"
   ]
  },
  {
   "cell_type": "code",
   "execution_count": 6,
   "metadata": {},
   "outputs": [],
   "source": [
    "# cj cup\n",
    "\n",
    "preds_path = r\"C:\\Users\\mikej\\Downloads\\the-cj-cup-byron-nelson_course-adjustment-model.csv\"\n",
    "\n",
    "win_path = r\"C:\\Users\\mikej\\Downloads\\pga_historical_outrights (23).csv\"\n",
    "top5_path = r\"C:\\Users\\mikej\\Downloads\\pga_historical_outrights (24).csv\"\n",
    "top10_path = r\"C:\\Users\\mikej\\Downloads\\pga_historical_outrights (25).csv\"\n",
    "top20_path = r\"C:\\Users\\mikej\\Downloads\\pga_historical_outrights (26).csv\"\n",
    "\n",
    "    # read in datagolf\n",
    "top20 = pd.read_csv(top20_path)\n",
    "top10 = pd.read_csv(top10_path)\n",
    "top5 = pd.read_csv(top5_path)\n",
    "win = pd.read_csv(win_path)"
   ]
  },
  {
   "cell_type": "code",
   "execution_count": 30,
   "metadata": {},
   "outputs": [],
   "source": [
    "def get_dg_outcomes_table(preds_path,win_path,top5_path,top10_path,top20_path):\n",
    "\n",
    "    # read in datagolf\n",
    "    top20 = pd.read_csv(top20_path)\n",
    "    top10 = pd.read_csv(top10_path)\n",
    "    top5 = pd.read_csv(top5_path)\n",
    "    win = pd.read_csv(win_path)\n",
    "    \n",
    "    # made dataframe of book odds\n",
    "    odds = pd.concat([win,top5,top10,top20])\n",
    "    odds = odds[['player_name','market','open_odds']].pivot(index='player_name',columns='market',values='open_odds').reset_index().round(2)\n",
    "    odds.columns = ['player','odds_20','odds_10','odds_5','odds_win']\n",
    "    \n",
    "    # make dataframe of tournament outcomes (leaderboard)\n",
    "    outcomes = top20[['player_name','outcome']]\n",
    "    outcomes['outcome'] = outcomes['outcome'].str.strip(\"T\")\n",
    "    outcomes.columns = ['player','outcome']\n",
    "\n",
    "    # make dataframe of datagolf predicted odds\n",
    "    preds = pd.read_csv(preds_path)\n",
    "    preds = preds[['player_name','top_20','top_10','top_5','win']].round(2)\n",
    "    preds.columns = ['player','pred_20','pred_10','pred_5','pred_win']\n",
    "\n",
    "    # merge books and datagolf\n",
    "    df = pd.merge(odds,preds)[['player','odds_20','pred_20','odds_10','pred_10','odds_5','pred_5','odds_win','pred_win']]\n",
    "\n",
    "    # add columns for difference in books odds and dg prediciton\n",
    "    df['diff_20'] = (df['pred_20'] - df['odds_20']) / df['odds_20']\n",
    "    df['diff_10'] = (df['pred_10'] - df['odds_10']) / df['odds_10']\n",
    "    df['diff_5'] = (df['pred_5'] - df['odds_5']) / df['odds_5']\n",
    "    df['diff_win'] = (df['pred_win'] - df['odds_win']) / df['odds_win']\n",
    "\n",
    "    # merge in actual outcomes\n",
    "    df = df.merge(outcomes,on='player')\n",
    "    df = df.convert_dtypes()\n",
    "    # df['outcome'] = df['outcome'].astype(int)\n",
    "\n",
    "    # add outcome 'bools'\n",
    "    # df['bool_20'] = df['outcome'].apply(in_top20)\n",
    "    # df['bool_10'] = df['outcome'].apply(in_top10)\n",
    "    # df['bool_5'] = df['outcome'].apply(in_top5)\n",
    "    # df['bool_win'] = df['outcome'].apply(in_win)\n",
    "\n",
    "    return df\n",
    "\n",
    "    \n",
    "\n",
    "    \n",
    "\n",
    "    \n",
    "\n",
    "    "
   ]
  },
  {
   "cell_type": "code",
   "execution_count": 31,
   "metadata": {},
   "outputs": [
    {
     "name": "stderr",
     "output_type": "stream",
     "text": [
      "C:\\Users\\mikej\\AppData\\Local\\Temp\\ipykernel_20780\\1414055155.py:16: SettingWithCopyWarning:\n",
      "\n",
      "\n",
      "A value is trying to be set on a copy of a slice from a DataFrame.\n",
      "Try using .loc[row_indexer,col_indexer] = value instead\n",
      "\n",
      "See the caveats in the documentation: https://pandas.pydata.org/pandas-docs/stable/user_guide/indexing.html#returning-a-view-versus-a-copy\n",
      "\n"
     ]
    }
   ],
   "source": [
    "df = get_dg_outcomes_table(preds_path,win_path,top5_path,top10_path,top20_path)"
   ]
  },
  {
   "cell_type": "code",
   "execution_count": 32,
   "metadata": {},
   "outputs": [
    {
     "data": {
      "text/html": [
       "<div>\n",
       "<style scoped>\n",
       "    .dataframe tbody tr th:only-of-type {\n",
       "        vertical-align: middle;\n",
       "    }\n",
       "\n",
       "    .dataframe tbody tr th {\n",
       "        vertical-align: top;\n",
       "    }\n",
       "\n",
       "    .dataframe thead th {\n",
       "        text-align: right;\n",
       "    }\n",
       "</style>\n",
       "<table border=\"1\" class=\"dataframe\">\n",
       "  <thead>\n",
       "    <tr style=\"text-align: right;\">\n",
       "      <th></th>\n",
       "      <th>player</th>\n",
       "      <th>odds_20</th>\n",
       "      <th>pred_20</th>\n",
       "      <th>odds_10</th>\n",
       "      <th>pred_10</th>\n",
       "      <th>odds_5</th>\n",
       "      <th>pred_5</th>\n",
       "      <th>odds_win</th>\n",
       "      <th>pred_win</th>\n",
       "      <th>diff_20</th>\n",
       "      <th>diff_10</th>\n",
       "      <th>diff_5</th>\n",
       "      <th>diff_win</th>\n",
       "      <th>outcome</th>\n",
       "    </tr>\n",
       "  </thead>\n",
       "  <tbody>\n",
       "    <tr>\n",
       "      <th>47</th>\n",
       "      <td>Hale Jr, Blaine</td>\n",
       "      <td>251.0</td>\n",
       "      <td>0.0</td>\n",
       "      <td>76.0</td>\n",
       "      <td>0.0</td>\n",
       "      <td>401.0</td>\n",
       "      <td>0.0</td>\n",
       "      <td>2501</td>\n",
       "      <td>0.0</td>\n",
       "      <td>-1.0</td>\n",
       "      <td>-1.0</td>\n",
       "      <td>-1.0</td>\n",
       "      <td>-1.0</td>\n",
       "      <td>CU</td>\n",
       "    </tr>\n",
       "    <tr>\n",
       "      <th>142</th>\n",
       "      <td>Watney, Nick</td>\n",
       "      <td>131.0</td>\n",
       "      <td>0.0</td>\n",
       "      <td>41.0</td>\n",
       "      <td>0.0</td>\n",
       "      <td>401.0</td>\n",
       "      <td>0.0</td>\n",
       "      <td>2501</td>\n",
       "      <td>0.0</td>\n",
       "      <td>-1.0</td>\n",
       "      <td>-1.0</td>\n",
       "      <td>-1.0</td>\n",
       "      <td>-1.0</td>\n",
       "      <td>CU</td>\n",
       "    </tr>\n",
       "    <tr>\n",
       "      <th>103</th>\n",
       "      <td>Pereda, Raul</td>\n",
       "      <td>101.0</td>\n",
       "      <td>0.01</td>\n",
       "      <td>31.0</td>\n",
       "      <td>0.0</td>\n",
       "      <td>301.0</td>\n",
       "      <td>0.0</td>\n",
       "      <td>1501</td>\n",
       "      <td>0.0</td>\n",
       "      <td>-0.999901</td>\n",
       "      <td>-1.0</td>\n",
       "      <td>-1.0</td>\n",
       "      <td>-1.0</td>\n",
       "      <td>CU</td>\n",
       "    </tr>\n",
       "    <tr>\n",
       "      <th>78</th>\n",
       "      <td>Limbhasut, KK</td>\n",
       "      <td>81.0</td>\n",
       "      <td>0.01</td>\n",
       "      <td>26.0</td>\n",
       "      <td>0.0</td>\n",
       "      <td>251.0</td>\n",
       "      <td>0.0</td>\n",
       "      <td>1501</td>\n",
       "      <td>0.0</td>\n",
       "      <td>-0.999877</td>\n",
       "      <td>-1.0</td>\n",
       "      <td>-1.0</td>\n",
       "      <td>-1.0</td>\n",
       "      <td>CU</td>\n",
       "    </tr>\n",
       "    <tr>\n",
       "      <th>131</th>\n",
       "      <td>Taylor, Ben</td>\n",
       "      <td>81.0</td>\n",
       "      <td>0.01</td>\n",
       "      <td>26.0</td>\n",
       "      <td>0.0</td>\n",
       "      <td>251.0</td>\n",
       "      <td>0.0</td>\n",
       "      <td>1001</td>\n",
       "      <td>0.0</td>\n",
       "      <td>-0.999877</td>\n",
       "      <td>-1.0</td>\n",
       "      <td>-1.0</td>\n",
       "      <td>-1.0</td>\n",
       "      <td>CU</td>\n",
       "    </tr>\n",
       "    <tr>\n",
       "      <th>...</th>\n",
       "      <td>...</td>\n",
       "      <td>...</td>\n",
       "      <td>...</td>\n",
       "      <td>...</td>\n",
       "      <td>...</td>\n",
       "      <td>...</td>\n",
       "      <td>...</td>\n",
       "      <td>...</td>\n",
       "      <td>...</td>\n",
       "      <td>...</td>\n",
       "      <td>...</td>\n",
       "      <td>...</td>\n",
       "      <td>...</td>\n",
       "      <td>...</td>\n",
       "    </tr>\n",
       "    <tr>\n",
       "      <th>113</th>\n",
       "      <td>Scott, Adam</td>\n",
       "      <td>4.0</td>\n",
       "      <td>0.34</td>\n",
       "      <td>2.4</td>\n",
       "      <td>0.21</td>\n",
       "      <td>7.0</td>\n",
       "      <td>0.12</td>\n",
       "      <td>26</td>\n",
       "      <td>0.03</td>\n",
       "      <td>-0.915</td>\n",
       "      <td>-0.9125</td>\n",
       "      <td>-0.982857</td>\n",
       "      <td>-0.998846</td>\n",
       "      <td>30</td>\n",
       "    </tr>\n",
       "    <tr>\n",
       "      <th>94</th>\n",
       "      <td>Noren, Alex</td>\n",
       "      <td>4.0</td>\n",
       "      <td>0.39</td>\n",
       "      <td>2.4</td>\n",
       "      <td>0.24</td>\n",
       "      <td>7.0</td>\n",
       "      <td>0.14</td>\n",
       "      <td>26</td>\n",
       "      <td>0.04</td>\n",
       "      <td>-0.9025</td>\n",
       "      <td>-0.9</td>\n",
       "      <td>-0.98</td>\n",
       "      <td>-0.998462</td>\n",
       "      <td>3</td>\n",
       "    </tr>\n",
       "    <tr>\n",
       "      <th>65</th>\n",
       "      <td>Kim, Si Woo</td>\n",
       "      <td>3.6</td>\n",
       "      <td>0.48</td>\n",
       "      <td>2.25</td>\n",
       "      <td>0.32</td>\n",
       "      <td>6.0</td>\n",
       "      <td>0.2</td>\n",
       "      <td>23</td>\n",
       "      <td>0.06</td>\n",
       "      <td>-0.866667</td>\n",
       "      <td>-0.857778</td>\n",
       "      <td>-0.966667</td>\n",
       "      <td>-0.997391</td>\n",
       "      <td>13</td>\n",
       "    </tr>\n",
       "    <tr>\n",
       "      <th>26</th>\n",
       "      <td>Day, Jason</td>\n",
       "      <td>3.3</td>\n",
       "      <td>0.35</td>\n",
       "      <td>2.15</td>\n",
       "      <td>0.22</td>\n",
       "      <td>5.5</td>\n",
       "      <td>0.13</td>\n",
       "      <td>19</td>\n",
       "      <td>0.03</td>\n",
       "      <td>-0.893939</td>\n",
       "      <td>-0.897674</td>\n",
       "      <td>-0.976364</td>\n",
       "      <td>-0.998421</td>\n",
       "      <td>59</td>\n",
       "    </tr>\n",
       "    <tr>\n",
       "      <th>124</th>\n",
       "      <td>Spieth, Jordan</td>\n",
       "      <td>2.9</td>\n",
       "      <td>0.38</td>\n",
       "      <td>1.95</td>\n",
       "      <td>0.24</td>\n",
       "      <td>4.6</td>\n",
       "      <td>0.14</td>\n",
       "      <td>15</td>\n",
       "      <td>0.04</td>\n",
       "      <td>-0.868966</td>\n",
       "      <td>-0.876923</td>\n",
       "      <td>-0.969565</td>\n",
       "      <td>-0.997333</td>\n",
       "      <td>CU</td>\n",
       "    </tr>\n",
       "  </tbody>\n",
       "</table>\n",
       "<p>152 rows × 14 columns</p>\n",
       "</div>"
      ],
      "text/plain": [
       "              player  odds_20  pred_20  odds_10  pred_10  odds_5  pred_5  \\\n",
       "47   Hale Jr, Blaine    251.0      0.0     76.0      0.0   401.0     0.0   \n",
       "142     Watney, Nick    131.0      0.0     41.0      0.0   401.0     0.0   \n",
       "103     Pereda, Raul    101.0     0.01     31.0      0.0   301.0     0.0   \n",
       "78     Limbhasut, KK     81.0     0.01     26.0      0.0   251.0     0.0   \n",
       "131      Taylor, Ben     81.0     0.01     26.0      0.0   251.0     0.0   \n",
       "..               ...      ...      ...      ...      ...     ...     ...   \n",
       "113      Scott, Adam      4.0     0.34      2.4     0.21     7.0    0.12   \n",
       "94       Noren, Alex      4.0     0.39      2.4     0.24     7.0    0.14   \n",
       "65       Kim, Si Woo      3.6     0.48     2.25     0.32     6.0     0.2   \n",
       "26        Day, Jason      3.3     0.35     2.15     0.22     5.5    0.13   \n",
       "124   Spieth, Jordan      2.9     0.38     1.95     0.24     4.6    0.14   \n",
       "\n",
       "     odds_win  pred_win   diff_20   diff_10    diff_5  diff_win outcome  \n",
       "47       2501       0.0      -1.0      -1.0      -1.0      -1.0      CU  \n",
       "142      2501       0.0      -1.0      -1.0      -1.0      -1.0      CU  \n",
       "103      1501       0.0 -0.999901      -1.0      -1.0      -1.0      CU  \n",
       "78       1501       0.0 -0.999877      -1.0      -1.0      -1.0      CU  \n",
       "131      1001       0.0 -0.999877      -1.0      -1.0      -1.0      CU  \n",
       "..        ...       ...       ...       ...       ...       ...     ...  \n",
       "113        26      0.03    -0.915   -0.9125 -0.982857 -0.998846      30  \n",
       "94         26      0.04   -0.9025      -0.9     -0.98 -0.998462       3  \n",
       "65         23      0.06 -0.866667 -0.857778 -0.966667 -0.997391      13  \n",
       "26         19      0.03 -0.893939 -0.897674 -0.976364 -0.998421      59  \n",
       "124        15      0.04 -0.868966 -0.876923 -0.969565 -0.997333      CU  \n",
       "\n",
       "[152 rows x 14 columns]"
      ]
     },
     "execution_count": 32,
     "metadata": {},
     "output_type": "execute_result"
    }
   ],
   "source": [
    "df.sort_values('odds_win',ascending=False)"
   ]
  },
  {
   "cell_type": "code",
   "execution_count": 39,
   "metadata": {},
   "outputs": [
    {
     "data": {
      "application/vnd.plotly.v1+json": {
       "config": {
        "plotlyServerURL": "https://plot.ly"
       },
       "data": [
        {
         "alignmentgroup": "True",
         "hovertemplate": "player=%{x}<br>pred_20=%{y}<br>diff_win=%{marker.color}<extra></extra>",
         "legendgroup": "",
         "marker": {
          "color": [
           -0.9973913043478262,
           -0.9984615384615385,
           -0.9973333333333334,
           -0.9986206896551725,
           -0.9990322580645161,
           -0.9990322580645161,
           -0.9984210526315789,
           -0.9994642857142857,
           -0.9988461538461538,
           -0.9993548387096775,
           -0.9993103448275862,
           -0.9995652173913043,
           -0.9996969696969698,
           -0.9994444444444444,
           -0.9996078431372548,
           -0.9995121951219511,
           -0.9998684210526315,
           -0.9998214285714286,
           -0.9998214285714286,
           -0.9998360655737705,
           -0.9998591549295774,
           -0.9998214285714286,
           -0.9998039215686275,
           -0.9999009900990099,
           -0.9999009900990099,
           -0.9998765432098765,
           -0.9998591549295774,
           -0.9998591549295774,
           -0.9999009900990099,
           -0.9998901098901098,
           -0.9999009900990099,
           -0.9998901098901098,
           -0.9999099099099099,
           -0.9999009900990099,
           -0.9999099099099099,
           -0.9999099099099099,
           -0.9998901098901098,
           -0.9998901098901098,
           -0.9999236641221375,
           -0.9999236641221375,
           -0.9999236641221375,
           -0.9999099099099099,
           -0.9998765432098765,
           -0.9999236641221375,
           -0.9998684210526315,
           -0.9998901098901098,
           -0.9998901098901098,
           -1,
           -0.9999236641221375,
           -1,
           -0.9999236641221375,
           -0.9999009900990099,
           -0.9999236641221375,
           -0.9999099099099099,
           -1,
           -1,
           -1,
           -1,
           -1,
           -1,
           -1,
           -1,
           -1,
           -1,
           -1,
           -1,
           -1,
           -1,
           -1,
           -1,
           -1,
           -1,
           -1,
           -1,
           -1,
           -1,
           -1,
           -1,
           -1,
           -1,
           -1,
           -1,
           -1,
           -1,
           -1,
           -1,
           -1,
           -1,
           -1,
           -1,
           -1,
           -1,
           -1,
           -1,
           -1,
           -1,
           -1,
           -1,
           -1,
           -1,
           -1,
           -1,
           -1,
           -1,
           -1,
           -1,
           -1,
           -1,
           -1,
           -1,
           -1,
           -1,
           -1,
           -1,
           -1,
           -1,
           -1,
           -1,
           -1,
           -1,
           -1,
           -1,
           -1,
           -1,
           -1,
           -1,
           -1,
           -1,
           -1,
           -1,
           -1,
           -1,
           -1,
           -1,
           -1,
           -1,
           -1,
           -1,
           -1,
           -1,
           -1,
           -1,
           -1,
           -1,
           -1,
           -1,
           -1,
           -1,
           -1,
           -1,
           -1,
           -1
          ],
          "coloraxis": "coloraxis",
          "pattern": {
           "shape": ""
          }
         },
         "name": "",
         "offsetgroup": "",
         "orientation": "v",
         "showlegend": false,
         "textposition": "auto",
         "type": "bar",
         "x": [
          "Kim, Si Woo",
          "Noren, Alex",
          "Spieth, Jordan",
          "Lee, Min Woo",
          "Jaeger, Stephan",
          "An, Byeong Hun",
          "Day, Jason",
          "Schenk, Adam",
          "Scott, Adam",
          "Kim, Tom",
          "Hoge, Tom",
          "Hughes, Mackenzie",
          "Hubbard, Mark",
          "Mitchell, Keith",
          "McNealy, Maverick",
          "Detry, Thomas",
          "Ghim, Doug",
          "Hossler, Beau",
          "Rai, Aaron",
          "Thompson, Davis",
          "Griffin, Ben",
          "Power, Seamus",
          "Lee, Kyounghoon",
          "Lower, Justin",
          "Sigg, Greyson",
          "Kim, Chan",
          "List, Luke",
          "Yu, Kevin",
          "Schmid, Matthias",
          "Lashley, Nate",
          "Novak, Andrew",
          "Bramlett, Joseph",
          "Bridgeman, Jacob",
          "Kim, Michael",
          "Kim, Seonghyeon",
          "Hisatsune, Ryo",
          "Pendrith, Taylor",
          "Stevens, Samuel",
          "Coody, Parker",
          "Ramey, Chad",
          "Spaun, J.J.",
          "Cauley, Bud",
          "Berger, Daniel",
          "Phillips, Chandler",
          "Fox, Ryan",
          "Pan, C.T.",
          "Knapp, Jake",
          "Meissner, Mac",
          "Vegas, Jhonattan",
          "Bjork, Alexander",
          "Stanger, Jimmy",
          "Tosti, Alejandro",
          "Ryder, Sam",
          "Greyserman, Max",
          "Olesen, Thorbjorn",
          "Montgomery, Taylor",
          "Kuchar, Matt",
          "Whaley, Vince",
          "Laird, Martin",
          "Cummins, Quade",
          "Garnett, Brice",
          "Smalley, Alex",
          "Valimaki, Sami",
          "Tway, Kevin",
          "Norrman, Vincent",
          "Griffin, Lanto",
          "Wu, Dylan",
          "Young, Carson",
          "Martin, Ben",
          "Endycott, Harrison",
          "Highsmith, Joe",
          "Moore, Ryan",
          "Hardy, Nick",
          "Dahmen, Joel",
          "Wallace, Matt",
          "Springer, Hayden",
          "Semikawa, Taiga",
          "Silverman, Ben",
          "NeSmith, Matthew",
          "Yuan, Carl",
          "Hoey, Rico",
          "Barnes, Erik",
          "Hadley, Chesson",
          "Campillo, Jorge",
          "Higgo, Garrick",
          "Dunlap, Nick",
          "Norlander, Henrik",
          "Macintyre, Robert",
          "Kuest, Peter",
          "Gotterup, Chris",
          "Hall, Harry",
          "Reavie, Chez",
          "Smotherman, Austin",
          "Champ, Cameron",
          "Palmer, Ryan",
          "Echavarria, Nicolas",
          "Suh, Justin",
          "Bryan, Wesley",
          "Johnson, Zach",
          "Wu, Brandon",
          "Campos, Rafael",
          "Merritt, Troy",
          "Streelman, Kevin",
          "McGreevy, Max",
          "Baddeley, Aaron",
          "Riley, Davis",
          "Shelton, Robby",
          "Fishburn, Patrick",
          "Alexander, Tyson",
          "Tarren, Callum",
          "Crowe, Trace",
          "Skinns, David",
          "Lindheim, Nicholas",
          "Lipsky, David",
          "Dougherty, Kevin",
          "Furr, Wilson",
          "Kohles, Ben",
          "Whitney, Tom",
          "Sloan, Roger",
          "Burgoon, Bronson",
          "Cook, Austin",
          "Coody, Pierceson",
          "Cink, Stewart",
          "Kizzire, Patton",
          "Xiong, Norman",
          "Kraft, Kelly",
          "Blair, Zac",
          "Dumont de Chassart, Adrien",
          "Dou, Zecheng",
          "Hahn, James",
          "Trainer, Martin",
          "Werenski, Richy",
          "Buckley, Hayden",
          "Brehm, Ryan",
          "Villegas, Camilo",
          "Walker, Jimmy",
          "Chappell, Kevin",
          "Teater, Josh",
          "Barjon, Paul",
          "Gutschewski, Scott",
          "Gribble, Cody",
          "Hopfinger, Brad",
          "McCormick, Ryan",
          "Snedeker, Brandt",
          "Limbhasut, KK",
          "Kisner, Kevin",
          "Pereda, Raul",
          "Taylor, Ben",
          "Kang, Sung",
          "Watney, Nick",
          "Hale Jr, Blaine",
          "Nyfjall, David"
         ],
         "xaxis": "x",
         "y": [
          0.48,
          0.39,
          0.38,
          0.37,
          0.36,
          0.36,
          0.35,
          0.35,
          0.34,
          0.31,
          0.3,
          0.28,
          0.27,
          0.27,
          0.26,
          0.26,
          0.24,
          0.24,
          0.24,
          0.24,
          0.23,
          0.23,
          0.22,
          0.22,
          0.21,
          0.2,
          0.18,
          0.18,
          0.18,
          0.17,
          0.17,
          0.17,
          0.16,
          0.16,
          0.16,
          0.16,
          0.16,
          0.16,
          0.16,
          0.15,
          0.15,
          0.15,
          0.15,
          0.15,
          0.15,
          0.15,
          0.15,
          0.14,
          0.14,
          0.14,
          0.14,
          0.14,
          0.14,
          0.14,
          0.14,
          0.13,
          0.13,
          0.13,
          0.13,
          0.13,
          0.13,
          0.13,
          0.13,
          0.13,
          0.13,
          0.13,
          0.12,
          0.12,
          0.12,
          0.12,
          0.12,
          0.12,
          0.12,
          0.12,
          0.12,
          0.11,
          0.11,
          0.11,
          0.11,
          0.11,
          0.11,
          0.11,
          0.11,
          0.11,
          0.11,
          0.11,
          0.1,
          0.1,
          0.1,
          0.1,
          0.1,
          0.09,
          0.09,
          0.09,
          0.09,
          0.09,
          0.09,
          0.09,
          0.09,
          0.09,
          0.08,
          0.08,
          0.08,
          0.08,
          0.08,
          0.08,
          0.08,
          0.08,
          0.08,
          0.07,
          0.07,
          0.07,
          0.07,
          0.07,
          0.07,
          0.07,
          0.07,
          0.06,
          0.06,
          0.06,
          0.06,
          0.06,
          0.06,
          0.06,
          0.05,
          0.05,
          0.05,
          0.05,
          0.05,
          0.05,
          0.04,
          0.04,
          0.04,
          0.03,
          0.03,
          0.03,
          0.03,
          0.03,
          0.03,
          0.02,
          0.02,
          0.02,
          0.02,
          0.02,
          0.01,
          0.01,
          0.01,
          0.01,
          0.01,
          0,
          0,
          0
         ],
         "yaxis": "y"
        }
       ],
       "layout": {
        "barmode": "relative",
        "coloraxis": {
         "colorbar": {
          "title": {
           "text": "diff_win"
          }
         },
         "colorscale": [
          [
           0,
           "#0d0887"
          ],
          [
           0.1111111111111111,
           "#46039f"
          ],
          [
           0.2222222222222222,
           "#7201a8"
          ],
          [
           0.3333333333333333,
           "#9c179e"
          ],
          [
           0.4444444444444444,
           "#bd3786"
          ],
          [
           0.5555555555555556,
           "#d8576b"
          ],
          [
           0.6666666666666666,
           "#ed7953"
          ],
          [
           0.7777777777777778,
           "#fb9f3a"
          ],
          [
           0.8888888888888888,
           "#fdca26"
          ],
          [
           1,
           "#f0f921"
          ]
         ]
        },
        "legend": {
         "tracegroupgap": 0
        },
        "margin": {
         "t": 60
        },
        "template": {
         "data": {
          "bar": [
           {
            "error_x": {
             "color": "#2a3f5f"
            },
            "error_y": {
             "color": "#2a3f5f"
            },
            "marker": {
             "line": {
              "color": "#E5ECF6",
              "width": 0.5
             },
             "pattern": {
              "fillmode": "overlay",
              "size": 10,
              "solidity": 0.2
             }
            },
            "type": "bar"
           }
          ],
          "barpolar": [
           {
            "marker": {
             "line": {
              "color": "#E5ECF6",
              "width": 0.5
             },
             "pattern": {
              "fillmode": "overlay",
              "size": 10,
              "solidity": 0.2
             }
            },
            "type": "barpolar"
           }
          ],
          "carpet": [
           {
            "aaxis": {
             "endlinecolor": "#2a3f5f",
             "gridcolor": "white",
             "linecolor": "white",
             "minorgridcolor": "white",
             "startlinecolor": "#2a3f5f"
            },
            "baxis": {
             "endlinecolor": "#2a3f5f",
             "gridcolor": "white",
             "linecolor": "white",
             "minorgridcolor": "white",
             "startlinecolor": "#2a3f5f"
            },
            "type": "carpet"
           }
          ],
          "choropleth": [
           {
            "colorbar": {
             "outlinewidth": 0,
             "ticks": ""
            },
            "type": "choropleth"
           }
          ],
          "contour": [
           {
            "colorbar": {
             "outlinewidth": 0,
             "ticks": ""
            },
            "colorscale": [
             [
              0,
              "#0d0887"
             ],
             [
              0.1111111111111111,
              "#46039f"
             ],
             [
              0.2222222222222222,
              "#7201a8"
             ],
             [
              0.3333333333333333,
              "#9c179e"
             ],
             [
              0.4444444444444444,
              "#bd3786"
             ],
             [
              0.5555555555555556,
              "#d8576b"
             ],
             [
              0.6666666666666666,
              "#ed7953"
             ],
             [
              0.7777777777777778,
              "#fb9f3a"
             ],
             [
              0.8888888888888888,
              "#fdca26"
             ],
             [
              1,
              "#f0f921"
             ]
            ],
            "type": "contour"
           }
          ],
          "contourcarpet": [
           {
            "colorbar": {
             "outlinewidth": 0,
             "ticks": ""
            },
            "type": "contourcarpet"
           }
          ],
          "heatmap": [
           {
            "colorbar": {
             "outlinewidth": 0,
             "ticks": ""
            },
            "colorscale": [
             [
              0,
              "#0d0887"
             ],
             [
              0.1111111111111111,
              "#46039f"
             ],
             [
              0.2222222222222222,
              "#7201a8"
             ],
             [
              0.3333333333333333,
              "#9c179e"
             ],
             [
              0.4444444444444444,
              "#bd3786"
             ],
             [
              0.5555555555555556,
              "#d8576b"
             ],
             [
              0.6666666666666666,
              "#ed7953"
             ],
             [
              0.7777777777777778,
              "#fb9f3a"
             ],
             [
              0.8888888888888888,
              "#fdca26"
             ],
             [
              1,
              "#f0f921"
             ]
            ],
            "type": "heatmap"
           }
          ],
          "heatmapgl": [
           {
            "colorbar": {
             "outlinewidth": 0,
             "ticks": ""
            },
            "colorscale": [
             [
              0,
              "#0d0887"
             ],
             [
              0.1111111111111111,
              "#46039f"
             ],
             [
              0.2222222222222222,
              "#7201a8"
             ],
             [
              0.3333333333333333,
              "#9c179e"
             ],
             [
              0.4444444444444444,
              "#bd3786"
             ],
             [
              0.5555555555555556,
              "#d8576b"
             ],
             [
              0.6666666666666666,
              "#ed7953"
             ],
             [
              0.7777777777777778,
              "#fb9f3a"
             ],
             [
              0.8888888888888888,
              "#fdca26"
             ],
             [
              1,
              "#f0f921"
             ]
            ],
            "type": "heatmapgl"
           }
          ],
          "histogram": [
           {
            "marker": {
             "pattern": {
              "fillmode": "overlay",
              "size": 10,
              "solidity": 0.2
             }
            },
            "type": "histogram"
           }
          ],
          "histogram2d": [
           {
            "colorbar": {
             "outlinewidth": 0,
             "ticks": ""
            },
            "colorscale": [
             [
              0,
              "#0d0887"
             ],
             [
              0.1111111111111111,
              "#46039f"
             ],
             [
              0.2222222222222222,
              "#7201a8"
             ],
             [
              0.3333333333333333,
              "#9c179e"
             ],
             [
              0.4444444444444444,
              "#bd3786"
             ],
             [
              0.5555555555555556,
              "#d8576b"
             ],
             [
              0.6666666666666666,
              "#ed7953"
             ],
             [
              0.7777777777777778,
              "#fb9f3a"
             ],
             [
              0.8888888888888888,
              "#fdca26"
             ],
             [
              1,
              "#f0f921"
             ]
            ],
            "type": "histogram2d"
           }
          ],
          "histogram2dcontour": [
           {
            "colorbar": {
             "outlinewidth": 0,
             "ticks": ""
            },
            "colorscale": [
             [
              0,
              "#0d0887"
             ],
             [
              0.1111111111111111,
              "#46039f"
             ],
             [
              0.2222222222222222,
              "#7201a8"
             ],
             [
              0.3333333333333333,
              "#9c179e"
             ],
             [
              0.4444444444444444,
              "#bd3786"
             ],
             [
              0.5555555555555556,
              "#d8576b"
             ],
             [
              0.6666666666666666,
              "#ed7953"
             ],
             [
              0.7777777777777778,
              "#fb9f3a"
             ],
             [
              0.8888888888888888,
              "#fdca26"
             ],
             [
              1,
              "#f0f921"
             ]
            ],
            "type": "histogram2dcontour"
           }
          ],
          "mesh3d": [
           {
            "colorbar": {
             "outlinewidth": 0,
             "ticks": ""
            },
            "type": "mesh3d"
           }
          ],
          "parcoords": [
           {
            "line": {
             "colorbar": {
              "outlinewidth": 0,
              "ticks": ""
             }
            },
            "type": "parcoords"
           }
          ],
          "pie": [
           {
            "automargin": true,
            "type": "pie"
           }
          ],
          "scatter": [
           {
            "fillpattern": {
             "fillmode": "overlay",
             "size": 10,
             "solidity": 0.2
            },
            "type": "scatter"
           }
          ],
          "scatter3d": [
           {
            "line": {
             "colorbar": {
              "outlinewidth": 0,
              "ticks": ""
             }
            },
            "marker": {
             "colorbar": {
              "outlinewidth": 0,
              "ticks": ""
             }
            },
            "type": "scatter3d"
           }
          ],
          "scattercarpet": [
           {
            "marker": {
             "colorbar": {
              "outlinewidth": 0,
              "ticks": ""
             }
            },
            "type": "scattercarpet"
           }
          ],
          "scattergeo": [
           {
            "marker": {
             "colorbar": {
              "outlinewidth": 0,
              "ticks": ""
             }
            },
            "type": "scattergeo"
           }
          ],
          "scattergl": [
           {
            "marker": {
             "colorbar": {
              "outlinewidth": 0,
              "ticks": ""
             }
            },
            "type": "scattergl"
           }
          ],
          "scattermapbox": [
           {
            "marker": {
             "colorbar": {
              "outlinewidth": 0,
              "ticks": ""
             }
            },
            "type": "scattermapbox"
           }
          ],
          "scatterpolar": [
           {
            "marker": {
             "colorbar": {
              "outlinewidth": 0,
              "ticks": ""
             }
            },
            "type": "scatterpolar"
           }
          ],
          "scatterpolargl": [
           {
            "marker": {
             "colorbar": {
              "outlinewidth": 0,
              "ticks": ""
             }
            },
            "type": "scatterpolargl"
           }
          ],
          "scatterternary": [
           {
            "marker": {
             "colorbar": {
              "outlinewidth": 0,
              "ticks": ""
             }
            },
            "type": "scatterternary"
           }
          ],
          "surface": [
           {
            "colorbar": {
             "outlinewidth": 0,
             "ticks": ""
            },
            "colorscale": [
             [
              0,
              "#0d0887"
             ],
             [
              0.1111111111111111,
              "#46039f"
             ],
             [
              0.2222222222222222,
              "#7201a8"
             ],
             [
              0.3333333333333333,
              "#9c179e"
             ],
             [
              0.4444444444444444,
              "#bd3786"
             ],
             [
              0.5555555555555556,
              "#d8576b"
             ],
             [
              0.6666666666666666,
              "#ed7953"
             ],
             [
              0.7777777777777778,
              "#fb9f3a"
             ],
             [
              0.8888888888888888,
              "#fdca26"
             ],
             [
              1,
              "#f0f921"
             ]
            ],
            "type": "surface"
           }
          ],
          "table": [
           {
            "cells": {
             "fill": {
              "color": "#EBF0F8"
             },
             "line": {
              "color": "white"
             }
            },
            "header": {
             "fill": {
              "color": "#C8D4E3"
             },
             "line": {
              "color": "white"
             }
            },
            "type": "table"
           }
          ]
         },
         "layout": {
          "annotationdefaults": {
           "arrowcolor": "#2a3f5f",
           "arrowhead": 0,
           "arrowwidth": 1
          },
          "autotypenumbers": "strict",
          "coloraxis": {
           "colorbar": {
            "outlinewidth": 0,
            "ticks": ""
           }
          },
          "colorscale": {
           "diverging": [
            [
             0,
             "#8e0152"
            ],
            [
             0.1,
             "#c51b7d"
            ],
            [
             0.2,
             "#de77ae"
            ],
            [
             0.3,
             "#f1b6da"
            ],
            [
             0.4,
             "#fde0ef"
            ],
            [
             0.5,
             "#f7f7f7"
            ],
            [
             0.6,
             "#e6f5d0"
            ],
            [
             0.7,
             "#b8e186"
            ],
            [
             0.8,
             "#7fbc41"
            ],
            [
             0.9,
             "#4d9221"
            ],
            [
             1,
             "#276419"
            ]
           ],
           "sequential": [
            [
             0,
             "#0d0887"
            ],
            [
             0.1111111111111111,
             "#46039f"
            ],
            [
             0.2222222222222222,
             "#7201a8"
            ],
            [
             0.3333333333333333,
             "#9c179e"
            ],
            [
             0.4444444444444444,
             "#bd3786"
            ],
            [
             0.5555555555555556,
             "#d8576b"
            ],
            [
             0.6666666666666666,
             "#ed7953"
            ],
            [
             0.7777777777777778,
             "#fb9f3a"
            ],
            [
             0.8888888888888888,
             "#fdca26"
            ],
            [
             1,
             "#f0f921"
            ]
           ],
           "sequentialminus": [
            [
             0,
             "#0d0887"
            ],
            [
             0.1111111111111111,
             "#46039f"
            ],
            [
             0.2222222222222222,
             "#7201a8"
            ],
            [
             0.3333333333333333,
             "#9c179e"
            ],
            [
             0.4444444444444444,
             "#bd3786"
            ],
            [
             0.5555555555555556,
             "#d8576b"
            ],
            [
             0.6666666666666666,
             "#ed7953"
            ],
            [
             0.7777777777777778,
             "#fb9f3a"
            ],
            [
             0.8888888888888888,
             "#fdca26"
            ],
            [
             1,
             "#f0f921"
            ]
           ]
          },
          "colorway": [
           "#636efa",
           "#EF553B",
           "#00cc96",
           "#ab63fa",
           "#FFA15A",
           "#19d3f3",
           "#FF6692",
           "#B6E880",
           "#FF97FF",
           "#FECB52"
          ],
          "font": {
           "color": "#2a3f5f"
          },
          "geo": {
           "bgcolor": "white",
           "lakecolor": "white",
           "landcolor": "#E5ECF6",
           "showlakes": true,
           "showland": true,
           "subunitcolor": "white"
          },
          "hoverlabel": {
           "align": "left"
          },
          "hovermode": "closest",
          "mapbox": {
           "style": "light"
          },
          "paper_bgcolor": "white",
          "plot_bgcolor": "#E5ECF6",
          "polar": {
           "angularaxis": {
            "gridcolor": "white",
            "linecolor": "white",
            "ticks": ""
           },
           "bgcolor": "#E5ECF6",
           "radialaxis": {
            "gridcolor": "white",
            "linecolor": "white",
            "ticks": ""
           }
          },
          "scene": {
           "xaxis": {
            "backgroundcolor": "#E5ECF6",
            "gridcolor": "white",
            "gridwidth": 2,
            "linecolor": "white",
            "showbackground": true,
            "ticks": "",
            "zerolinecolor": "white"
           },
           "yaxis": {
            "backgroundcolor": "#E5ECF6",
            "gridcolor": "white",
            "gridwidth": 2,
            "linecolor": "white",
            "showbackground": true,
            "ticks": "",
            "zerolinecolor": "white"
           },
           "zaxis": {
            "backgroundcolor": "#E5ECF6",
            "gridcolor": "white",
            "gridwidth": 2,
            "linecolor": "white",
            "showbackground": true,
            "ticks": "",
            "zerolinecolor": "white"
           }
          },
          "shapedefaults": {
           "line": {
            "color": "#2a3f5f"
           }
          },
          "ternary": {
           "aaxis": {
            "gridcolor": "white",
            "linecolor": "white",
            "ticks": ""
           },
           "baxis": {
            "gridcolor": "white",
            "linecolor": "white",
            "ticks": ""
           },
           "bgcolor": "#E5ECF6",
           "caxis": {
            "gridcolor": "white",
            "linecolor": "white",
            "ticks": ""
           }
          },
          "title": {
           "x": 0.05
          },
          "xaxis": {
           "automargin": true,
           "gridcolor": "white",
           "linecolor": "white",
           "ticks": "",
           "title": {
            "standoff": 15
           },
           "zerolinecolor": "white",
           "zerolinewidth": 2
          },
          "yaxis": {
           "automargin": true,
           "gridcolor": "white",
           "linecolor": "white",
           "ticks": "",
           "title": {
            "standoff": 15
           },
           "zerolinecolor": "white",
           "zerolinewidth": 2
          }
         }
        },
        "xaxis": {
         "anchor": "y",
         "domain": [
          0,
          1
         ],
         "title": {
          "text": "player"
         }
        },
        "yaxis": {
         "anchor": "x",
         "domain": [
          0,
          1
         ],
         "title": {
          "text": "pred_20"
         }
        }
       }
      }
     },
     "metadata": {},
     "output_type": "display_data"
    }
   ],
   "source": [
    "px.bar(df.sort_values(by='pred_20',ascending=False),\n",
    "       x='player',\n",
    "       y='pred_20',\n",
    "       color='diff_win')"
   ]
  },
  {
   "cell_type": "code",
   "execution_count": null,
   "metadata": {},
   "outputs": [],
   "source": [
    "top20 = pd.read_csv(r\"C:\\Users\\mikej\\Downloads\\pga_historical_outrights (13).csv\")\n",
    "top10 = pd.read_csv(r\"C:\\Users\\mikej\\Downloads\\pga_historical_outrights (12).csv\")\n",
    "top5 = pd.read_csv(r\"C:\\Users\\mikej\\Downloads\\pga_historical_outrights (11).csv\")\n",
    "win = pd.read_csv(r\"C:\\Users\\mikej\\Downloads\\pga_historical_outrights (10).csv\")"
   ]
  },
  {
   "cell_type": "code",
   "execution_count": 18,
   "metadata": {},
   "outputs": [
    {
     "data": {
      "text/html": [
       "<div>\n",
       "<style scoped>\n",
       "    .dataframe tbody tr th:only-of-type {\n",
       "        vertical-align: middle;\n",
       "    }\n",
       "\n",
       "    .dataframe tbody tr th {\n",
       "        vertical-align: top;\n",
       "    }\n",
       "\n",
       "    .dataframe thead th {\n",
       "        text-align: right;\n",
       "    }\n",
       "</style>\n",
       "<table border=\"1\" class=\"dataframe\">\n",
       "  <thead>\n",
       "    <tr style=\"text-align: right;\">\n",
       "      <th></th>\n",
       "      <th>year</th>\n",
       "      <th>season</th>\n",
       "      <th>event_name</th>\n",
       "      <th>event_id</th>\n",
       "      <th>event_completed</th>\n",
       "      <th>book</th>\n",
       "      <th>market</th>\n",
       "      <th>player_name</th>\n",
       "      <th>dg_id</th>\n",
       "      <th>open_odds</th>\n",
       "      <th>open_time</th>\n",
       "      <th>close_odds</th>\n",
       "      <th>close_time</th>\n",
       "      <th>outcome</th>\n",
       "      <th>bet_outcome_text</th>\n",
       "      <th>bet_outcome_numeric</th>\n",
       "    </tr>\n",
       "  </thead>\n",
       "  <tbody>\n",
       "    <tr>\n",
       "      <th>0</th>\n",
       "      <td>2024</td>\n",
       "      <td>2024</td>\n",
       "      <td>THE CJ CUP Byron Nelson</td>\n",
       "      <td>19</td>\n",
       "      <td>2024-05-05</td>\n",
       "      <td>draftkings</td>\n",
       "      <td>top_20</td>\n",
       "      <td>Spieth, Jordan</td>\n",
       "      <td>14636</td>\n",
       "      <td>1.95</td>\n",
       "      <td>2024-04-29 13:40</td>\n",
       "      <td>1.95</td>\n",
       "      <td>2024-05-01 23:56</td>\n",
       "      <td>CU</td>\n",
       "      <td>loss</td>\n",
       "      <td>0.0</td>\n",
       "    </tr>\n",
       "    <tr>\n",
       "      <th>1</th>\n",
       "      <td>2024</td>\n",
       "      <td>2024</td>\n",
       "      <td>THE CJ CUP Byron Nelson</td>\n",
       "      <td>19</td>\n",
       "      <td>2024-05-05</td>\n",
       "      <td>draftkings</td>\n",
       "      <td>top_20</td>\n",
       "      <td>Kim, Si Woo</td>\n",
       "      <td>14609</td>\n",
       "      <td>2.25</td>\n",
       "      <td>2024-04-29 13:40</td>\n",
       "      <td>2.00</td>\n",
       "      <td>2024-05-01 23:56</td>\n",
       "      <td>13</td>\n",
       "      <td>paid in full</td>\n",
       "      <td>1.0</td>\n",
       "    </tr>\n",
       "    <tr>\n",
       "      <th>2</th>\n",
       "      <td>2024</td>\n",
       "      <td>2024</td>\n",
       "      <td>THE CJ CUP Byron Nelson</td>\n",
       "      <td>19</td>\n",
       "      <td>2024-05-05</td>\n",
       "      <td>draftkings</td>\n",
       "      <td>top_20</td>\n",
       "      <td>Day, Jason</td>\n",
       "      <td>9771</td>\n",
       "      <td>2.15</td>\n",
       "      <td>2024-04-29 13:40</td>\n",
       "      <td>2.20</td>\n",
       "      <td>2024-05-01 23:56</td>\n",
       "      <td>59</td>\n",
       "      <td>loss</td>\n",
       "      <td>0.0</td>\n",
       "    </tr>\n",
       "    <tr>\n",
       "      <th>3</th>\n",
       "      <td>2024</td>\n",
       "      <td>2024</td>\n",
       "      <td>THE CJ CUP Byron Nelson</td>\n",
       "      <td>19</td>\n",
       "      <td>2024-05-05</td>\n",
       "      <td>draftkings</td>\n",
       "      <td>top_20</td>\n",
       "      <td>Scott, Adam</td>\n",
       "      <td>6430</td>\n",
       "      <td>2.40</td>\n",
       "      <td>2024-04-29 13:40</td>\n",
       "      <td>2.30</td>\n",
       "      <td>2024-05-01 23:56</td>\n",
       "      <td>30</td>\n",
       "      <td>loss</td>\n",
       "      <td>0.0</td>\n",
       "    </tr>\n",
       "    <tr>\n",
       "      <th>4</th>\n",
       "      <td>2024</td>\n",
       "      <td>2024</td>\n",
       "      <td>THE CJ CUP Byron Nelson</td>\n",
       "      <td>19</td>\n",
       "      <td>2024-05-05</td>\n",
       "      <td>draftkings</td>\n",
       "      <td>top_20</td>\n",
       "      <td>Noren, Alex</td>\n",
       "      <td>10419</td>\n",
       "      <td>2.40</td>\n",
       "      <td>2024-04-29 13:40</td>\n",
       "      <td>2.30</td>\n",
       "      <td>2024-05-01 23:56</td>\n",
       "      <td>3</td>\n",
       "      <td>paid in full</td>\n",
       "      <td>1.0</td>\n",
       "    </tr>\n",
       "    <tr>\n",
       "      <th>...</th>\n",
       "      <td>...</td>\n",
       "      <td>...</td>\n",
       "      <td>...</td>\n",
       "      <td>...</td>\n",
       "      <td>...</td>\n",
       "      <td>...</td>\n",
       "      <td>...</td>\n",
       "      <td>...</td>\n",
       "      <td>...</td>\n",
       "      <td>...</td>\n",
       "      <td>...</td>\n",
       "      <td>...</td>\n",
       "      <td>...</td>\n",
       "      <td>...</td>\n",
       "      <td>...</td>\n",
       "      <td>...</td>\n",
       "    </tr>\n",
       "    <tr>\n",
       "      <th>147</th>\n",
       "      <td>2024</td>\n",
       "      <td>2024</td>\n",
       "      <td>THE CJ CUP Byron Nelson</td>\n",
       "      <td>19</td>\n",
       "      <td>2024-05-05</td>\n",
       "      <td>draftkings</td>\n",
       "      <td>top_20</td>\n",
       "      <td>Taylor, Ben</td>\n",
       "      <td>19948</td>\n",
       "      <td>26.00</td>\n",
       "      <td>2024-04-29 13:40</td>\n",
       "      <td>26.00</td>\n",
       "      <td>2024-05-01 23:56</td>\n",
       "      <td>CU</td>\n",
       "      <td>loss</td>\n",
       "      <td>0.0</td>\n",
       "    </tr>\n",
       "    <tr>\n",
       "      <th>148</th>\n",
       "      <td>2024</td>\n",
       "      <td>2024</td>\n",
       "      <td>THE CJ CUP Byron Nelson</td>\n",
       "      <td>19</td>\n",
       "      <td>2024-05-05</td>\n",
       "      <td>draftkings</td>\n",
       "      <td>top_20</td>\n",
       "      <td>Limbhasut, KK</td>\n",
       "      <td>22904</td>\n",
       "      <td>26.00</td>\n",
       "      <td>2024-04-30 08:50</td>\n",
       "      <td>36.00</td>\n",
       "      <td>2024-05-01 23:56</td>\n",
       "      <td>CU</td>\n",
       "      <td>loss</td>\n",
       "      <td>0.0</td>\n",
       "    </tr>\n",
       "    <tr>\n",
       "      <th>149</th>\n",
       "      <td>2024</td>\n",
       "      <td>2024</td>\n",
       "      <td>THE CJ CUP Byron Nelson</td>\n",
       "      <td>19</td>\n",
       "      <td>2024-05-05</td>\n",
       "      <td>draftkings</td>\n",
       "      <td>top_20</td>\n",
       "      <td>Hale Jr, Blaine</td>\n",
       "      <td>29348</td>\n",
       "      <td>76.00</td>\n",
       "      <td>2024-04-29 13:40</td>\n",
       "      <td>46.00</td>\n",
       "      <td>2024-05-01 23:56</td>\n",
       "      <td>CU</td>\n",
       "      <td>loss</td>\n",
       "      <td>0.0</td>\n",
       "    </tr>\n",
       "    <tr>\n",
       "      <th>150</th>\n",
       "      <td>2024</td>\n",
       "      <td>2024</td>\n",
       "      <td>THE CJ CUP Byron Nelson</td>\n",
       "      <td>19</td>\n",
       "      <td>2024-05-05</td>\n",
       "      <td>draftkings</td>\n",
       "      <td>top_20</td>\n",
       "      <td>Pereda, Raul</td>\n",
       "      <td>19620</td>\n",
       "      <td>31.00</td>\n",
       "      <td>2024-04-29 13:40</td>\n",
       "      <td>51.00</td>\n",
       "      <td>2024-05-01 23:56</td>\n",
       "      <td>CU</td>\n",
       "      <td>loss</td>\n",
       "      <td>0.0</td>\n",
       "    </tr>\n",
       "    <tr>\n",
       "      <th>151</th>\n",
       "      <td>2024</td>\n",
       "      <td>2024</td>\n",
       "      <td>THE CJ CUP Byron Nelson</td>\n",
       "      <td>19</td>\n",
       "      <td>2024-05-05</td>\n",
       "      <td>draftkings</td>\n",
       "      <td>top_20</td>\n",
       "      <td>Watney, Nick</td>\n",
       "      <td>7955</td>\n",
       "      <td>41.00</td>\n",
       "      <td>2024-04-30 15:41</td>\n",
       "      <td>81.00</td>\n",
       "      <td>2024-05-01 23:56</td>\n",
       "      <td>CU</td>\n",
       "      <td>loss</td>\n",
       "      <td>0.0</td>\n",
       "    </tr>\n",
       "  </tbody>\n",
       "</table>\n",
       "<p>152 rows × 16 columns</p>\n",
       "</div>"
      ],
      "text/plain": [
       "     year  season               event_name  event_id event_completed  \\\n",
       "0    2024    2024  THE CJ CUP Byron Nelson        19      2024-05-05   \n",
       "1    2024    2024  THE CJ CUP Byron Nelson        19      2024-05-05   \n",
       "2    2024    2024  THE CJ CUP Byron Nelson        19      2024-05-05   \n",
       "3    2024    2024  THE CJ CUP Byron Nelson        19      2024-05-05   \n",
       "4    2024    2024  THE CJ CUP Byron Nelson        19      2024-05-05   \n",
       "..    ...     ...                      ...       ...             ...   \n",
       "147  2024    2024  THE CJ CUP Byron Nelson        19      2024-05-05   \n",
       "148  2024    2024  THE CJ CUP Byron Nelson        19      2024-05-05   \n",
       "149  2024    2024  THE CJ CUP Byron Nelson        19      2024-05-05   \n",
       "150  2024    2024  THE CJ CUP Byron Nelson        19      2024-05-05   \n",
       "151  2024    2024  THE CJ CUP Byron Nelson        19      2024-05-05   \n",
       "\n",
       "           book  market      player_name  dg_id  open_odds         open_time  \\\n",
       "0    draftkings  top_20   Spieth, Jordan  14636       1.95  2024-04-29 13:40   \n",
       "1    draftkings  top_20      Kim, Si Woo  14609       2.25  2024-04-29 13:40   \n",
       "2    draftkings  top_20       Day, Jason   9771       2.15  2024-04-29 13:40   \n",
       "3    draftkings  top_20      Scott, Adam   6430       2.40  2024-04-29 13:40   \n",
       "4    draftkings  top_20      Noren, Alex  10419       2.40  2024-04-29 13:40   \n",
       "..          ...     ...              ...    ...        ...               ...   \n",
       "147  draftkings  top_20      Taylor, Ben  19948      26.00  2024-04-29 13:40   \n",
       "148  draftkings  top_20    Limbhasut, KK  22904      26.00  2024-04-30 08:50   \n",
       "149  draftkings  top_20  Hale Jr, Blaine  29348      76.00  2024-04-29 13:40   \n",
       "150  draftkings  top_20     Pereda, Raul  19620      31.00  2024-04-29 13:40   \n",
       "151  draftkings  top_20     Watney, Nick   7955      41.00  2024-04-30 15:41   \n",
       "\n",
       "     close_odds        close_time outcome bet_outcome_text  \\\n",
       "0          1.95  2024-05-01 23:56      CU             loss   \n",
       "1          2.00  2024-05-01 23:56      13     paid in full   \n",
       "2          2.20  2024-05-01 23:56      59             loss   \n",
       "3          2.30  2024-05-01 23:56      30             loss   \n",
       "4          2.30  2024-05-01 23:56       3     paid in full   \n",
       "..          ...               ...     ...              ...   \n",
       "147       26.00  2024-05-01 23:56      CU             loss   \n",
       "148       36.00  2024-05-01 23:56      CU             loss   \n",
       "149       46.00  2024-05-01 23:56      CU             loss   \n",
       "150       51.00  2024-05-01 23:56      CU             loss   \n",
       "151       81.00  2024-05-01 23:56      CU             loss   \n",
       "\n",
       "     bet_outcome_numeric  \n",
       "0                    0.0  \n",
       "1                    1.0  \n",
       "2                    0.0  \n",
       "3                    0.0  \n",
       "4                    1.0  \n",
       "..                   ...  \n",
       "147                  0.0  \n",
       "148                  0.0  \n",
       "149                  0.0  \n",
       "150                  0.0  \n",
       "151                  0.0  \n",
       "\n",
       "[152 rows x 16 columns]"
      ]
     },
     "execution_count": 18,
     "metadata": {},
     "output_type": "execute_result"
    }
   ],
   "source": [
    "top20"
   ]
  },
  {
   "cell_type": "code",
   "execution_count": 16,
   "metadata": {},
   "outputs": [],
   "source": [
    "top20['outcome'] = top20['outcome'].str.strip(\"T\")\n",
    "\n",
    "outcomes = top20[['player_name','outcome']]\n",
    "outcomes.columns = ['player','outcome']"
   ]
  },
  {
   "cell_type": "code",
   "execution_count": 17,
   "metadata": {},
   "outputs": [
    {
     "data": {
      "text/html": [
       "<div>\n",
       "<style scoped>\n",
       "    .dataframe tbody tr th:only-of-type {\n",
       "        vertical-align: middle;\n",
       "    }\n",
       "\n",
       "    .dataframe tbody tr th {\n",
       "        vertical-align: top;\n",
       "    }\n",
       "\n",
       "    .dataframe thead th {\n",
       "        text-align: right;\n",
       "    }\n",
       "</style>\n",
       "<table border=\"1\" class=\"dataframe\">\n",
       "  <thead>\n",
       "    <tr style=\"text-align: right;\">\n",
       "      <th></th>\n",
       "      <th>player</th>\n",
       "      <th>outcome</th>\n",
       "    </tr>\n",
       "  </thead>\n",
       "  <tbody>\n",
       "    <tr>\n",
       "      <th>0</th>\n",
       "      <td>Spieth, Jordan</td>\n",
       "      <td>CU</td>\n",
       "    </tr>\n",
       "    <tr>\n",
       "      <th>1</th>\n",
       "      <td>Kim, Si Woo</td>\n",
       "      <td>13</td>\n",
       "    </tr>\n",
       "    <tr>\n",
       "      <th>2</th>\n",
       "      <td>Day, Jason</td>\n",
       "      <td>59</td>\n",
       "    </tr>\n",
       "    <tr>\n",
       "      <th>3</th>\n",
       "      <td>Scott, Adam</td>\n",
       "      <td>30</td>\n",
       "    </tr>\n",
       "    <tr>\n",
       "      <th>4</th>\n",
       "      <td>Noren, Alex</td>\n",
       "      <td>3</td>\n",
       "    </tr>\n",
       "    <tr>\n",
       "      <th>...</th>\n",
       "      <td>...</td>\n",
       "      <td>...</td>\n",
       "    </tr>\n",
       "    <tr>\n",
       "      <th>147</th>\n",
       "      <td>Taylor, Ben</td>\n",
       "      <td>CU</td>\n",
       "    </tr>\n",
       "    <tr>\n",
       "      <th>148</th>\n",
       "      <td>Limbhasut, KK</td>\n",
       "      <td>CU</td>\n",
       "    </tr>\n",
       "    <tr>\n",
       "      <th>149</th>\n",
       "      <td>Hale Jr, Blaine</td>\n",
       "      <td>CU</td>\n",
       "    </tr>\n",
       "    <tr>\n",
       "      <th>150</th>\n",
       "      <td>Pereda, Raul</td>\n",
       "      <td>CU</td>\n",
       "    </tr>\n",
       "    <tr>\n",
       "      <th>151</th>\n",
       "      <td>Watney, Nick</td>\n",
       "      <td>CU</td>\n",
       "    </tr>\n",
       "  </tbody>\n",
       "</table>\n",
       "<p>152 rows × 2 columns</p>\n",
       "</div>"
      ],
      "text/plain": [
       "              player outcome\n",
       "0     Spieth, Jordan      CU\n",
       "1        Kim, Si Woo      13\n",
       "2         Day, Jason      59\n",
       "3        Scott, Adam      30\n",
       "4        Noren, Alex       3\n",
       "..               ...     ...\n",
       "147      Taylor, Ben      CU\n",
       "148    Limbhasut, KK      CU\n",
       "149  Hale Jr, Blaine      CU\n",
       "150     Pereda, Raul      CU\n",
       "151     Watney, Nick      CU\n",
       "\n",
       "[152 rows x 2 columns]"
      ]
     },
     "execution_count": 17,
     "metadata": {},
     "output_type": "execute_result"
    }
   ],
   "source": [
    "outcomes#.head(2)"
   ]
  },
  {
   "cell_type": "code",
   "execution_count": 19,
   "metadata": {},
   "outputs": [
    {
     "data": {
      "text/html": [
       "<div>\n",
       "<style scoped>\n",
       "    .dataframe tbody tr th:only-of-type {\n",
       "        vertical-align: middle;\n",
       "    }\n",
       "\n",
       "    .dataframe tbody tr th {\n",
       "        vertical-align: top;\n",
       "    }\n",
       "\n",
       "    .dataframe thead th {\n",
       "        text-align: right;\n",
       "    }\n",
       "</style>\n",
       "<table border=\"1\" class=\"dataframe\">\n",
       "  <thead>\n",
       "    <tr style=\"text-align: right;\">\n",
       "      <th></th>\n",
       "      <th>player</th>\n",
       "      <th>odds_20</th>\n",
       "      <th>odds_10</th>\n",
       "      <th>odds_5</th>\n",
       "      <th>odds_win</th>\n",
       "    </tr>\n",
       "  </thead>\n",
       "  <tbody>\n",
       "    <tr>\n",
       "      <th>0</th>\n",
       "      <td>Alexander, Tyson</td>\n",
       "      <td>23.0</td>\n",
       "      <td>10.0</td>\n",
       "      <td>61.0</td>\n",
       "      <td>301.0</td>\n",
       "    </tr>\n",
       "    <tr>\n",
       "      <th>1</th>\n",
       "      <td>An, Byeong Hun</td>\n",
       "      <td>4.5</td>\n",
       "      <td>2.7</td>\n",
       "      <td>8.0</td>\n",
       "      <td>31.0</td>\n",
       "    </tr>\n",
       "    <tr>\n",
       "      <th>2</th>\n",
       "      <td>Baddeley, Aaron</td>\n",
       "      <td>17.0</td>\n",
       "      <td>7.5</td>\n",
       "      <td>41.0</td>\n",
       "      <td>201.0</td>\n",
       "    </tr>\n",
       "    <tr>\n",
       "      <th>3</th>\n",
       "      <td>Barjon, Paul</td>\n",
       "      <td>26.0</td>\n",
       "      <td>11.0</td>\n",
       "      <td>71.0</td>\n",
       "      <td>351.0</td>\n",
       "    </tr>\n",
       "    <tr>\n",
       "      <th>4</th>\n",
       "      <td>Barnes, Erik</td>\n",
       "      <td>21.0</td>\n",
       "      <td>9.0</td>\n",
       "      <td>51.0</td>\n",
       "      <td>301.0</td>\n",
       "    </tr>\n",
       "    <tr>\n",
       "      <th>...</th>\n",
       "      <td>...</td>\n",
       "      <td>...</td>\n",
       "      <td>...</td>\n",
       "      <td>...</td>\n",
       "      <td>...</td>\n",
       "    </tr>\n",
       "    <tr>\n",
       "      <th>147</th>\n",
       "      <td>Wu, Dylan</td>\n",
       "      <td>17.0</td>\n",
       "      <td>7.0</td>\n",
       "      <td>36.0</td>\n",
       "      <td>201.0</td>\n",
       "    </tr>\n",
       "    <tr>\n",
       "      <th>148</th>\n",
       "      <td>Xiong, Norman</td>\n",
       "      <td>31.0</td>\n",
       "      <td>12.0</td>\n",
       "      <td>81.0</td>\n",
       "      <td>401.0</td>\n",
       "    </tr>\n",
       "    <tr>\n",
       "      <th>149</th>\n",
       "      <td>Young, Carson</td>\n",
       "      <td>17.0</td>\n",
       "      <td>7.5</td>\n",
       "      <td>41.0</td>\n",
       "      <td>201.0</td>\n",
       "    </tr>\n",
       "    <tr>\n",
       "      <th>150</th>\n",
       "      <td>Yu, Kevin</td>\n",
       "      <td>8.0</td>\n",
       "      <td>4.2</td>\n",
       "      <td>15.0</td>\n",
       "      <td>71.0</td>\n",
       "    </tr>\n",
       "    <tr>\n",
       "      <th>151</th>\n",
       "      <td>Yuan, Carl</td>\n",
       "      <td>12.0</td>\n",
       "      <td>6.0</td>\n",
       "      <td>26.0</td>\n",
       "      <td>131.0</td>\n",
       "    </tr>\n",
       "  </tbody>\n",
       "</table>\n",
       "<p>152 rows × 5 columns</p>\n",
       "</div>"
      ],
      "text/plain": [
       "               player  odds_20  odds_10  odds_5  odds_win\n",
       "0    Alexander, Tyson     23.0     10.0    61.0     301.0\n",
       "1      An, Byeong Hun      4.5      2.7     8.0      31.0\n",
       "2     Baddeley, Aaron     17.0      7.5    41.0     201.0\n",
       "3        Barjon, Paul     26.0     11.0    71.0     351.0\n",
       "4        Barnes, Erik     21.0      9.0    51.0     301.0\n",
       "..                ...      ...      ...     ...       ...\n",
       "147         Wu, Dylan     17.0      7.0    36.0     201.0\n",
       "148     Xiong, Norman     31.0     12.0    81.0     401.0\n",
       "149     Young, Carson     17.0      7.5    41.0     201.0\n",
       "150         Yu, Kevin      8.0      4.2    15.0      71.0\n",
       "151        Yuan, Carl     12.0      6.0    26.0     131.0\n",
       "\n",
       "[152 rows x 5 columns]"
      ]
     },
     "execution_count": 19,
     "metadata": {},
     "output_type": "execute_result"
    }
   ],
   "source": [
    "odds = pd.concat([win,top5,top10,top20])\n",
    "\n",
    "odds = odds[['player_name','market','open_odds']].pivot(index='player_name',columns='market',values='open_odds').reset_index().round(2)\n",
    "\n",
    "odds.columns = ['player','odds_20','odds_10','odds_5','odds_win']\n",
    "\n",
    "odds = odds[['player','odds_20','odds_10','odds_5','odds_win']]\n",
    "\n",
    "odds#.head(2)"
   ]
  },
  {
   "cell_type": "code",
   "execution_count": 21,
   "metadata": {},
   "outputs": [
    {
     "data": {
      "text/html": [
       "<div>\n",
       "<style scoped>\n",
       "    .dataframe tbody tr th:only-of-type {\n",
       "        vertical-align: middle;\n",
       "    }\n",
       "\n",
       "    .dataframe tbody tr th {\n",
       "        vertical-align: top;\n",
       "    }\n",
       "\n",
       "    .dataframe thead th {\n",
       "        text-align: right;\n",
       "    }\n",
       "</style>\n",
       "<table border=\"1\" class=\"dataframe\">\n",
       "  <thead>\n",
       "    <tr style=\"text-align: right;\">\n",
       "      <th></th>\n",
       "      <th>player</th>\n",
       "      <th>pred_20</th>\n",
       "      <th>pred_10</th>\n",
       "      <th>pred_5</th>\n",
       "      <th>pred_win</th>\n",
       "    </tr>\n",
       "  </thead>\n",
       "  <tbody>\n",
       "    <tr>\n",
       "      <th>0</th>\n",
       "      <td>Kim, Si Woo</td>\n",
       "      <td>0.48</td>\n",
       "      <td>0.32</td>\n",
       "      <td>0.20</td>\n",
       "      <td>0.06</td>\n",
       "    </tr>\n",
       "    <tr>\n",
       "      <th>1</th>\n",
       "      <td>Spieth, Jordan</td>\n",
       "      <td>0.38</td>\n",
       "      <td>0.24</td>\n",
       "      <td>0.14</td>\n",
       "      <td>0.04</td>\n",
       "    </tr>\n",
       "    <tr>\n",
       "      <th>2</th>\n",
       "      <td>Noren, Alex</td>\n",
       "      <td>0.39</td>\n",
       "      <td>0.24</td>\n",
       "      <td>0.14</td>\n",
       "      <td>0.04</td>\n",
       "    </tr>\n",
       "    <tr>\n",
       "      <th>3</th>\n",
       "      <td>Lee, Min Woo</td>\n",
       "      <td>0.37</td>\n",
       "      <td>0.23</td>\n",
       "      <td>0.14</td>\n",
       "      <td>0.04</td>\n",
       "    </tr>\n",
       "    <tr>\n",
       "      <th>4</th>\n",
       "      <td>An, Byeong Hun</td>\n",
       "      <td>0.36</td>\n",
       "      <td>0.22</td>\n",
       "      <td>0.13</td>\n",
       "      <td>0.03</td>\n",
       "    </tr>\n",
       "    <tr>\n",
       "      <th>...</th>\n",
       "      <td>...</td>\n",
       "      <td>...</td>\n",
       "      <td>...</td>\n",
       "      <td>...</td>\n",
       "      <td>...</td>\n",
       "    </tr>\n",
       "    <tr>\n",
       "      <th>149</th>\n",
       "      <td>Hale Jr, Blaine</td>\n",
       "      <td>0.00</td>\n",
       "      <td>0.00</td>\n",
       "      <td>0.00</td>\n",
       "      <td>0.00</td>\n",
       "    </tr>\n",
       "    <tr>\n",
       "      <th>150</th>\n",
       "      <td>Kisner, Kevin</td>\n",
       "      <td>0.01</td>\n",
       "      <td>0.00</td>\n",
       "      <td>0.00</td>\n",
       "      <td>0.00</td>\n",
       "    </tr>\n",
       "    <tr>\n",
       "      <th>151</th>\n",
       "      <td>Nyfjall, David</td>\n",
       "      <td>0.00</td>\n",
       "      <td>0.00</td>\n",
       "      <td>0.00</td>\n",
       "      <td>0.00</td>\n",
       "    </tr>\n",
       "    <tr>\n",
       "      <th>152</th>\n",
       "      <td>Watney, Nick</td>\n",
       "      <td>0.00</td>\n",
       "      <td>0.00</td>\n",
       "      <td>0.00</td>\n",
       "      <td>0.00</td>\n",
       "    </tr>\n",
       "    <tr>\n",
       "      <th>153</th>\n",
       "      <td>Kim, Kris</td>\n",
       "      <td>0.00</td>\n",
       "      <td>0.00</td>\n",
       "      <td>0.00</td>\n",
       "      <td>0.00</td>\n",
       "    </tr>\n",
       "  </tbody>\n",
       "</table>\n",
       "<p>154 rows × 5 columns</p>\n",
       "</div>"
      ],
      "text/plain": [
       "              player  pred_20  pred_10  pred_5  pred_win\n",
       "0        Kim, Si Woo     0.48     0.32    0.20      0.06\n",
       "1     Spieth, Jordan     0.38     0.24    0.14      0.04\n",
       "2        Noren, Alex     0.39     0.24    0.14      0.04\n",
       "3       Lee, Min Woo     0.37     0.23    0.14      0.04\n",
       "4     An, Byeong Hun     0.36     0.22    0.13      0.03\n",
       "..               ...      ...      ...     ...       ...\n",
       "149  Hale Jr, Blaine     0.00     0.00    0.00      0.00\n",
       "150    Kisner, Kevin     0.01     0.00    0.00      0.00\n",
       "151   Nyfjall, David     0.00     0.00    0.00      0.00\n",
       "152     Watney, Nick     0.00     0.00    0.00      0.00\n",
       "153        Kim, Kris     0.00     0.00    0.00      0.00\n",
       "\n",
       "[154 rows x 5 columns]"
      ]
     },
     "execution_count": 21,
     "metadata": {},
     "output_type": "execute_result"
    }
   ],
   "source": [
    "preds = pd.read_csv(r\"C:\\Users\\mikej\\Downloads\\the-cj-cup-byron-nelson_course-adjustment-model.csv\")\n",
    "\n",
    "preds = preds[['player_name','top_20','top_10','top_5','win']].round(2)\n",
    "\n",
    "preds.columns = ['player','pred_20','pred_10','pred_5','pred_win']\n",
    "\n",
    "preds#.head(2)"
   ]
  },
  {
   "cell_type": "code",
   "execution_count": 22,
   "metadata": {},
   "outputs": [],
   "source": [
    "df = pd.merge(odds,preds)[['player','odds_20','pred_20','odds_10','pred_10','odds_5','pred_5','odds_win','pred_win']]"
   ]
  },
  {
   "cell_type": "code",
   "execution_count": 23,
   "metadata": {},
   "outputs": [
    {
     "data": {
      "text/html": [
       "<div>\n",
       "<style scoped>\n",
       "    .dataframe tbody tr th:only-of-type {\n",
       "        vertical-align: middle;\n",
       "    }\n",
       "\n",
       "    .dataframe tbody tr th {\n",
       "        vertical-align: top;\n",
       "    }\n",
       "\n",
       "    .dataframe thead th {\n",
       "        text-align: right;\n",
       "    }\n",
       "</style>\n",
       "<table border=\"1\" class=\"dataframe\">\n",
       "  <thead>\n",
       "    <tr style=\"text-align: right;\">\n",
       "      <th></th>\n",
       "      <th>player</th>\n",
       "      <th>odds_20</th>\n",
       "      <th>pred_20</th>\n",
       "      <th>odds_10</th>\n",
       "      <th>pred_10</th>\n",
       "      <th>odds_5</th>\n",
       "      <th>pred_5</th>\n",
       "      <th>odds_win</th>\n",
       "      <th>pred_win</th>\n",
       "    </tr>\n",
       "  </thead>\n",
       "  <tbody>\n",
       "    <tr>\n",
       "      <th>0</th>\n",
       "      <td>Alexander, Tyson</td>\n",
       "      <td>23.0</td>\n",
       "      <td>0.08</td>\n",
       "      <td>10.0</td>\n",
       "      <td>0.03</td>\n",
       "      <td>61.0</td>\n",
       "      <td>0.02</td>\n",
       "      <td>301.0</td>\n",
       "      <td>0.00</td>\n",
       "    </tr>\n",
       "    <tr>\n",
       "      <th>1</th>\n",
       "      <td>An, Byeong Hun</td>\n",
       "      <td>4.5</td>\n",
       "      <td>0.36</td>\n",
       "      <td>2.7</td>\n",
       "      <td>0.22</td>\n",
       "      <td>8.0</td>\n",
       "      <td>0.13</td>\n",
       "      <td>31.0</td>\n",
       "      <td>0.03</td>\n",
       "    </tr>\n",
       "    <tr>\n",
       "      <th>2</th>\n",
       "      <td>Baddeley, Aaron</td>\n",
       "      <td>17.0</td>\n",
       "      <td>0.08</td>\n",
       "      <td>7.5</td>\n",
       "      <td>0.03</td>\n",
       "      <td>41.0</td>\n",
       "      <td>0.01</td>\n",
       "      <td>201.0</td>\n",
       "      <td>0.00</td>\n",
       "    </tr>\n",
       "    <tr>\n",
       "      <th>3</th>\n",
       "      <td>Barjon, Paul</td>\n",
       "      <td>26.0</td>\n",
       "      <td>0.03</td>\n",
       "      <td>11.0</td>\n",
       "      <td>0.01</td>\n",
       "      <td>71.0</td>\n",
       "      <td>0.00</td>\n",
       "      <td>351.0</td>\n",
       "      <td>0.00</td>\n",
       "    </tr>\n",
       "    <tr>\n",
       "      <th>4</th>\n",
       "      <td>Barnes, Erik</td>\n",
       "      <td>21.0</td>\n",
       "      <td>0.11</td>\n",
       "      <td>9.0</td>\n",
       "      <td>0.05</td>\n",
       "      <td>51.0</td>\n",
       "      <td>0.02</td>\n",
       "      <td>301.0</td>\n",
       "      <td>0.00</td>\n",
       "    </tr>\n",
       "    <tr>\n",
       "      <th>...</th>\n",
       "      <td>...</td>\n",
       "      <td>...</td>\n",
       "      <td>...</td>\n",
       "      <td>...</td>\n",
       "      <td>...</td>\n",
       "      <td>...</td>\n",
       "      <td>...</td>\n",
       "      <td>...</td>\n",
       "      <td>...</td>\n",
       "    </tr>\n",
       "    <tr>\n",
       "      <th>147</th>\n",
       "      <td>Wu, Dylan</td>\n",
       "      <td>17.0</td>\n",
       "      <td>0.12</td>\n",
       "      <td>7.0</td>\n",
       "      <td>0.06</td>\n",
       "      <td>36.0</td>\n",
       "      <td>0.03</td>\n",
       "      <td>201.0</td>\n",
       "      <td>0.00</td>\n",
       "    </tr>\n",
       "    <tr>\n",
       "      <th>148</th>\n",
       "      <td>Xiong, Norman</td>\n",
       "      <td>31.0</td>\n",
       "      <td>0.05</td>\n",
       "      <td>12.0</td>\n",
       "      <td>0.02</td>\n",
       "      <td>81.0</td>\n",
       "      <td>0.01</td>\n",
       "      <td>401.0</td>\n",
       "      <td>0.00</td>\n",
       "    </tr>\n",
       "    <tr>\n",
       "      <th>149</th>\n",
       "      <td>Young, Carson</td>\n",
       "      <td>17.0</td>\n",
       "      <td>0.12</td>\n",
       "      <td>7.5</td>\n",
       "      <td>0.05</td>\n",
       "      <td>41.0</td>\n",
       "      <td>0.02</td>\n",
       "      <td>201.0</td>\n",
       "      <td>0.00</td>\n",
       "    </tr>\n",
       "    <tr>\n",
       "      <th>150</th>\n",
       "      <td>Yu, Kevin</td>\n",
       "      <td>8.0</td>\n",
       "      <td>0.18</td>\n",
       "      <td>4.2</td>\n",
       "      <td>0.09</td>\n",
       "      <td>15.0</td>\n",
       "      <td>0.05</td>\n",
       "      <td>71.0</td>\n",
       "      <td>0.01</td>\n",
       "    </tr>\n",
       "    <tr>\n",
       "      <th>151</th>\n",
       "      <td>Yuan, Carl</td>\n",
       "      <td>12.0</td>\n",
       "      <td>0.11</td>\n",
       "      <td>6.0</td>\n",
       "      <td>0.05</td>\n",
       "      <td>26.0</td>\n",
       "      <td>0.02</td>\n",
       "      <td>131.0</td>\n",
       "      <td>0.00</td>\n",
       "    </tr>\n",
       "  </tbody>\n",
       "</table>\n",
       "<p>152 rows × 9 columns</p>\n",
       "</div>"
      ],
      "text/plain": [
       "               player  odds_20  pred_20  odds_10  pred_10  odds_5  pred_5  \\\n",
       "0    Alexander, Tyson     23.0     0.08     10.0     0.03    61.0    0.02   \n",
       "1      An, Byeong Hun      4.5     0.36      2.7     0.22     8.0    0.13   \n",
       "2     Baddeley, Aaron     17.0     0.08      7.5     0.03    41.0    0.01   \n",
       "3        Barjon, Paul     26.0     0.03     11.0     0.01    71.0    0.00   \n",
       "4        Barnes, Erik     21.0     0.11      9.0     0.05    51.0    0.02   \n",
       "..                ...      ...      ...      ...      ...     ...     ...   \n",
       "147         Wu, Dylan     17.0     0.12      7.0     0.06    36.0    0.03   \n",
       "148     Xiong, Norman     31.0     0.05     12.0     0.02    81.0    0.01   \n",
       "149     Young, Carson     17.0     0.12      7.5     0.05    41.0    0.02   \n",
       "150         Yu, Kevin      8.0     0.18      4.2     0.09    15.0    0.05   \n",
       "151        Yuan, Carl     12.0     0.11      6.0     0.05    26.0    0.02   \n",
       "\n",
       "     odds_win  pred_win  \n",
       "0       301.0      0.00  \n",
       "1        31.0      0.03  \n",
       "2       201.0      0.00  \n",
       "3       351.0      0.00  \n",
       "4       301.0      0.00  \n",
       "..        ...       ...  \n",
       "147     201.0      0.00  \n",
       "148     401.0      0.00  \n",
       "149     201.0      0.00  \n",
       "150      71.0      0.01  \n",
       "151     131.0      0.00  \n",
       "\n",
       "[152 rows x 9 columns]"
      ]
     },
     "execution_count": 23,
     "metadata": {},
     "output_type": "execute_result"
    }
   ],
   "source": [
    "df#.head(2)"
   ]
  },
  {
   "cell_type": "code",
   "execution_count": 24,
   "metadata": {},
   "outputs": [],
   "source": [
    "df['diff_20'] = df['pred_20'] - df['odds_20']\n",
    "df['diff_10'] = df['pred_10'] - df['odds_10']\n",
    "df['diff_5'] = df['pred_5'] - df['odds_5']\n",
    "df['diff_win'] = df['pred_win'] - df['odds_win']"
   ]
  },
  {
   "cell_type": "code",
   "execution_count": 25,
   "metadata": {},
   "outputs": [
    {
     "data": {
      "text/html": [
       "<div>\n",
       "<style scoped>\n",
       "    .dataframe tbody tr th:only-of-type {\n",
       "        vertical-align: middle;\n",
       "    }\n",
       "\n",
       "    .dataframe tbody tr th {\n",
       "        vertical-align: top;\n",
       "    }\n",
       "\n",
       "    .dataframe thead th {\n",
       "        text-align: right;\n",
       "    }\n",
       "</style>\n",
       "<table border=\"1\" class=\"dataframe\">\n",
       "  <thead>\n",
       "    <tr style=\"text-align: right;\">\n",
       "      <th></th>\n",
       "      <th>player</th>\n",
       "      <th>odds_20</th>\n",
       "      <th>pred_20</th>\n",
       "      <th>odds_10</th>\n",
       "      <th>pred_10</th>\n",
       "      <th>odds_5</th>\n",
       "      <th>pred_5</th>\n",
       "      <th>odds_win</th>\n",
       "      <th>pred_win</th>\n",
       "      <th>diff_20</th>\n",
       "      <th>diff_10</th>\n",
       "      <th>diff_5</th>\n",
       "      <th>diff_win</th>\n",
       "    </tr>\n",
       "  </thead>\n",
       "  <tbody>\n",
       "    <tr>\n",
       "      <th>0</th>\n",
       "      <td>Alexander, Tyson</td>\n",
       "      <td>23.0</td>\n",
       "      <td>0.08</td>\n",
       "      <td>10.0</td>\n",
       "      <td>0.03</td>\n",
       "      <td>61.0</td>\n",
       "      <td>0.02</td>\n",
       "      <td>301.0</td>\n",
       "      <td>0.00</td>\n",
       "      <td>-22.92</td>\n",
       "      <td>-9.97</td>\n",
       "      <td>-60.98</td>\n",
       "      <td>-301.00</td>\n",
       "    </tr>\n",
       "    <tr>\n",
       "      <th>1</th>\n",
       "      <td>An, Byeong Hun</td>\n",
       "      <td>4.5</td>\n",
       "      <td>0.36</td>\n",
       "      <td>2.7</td>\n",
       "      <td>0.22</td>\n",
       "      <td>8.0</td>\n",
       "      <td>0.13</td>\n",
       "      <td>31.0</td>\n",
       "      <td>0.03</td>\n",
       "      <td>-4.14</td>\n",
       "      <td>-2.48</td>\n",
       "      <td>-7.87</td>\n",
       "      <td>-30.97</td>\n",
       "    </tr>\n",
       "    <tr>\n",
       "      <th>2</th>\n",
       "      <td>Baddeley, Aaron</td>\n",
       "      <td>17.0</td>\n",
       "      <td>0.08</td>\n",
       "      <td>7.5</td>\n",
       "      <td>0.03</td>\n",
       "      <td>41.0</td>\n",
       "      <td>0.01</td>\n",
       "      <td>201.0</td>\n",
       "      <td>0.00</td>\n",
       "      <td>-16.92</td>\n",
       "      <td>-7.47</td>\n",
       "      <td>-40.99</td>\n",
       "      <td>-201.00</td>\n",
       "    </tr>\n",
       "    <tr>\n",
       "      <th>3</th>\n",
       "      <td>Barjon, Paul</td>\n",
       "      <td>26.0</td>\n",
       "      <td>0.03</td>\n",
       "      <td>11.0</td>\n",
       "      <td>0.01</td>\n",
       "      <td>71.0</td>\n",
       "      <td>0.00</td>\n",
       "      <td>351.0</td>\n",
       "      <td>0.00</td>\n",
       "      <td>-25.97</td>\n",
       "      <td>-10.99</td>\n",
       "      <td>-71.00</td>\n",
       "      <td>-351.00</td>\n",
       "    </tr>\n",
       "    <tr>\n",
       "      <th>4</th>\n",
       "      <td>Barnes, Erik</td>\n",
       "      <td>21.0</td>\n",
       "      <td>0.11</td>\n",
       "      <td>9.0</td>\n",
       "      <td>0.05</td>\n",
       "      <td>51.0</td>\n",
       "      <td>0.02</td>\n",
       "      <td>301.0</td>\n",
       "      <td>0.00</td>\n",
       "      <td>-20.89</td>\n",
       "      <td>-8.95</td>\n",
       "      <td>-50.98</td>\n",
       "      <td>-301.00</td>\n",
       "    </tr>\n",
       "    <tr>\n",
       "      <th>...</th>\n",
       "      <td>...</td>\n",
       "      <td>...</td>\n",
       "      <td>...</td>\n",
       "      <td>...</td>\n",
       "      <td>...</td>\n",
       "      <td>...</td>\n",
       "      <td>...</td>\n",
       "      <td>...</td>\n",
       "      <td>...</td>\n",
       "      <td>...</td>\n",
       "      <td>...</td>\n",
       "      <td>...</td>\n",
       "      <td>...</td>\n",
       "    </tr>\n",
       "    <tr>\n",
       "      <th>147</th>\n",
       "      <td>Wu, Dylan</td>\n",
       "      <td>17.0</td>\n",
       "      <td>0.12</td>\n",
       "      <td>7.0</td>\n",
       "      <td>0.06</td>\n",
       "      <td>36.0</td>\n",
       "      <td>0.03</td>\n",
       "      <td>201.0</td>\n",
       "      <td>0.00</td>\n",
       "      <td>-16.88</td>\n",
       "      <td>-6.94</td>\n",
       "      <td>-35.97</td>\n",
       "      <td>-201.00</td>\n",
       "    </tr>\n",
       "    <tr>\n",
       "      <th>148</th>\n",
       "      <td>Xiong, Norman</td>\n",
       "      <td>31.0</td>\n",
       "      <td>0.05</td>\n",
       "      <td>12.0</td>\n",
       "      <td>0.02</td>\n",
       "      <td>81.0</td>\n",
       "      <td>0.01</td>\n",
       "      <td>401.0</td>\n",
       "      <td>0.00</td>\n",
       "      <td>-30.95</td>\n",
       "      <td>-11.98</td>\n",
       "      <td>-80.99</td>\n",
       "      <td>-401.00</td>\n",
       "    </tr>\n",
       "    <tr>\n",
       "      <th>149</th>\n",
       "      <td>Young, Carson</td>\n",
       "      <td>17.0</td>\n",
       "      <td>0.12</td>\n",
       "      <td>7.5</td>\n",
       "      <td>0.05</td>\n",
       "      <td>41.0</td>\n",
       "      <td>0.02</td>\n",
       "      <td>201.0</td>\n",
       "      <td>0.00</td>\n",
       "      <td>-16.88</td>\n",
       "      <td>-7.45</td>\n",
       "      <td>-40.98</td>\n",
       "      <td>-201.00</td>\n",
       "    </tr>\n",
       "    <tr>\n",
       "      <th>150</th>\n",
       "      <td>Yu, Kevin</td>\n",
       "      <td>8.0</td>\n",
       "      <td>0.18</td>\n",
       "      <td>4.2</td>\n",
       "      <td>0.09</td>\n",
       "      <td>15.0</td>\n",
       "      <td>0.05</td>\n",
       "      <td>71.0</td>\n",
       "      <td>0.01</td>\n",
       "      <td>-7.82</td>\n",
       "      <td>-4.11</td>\n",
       "      <td>-14.95</td>\n",
       "      <td>-70.99</td>\n",
       "    </tr>\n",
       "    <tr>\n",
       "      <th>151</th>\n",
       "      <td>Yuan, Carl</td>\n",
       "      <td>12.0</td>\n",
       "      <td>0.11</td>\n",
       "      <td>6.0</td>\n",
       "      <td>0.05</td>\n",
       "      <td>26.0</td>\n",
       "      <td>0.02</td>\n",
       "      <td>131.0</td>\n",
       "      <td>0.00</td>\n",
       "      <td>-11.89</td>\n",
       "      <td>-5.95</td>\n",
       "      <td>-25.98</td>\n",
       "      <td>-131.00</td>\n",
       "    </tr>\n",
       "  </tbody>\n",
       "</table>\n",
       "<p>152 rows × 13 columns</p>\n",
       "</div>"
      ],
      "text/plain": [
       "               player  odds_20  pred_20  odds_10  pred_10  odds_5  pred_5  \\\n",
       "0    Alexander, Tyson     23.0     0.08     10.0     0.03    61.0    0.02   \n",
       "1      An, Byeong Hun      4.5     0.36      2.7     0.22     8.0    0.13   \n",
       "2     Baddeley, Aaron     17.0     0.08      7.5     0.03    41.0    0.01   \n",
       "3        Barjon, Paul     26.0     0.03     11.0     0.01    71.0    0.00   \n",
       "4        Barnes, Erik     21.0     0.11      9.0     0.05    51.0    0.02   \n",
       "..                ...      ...      ...      ...      ...     ...     ...   \n",
       "147         Wu, Dylan     17.0     0.12      7.0     0.06    36.0    0.03   \n",
       "148     Xiong, Norman     31.0     0.05     12.0     0.02    81.0    0.01   \n",
       "149     Young, Carson     17.0     0.12      7.5     0.05    41.0    0.02   \n",
       "150         Yu, Kevin      8.0     0.18      4.2     0.09    15.0    0.05   \n",
       "151        Yuan, Carl     12.0     0.11      6.0     0.05    26.0    0.02   \n",
       "\n",
       "     odds_win  pred_win  diff_20  diff_10  diff_5  diff_win  \n",
       "0       301.0      0.00   -22.92    -9.97  -60.98   -301.00  \n",
       "1        31.0      0.03    -4.14    -2.48   -7.87    -30.97  \n",
       "2       201.0      0.00   -16.92    -7.47  -40.99   -201.00  \n",
       "3       351.0      0.00   -25.97   -10.99  -71.00   -351.00  \n",
       "4       301.0      0.00   -20.89    -8.95  -50.98   -301.00  \n",
       "..        ...       ...      ...      ...     ...       ...  \n",
       "147     201.0      0.00   -16.88    -6.94  -35.97   -201.00  \n",
       "148     401.0      0.00   -30.95   -11.98  -80.99   -401.00  \n",
       "149     201.0      0.00   -16.88    -7.45  -40.98   -201.00  \n",
       "150      71.0      0.01    -7.82    -4.11  -14.95    -70.99  \n",
       "151     131.0      0.00   -11.89    -5.95  -25.98   -131.00  \n",
       "\n",
       "[152 rows x 13 columns]"
      ]
     },
     "execution_count": 25,
     "metadata": {},
     "output_type": "execute_result"
    }
   ],
   "source": [
    "df"
   ]
  },
  {
   "cell_type": "code",
   "execution_count": 26,
   "metadata": {},
   "outputs": [
    {
     "data": {
      "text/html": [
       "<div>\n",
       "<style scoped>\n",
       "    .dataframe tbody tr th:only-of-type {\n",
       "        vertical-align: middle;\n",
       "    }\n",
       "\n",
       "    .dataframe tbody tr th {\n",
       "        vertical-align: top;\n",
       "    }\n",
       "\n",
       "    .dataframe thead th {\n",
       "        text-align: right;\n",
       "    }\n",
       "</style>\n",
       "<table border=\"1\" class=\"dataframe\">\n",
       "  <thead>\n",
       "    <tr style=\"text-align: right;\">\n",
       "      <th></th>\n",
       "      <th>player</th>\n",
       "      <th>odds_20</th>\n",
       "      <th>pred_20</th>\n",
       "      <th>odds_10</th>\n",
       "      <th>pred_10</th>\n",
       "      <th>odds_5</th>\n",
       "      <th>pred_5</th>\n",
       "      <th>odds_win</th>\n",
       "      <th>pred_win</th>\n",
       "      <th>diff_20</th>\n",
       "      <th>diff_10</th>\n",
       "      <th>diff_5</th>\n",
       "      <th>diff_win</th>\n",
       "      <th>outcome</th>\n",
       "    </tr>\n",
       "  </thead>\n",
       "  <tbody>\n",
       "    <tr>\n",
       "      <th>0</th>\n",
       "      <td>Alexander, Tyson</td>\n",
       "      <td>23.0</td>\n",
       "      <td>0.08</td>\n",
       "      <td>10.0</td>\n",
       "      <td>0.03</td>\n",
       "      <td>61.0</td>\n",
       "      <td>0.02</td>\n",
       "      <td>301.0</td>\n",
       "      <td>0.00</td>\n",
       "      <td>-22.92</td>\n",
       "      <td>-9.97</td>\n",
       "      <td>-60.98</td>\n",
       "      <td>-301.00</td>\n",
       "      <td>52</td>\n",
       "    </tr>\n",
       "    <tr>\n",
       "      <th>1</th>\n",
       "      <td>An, Byeong Hun</td>\n",
       "      <td>4.5</td>\n",
       "      <td>0.36</td>\n",
       "      <td>2.7</td>\n",
       "      <td>0.22</td>\n",
       "      <td>8.0</td>\n",
       "      <td>0.13</td>\n",
       "      <td>31.0</td>\n",
       "      <td>0.03</td>\n",
       "      <td>-4.14</td>\n",
       "      <td>-2.48</td>\n",
       "      <td>-7.87</td>\n",
       "      <td>-30.97</td>\n",
       "      <td>4</td>\n",
       "    </tr>\n",
       "    <tr>\n",
       "      <th>2</th>\n",
       "      <td>Baddeley, Aaron</td>\n",
       "      <td>17.0</td>\n",
       "      <td>0.08</td>\n",
       "      <td>7.5</td>\n",
       "      <td>0.03</td>\n",
       "      <td>41.0</td>\n",
       "      <td>0.01</td>\n",
       "      <td>201.0</td>\n",
       "      <td>0.00</td>\n",
       "      <td>-16.92</td>\n",
       "      <td>-7.47</td>\n",
       "      <td>-40.99</td>\n",
       "      <td>-201.00</td>\n",
       "      <td>41</td>\n",
       "    </tr>\n",
       "    <tr>\n",
       "      <th>3</th>\n",
       "      <td>Barjon, Paul</td>\n",
       "      <td>26.0</td>\n",
       "      <td>0.03</td>\n",
       "      <td>11.0</td>\n",
       "      <td>0.01</td>\n",
       "      <td>71.0</td>\n",
       "      <td>0.00</td>\n",
       "      <td>351.0</td>\n",
       "      <td>0.00</td>\n",
       "      <td>-25.97</td>\n",
       "      <td>-10.99</td>\n",
       "      <td>-71.00</td>\n",
       "      <td>-351.00</td>\n",
       "      <td>CU</td>\n",
       "    </tr>\n",
       "    <tr>\n",
       "      <th>4</th>\n",
       "      <td>Barnes, Erik</td>\n",
       "      <td>21.0</td>\n",
       "      <td>0.11</td>\n",
       "      <td>9.0</td>\n",
       "      <td>0.05</td>\n",
       "      <td>51.0</td>\n",
       "      <td>0.02</td>\n",
       "      <td>301.0</td>\n",
       "      <td>0.00</td>\n",
       "      <td>-20.89</td>\n",
       "      <td>-8.95</td>\n",
       "      <td>-50.98</td>\n",
       "      <td>-301.00</td>\n",
       "      <td>CU</td>\n",
       "    </tr>\n",
       "    <tr>\n",
       "      <th>...</th>\n",
       "      <td>...</td>\n",
       "      <td>...</td>\n",
       "      <td>...</td>\n",
       "      <td>...</td>\n",
       "      <td>...</td>\n",
       "      <td>...</td>\n",
       "      <td>...</td>\n",
       "      <td>...</td>\n",
       "      <td>...</td>\n",
       "      <td>...</td>\n",
       "      <td>...</td>\n",
       "      <td>...</td>\n",
       "      <td>...</td>\n",
       "      <td>...</td>\n",
       "    </tr>\n",
       "    <tr>\n",
       "      <th>147</th>\n",
       "      <td>Wu, Dylan</td>\n",
       "      <td>17.0</td>\n",
       "      <td>0.12</td>\n",
       "      <td>7.0</td>\n",
       "      <td>0.06</td>\n",
       "      <td>36.0</td>\n",
       "      <td>0.03</td>\n",
       "      <td>201.0</td>\n",
       "      <td>0.00</td>\n",
       "      <td>-16.88</td>\n",
       "      <td>-6.94</td>\n",
       "      <td>-35.97</td>\n",
       "      <td>-201.00</td>\n",
       "      <td>30</td>\n",
       "    </tr>\n",
       "    <tr>\n",
       "      <th>148</th>\n",
       "      <td>Xiong, Norman</td>\n",
       "      <td>31.0</td>\n",
       "      <td>0.05</td>\n",
       "      <td>12.0</td>\n",
       "      <td>0.02</td>\n",
       "      <td>81.0</td>\n",
       "      <td>0.01</td>\n",
       "      <td>401.0</td>\n",
       "      <td>0.00</td>\n",
       "      <td>-30.95</td>\n",
       "      <td>-11.98</td>\n",
       "      <td>-80.99</td>\n",
       "      <td>-401.00</td>\n",
       "      <td>WD</td>\n",
       "    </tr>\n",
       "    <tr>\n",
       "      <th>149</th>\n",
       "      <td>Young, Carson</td>\n",
       "      <td>17.0</td>\n",
       "      <td>0.12</td>\n",
       "      <td>7.5</td>\n",
       "      <td>0.05</td>\n",
       "      <td>41.0</td>\n",
       "      <td>0.02</td>\n",
       "      <td>201.0</td>\n",
       "      <td>0.00</td>\n",
       "      <td>-16.88</td>\n",
       "      <td>-7.45</td>\n",
       "      <td>-40.98</td>\n",
       "      <td>-201.00</td>\n",
       "      <td>30</td>\n",
       "    </tr>\n",
       "    <tr>\n",
       "      <th>150</th>\n",
       "      <td>Yu, Kevin</td>\n",
       "      <td>8.0</td>\n",
       "      <td>0.18</td>\n",
       "      <td>4.2</td>\n",
       "      <td>0.09</td>\n",
       "      <td>15.0</td>\n",
       "      <td>0.05</td>\n",
       "      <td>71.0</td>\n",
       "      <td>0.01</td>\n",
       "      <td>-7.82</td>\n",
       "      <td>-4.11</td>\n",
       "      <td>-14.95</td>\n",
       "      <td>-70.99</td>\n",
       "      <td>CU</td>\n",
       "    </tr>\n",
       "    <tr>\n",
       "      <th>151</th>\n",
       "      <td>Yuan, Carl</td>\n",
       "      <td>12.0</td>\n",
       "      <td>0.11</td>\n",
       "      <td>6.0</td>\n",
       "      <td>0.05</td>\n",
       "      <td>26.0</td>\n",
       "      <td>0.02</td>\n",
       "      <td>131.0</td>\n",
       "      <td>0.00</td>\n",
       "      <td>-11.89</td>\n",
       "      <td>-5.95</td>\n",
       "      <td>-25.98</td>\n",
       "      <td>-131.00</td>\n",
       "      <td>CU</td>\n",
       "    </tr>\n",
       "  </tbody>\n",
       "</table>\n",
       "<p>152 rows × 14 columns</p>\n",
       "</div>"
      ],
      "text/plain": [
       "               player  odds_20  pred_20  odds_10  pred_10  odds_5  pred_5  \\\n",
       "0    Alexander, Tyson     23.0     0.08     10.0     0.03    61.0    0.02   \n",
       "1      An, Byeong Hun      4.5     0.36      2.7     0.22     8.0    0.13   \n",
       "2     Baddeley, Aaron     17.0     0.08      7.5     0.03    41.0    0.01   \n",
       "3        Barjon, Paul     26.0     0.03     11.0     0.01    71.0    0.00   \n",
       "4        Barnes, Erik     21.0     0.11      9.0     0.05    51.0    0.02   \n",
       "..                ...      ...      ...      ...      ...     ...     ...   \n",
       "147         Wu, Dylan     17.0     0.12      7.0     0.06    36.0    0.03   \n",
       "148     Xiong, Norman     31.0     0.05     12.0     0.02    81.0    0.01   \n",
       "149     Young, Carson     17.0     0.12      7.5     0.05    41.0    0.02   \n",
       "150         Yu, Kevin      8.0     0.18      4.2     0.09    15.0    0.05   \n",
       "151        Yuan, Carl     12.0     0.11      6.0     0.05    26.0    0.02   \n",
       "\n",
       "     odds_win  pred_win  diff_20  diff_10  diff_5  diff_win outcome  \n",
       "0       301.0      0.00   -22.92    -9.97  -60.98   -301.00      52  \n",
       "1        31.0      0.03    -4.14    -2.48   -7.87    -30.97       4  \n",
       "2       201.0      0.00   -16.92    -7.47  -40.99   -201.00      41  \n",
       "3       351.0      0.00   -25.97   -10.99  -71.00   -351.00      CU  \n",
       "4       301.0      0.00   -20.89    -8.95  -50.98   -301.00      CU  \n",
       "..        ...       ...      ...      ...     ...       ...     ...  \n",
       "147     201.0      0.00   -16.88    -6.94  -35.97   -201.00      30  \n",
       "148     401.0      0.00   -30.95   -11.98  -80.99   -401.00      WD  \n",
       "149     201.0      0.00   -16.88    -7.45  -40.98   -201.00      30  \n",
       "150      71.0      0.01    -7.82    -4.11  -14.95    -70.99      CU  \n",
       "151     131.0      0.00   -11.89    -5.95  -25.98   -131.00      CU  \n",
       "\n",
       "[152 rows x 14 columns]"
      ]
     },
     "execution_count": 26,
     "metadata": {},
     "output_type": "execute_result"
    }
   ],
   "source": [
    "df = df.merge(outcomes,on='player')\n",
    "df"
   ]
  },
  {
   "cell_type": "code",
   "execution_count": 27,
   "metadata": {},
   "outputs": [],
   "source": [
    "def in_top20(a):\n",
    "    if a > 20:\n",
    "        return \"loss\"\n",
    "    return \"win\"\n",
    "\n",
    "def in_top10(a):\n",
    "    if a > 10:\n",
    "        return \"loss\"\n",
    "    return \"win\"\n",
    "\n",
    "def in_top5(a):\n",
    "    if a > 5:\n",
    "        return \"loss\"\n",
    "    return \"win\"\n",
    "\n",
    "def in_win(a):\n",
    "    if a > 1:\n",
    "        return \"loss\"\n",
    "    return \"win\""
   ]
  },
  {
   "cell_type": "code",
   "execution_count": 29,
   "metadata": {},
   "outputs": [
    {
     "ename": "TypeError",
     "evalue": "'>' not supported between instances of 'str' and 'int'",
     "output_type": "error",
     "traceback": [
      "\u001b[1;31m---------------------------------------------------------------------------\u001b[0m",
      "\u001b[1;31mTypeError\u001b[0m                                 Traceback (most recent call last)",
      "Cell \u001b[1;32mIn[29], line 3\u001b[0m\n\u001b[0;32m      1\u001b[0m \u001b[38;5;66;03m# df['outcome'] = df['outcome'].astype(int)\u001b[39;00m\n\u001b[1;32m----> 3\u001b[0m df[\u001b[38;5;124m'\u001b[39m\u001b[38;5;124moutcome_bool_20\u001b[39m\u001b[38;5;124m'\u001b[39m] \u001b[38;5;241m=\u001b[39m df[\u001b[38;5;124m'\u001b[39m\u001b[38;5;124moutcome\u001b[39m\u001b[38;5;124m'\u001b[39m]\u001b[38;5;241m.\u001b[39mapply(in_top20)\n\u001b[0;32m      4\u001b[0m df[\u001b[38;5;124m'\u001b[39m\u001b[38;5;124moutcome_bool_10\u001b[39m\u001b[38;5;124m'\u001b[39m] \u001b[38;5;241m=\u001b[39m df[\u001b[38;5;124m'\u001b[39m\u001b[38;5;124moutcome\u001b[39m\u001b[38;5;124m'\u001b[39m]\u001b[38;5;241m.\u001b[39mapply(in_top10)\n\u001b[0;32m      5\u001b[0m df[\u001b[38;5;124m'\u001b[39m\u001b[38;5;124moutcome_bool_5\u001b[39m\u001b[38;5;124m'\u001b[39m] \u001b[38;5;241m=\u001b[39m df[\u001b[38;5;124m'\u001b[39m\u001b[38;5;124moutcome\u001b[39m\u001b[38;5;124m'\u001b[39m]\u001b[38;5;241m.\u001b[39mapply(in_top5)\n",
      "File \u001b[1;32mc:\\Users\\mikej\\anaconda3\\Lib\\site-packages\\pandas\\core\\series.py:4771\u001b[0m, in \u001b[0;36mSeries.apply\u001b[1;34m(self, func, convert_dtype, args, **kwargs)\u001b[0m\n\u001b[0;32m   4661\u001b[0m \u001b[38;5;28;01mdef\u001b[39;00m \u001b[38;5;21mapply\u001b[39m(\n\u001b[0;32m   4662\u001b[0m     \u001b[38;5;28mself\u001b[39m,\n\u001b[0;32m   4663\u001b[0m     func: AggFuncType,\n\u001b[1;32m   (...)\u001b[0m\n\u001b[0;32m   4666\u001b[0m     \u001b[38;5;241m*\u001b[39m\u001b[38;5;241m*\u001b[39mkwargs,\n\u001b[0;32m   4667\u001b[0m ) \u001b[38;5;241m-\u001b[39m\u001b[38;5;241m>\u001b[39m DataFrame \u001b[38;5;241m|\u001b[39m Series:\n\u001b[0;32m   4668\u001b[0m \u001b[38;5;250m    \u001b[39m\u001b[38;5;124;03m\"\"\"\u001b[39;00m\n\u001b[0;32m   4669\u001b[0m \u001b[38;5;124;03m    Invoke function on values of Series.\u001b[39;00m\n\u001b[0;32m   4670\u001b[0m \n\u001b[1;32m   (...)\u001b[0m\n\u001b[0;32m   4769\u001b[0m \u001b[38;5;124;03m    dtype: float64\u001b[39;00m\n\u001b[0;32m   4770\u001b[0m \u001b[38;5;124;03m    \"\"\"\u001b[39;00m\n\u001b[1;32m-> 4771\u001b[0m     \u001b[38;5;28;01mreturn\u001b[39;00m SeriesApply(\u001b[38;5;28mself\u001b[39m, func, convert_dtype, args, kwargs)\u001b[38;5;241m.\u001b[39mapply()\n",
      "File \u001b[1;32mc:\\Users\\mikej\\anaconda3\\Lib\\site-packages\\pandas\\core\\apply.py:1123\u001b[0m, in \u001b[0;36mSeriesApply.apply\u001b[1;34m(self)\u001b[0m\n\u001b[0;32m   1120\u001b[0m     \u001b[38;5;28;01mreturn\u001b[39;00m \u001b[38;5;28mself\u001b[39m\u001b[38;5;241m.\u001b[39mapply_str()\n\u001b[0;32m   1122\u001b[0m \u001b[38;5;66;03m# self.f is Callable\u001b[39;00m\n\u001b[1;32m-> 1123\u001b[0m \u001b[38;5;28;01mreturn\u001b[39;00m \u001b[38;5;28mself\u001b[39m\u001b[38;5;241m.\u001b[39mapply_standard()\n",
      "File \u001b[1;32mc:\\Users\\mikej\\anaconda3\\Lib\\site-packages\\pandas\\core\\apply.py:1174\u001b[0m, in \u001b[0;36mSeriesApply.apply_standard\u001b[1;34m(self)\u001b[0m\n\u001b[0;32m   1172\u001b[0m     \u001b[38;5;28;01melse\u001b[39;00m:\n\u001b[0;32m   1173\u001b[0m         values \u001b[38;5;241m=\u001b[39m obj\u001b[38;5;241m.\u001b[39mastype(\u001b[38;5;28mobject\u001b[39m)\u001b[38;5;241m.\u001b[39m_values\n\u001b[1;32m-> 1174\u001b[0m         mapped \u001b[38;5;241m=\u001b[39m lib\u001b[38;5;241m.\u001b[39mmap_infer(\n\u001b[0;32m   1175\u001b[0m             values,\n\u001b[0;32m   1176\u001b[0m             f,\n\u001b[0;32m   1177\u001b[0m             convert\u001b[38;5;241m=\u001b[39m\u001b[38;5;28mself\u001b[39m\u001b[38;5;241m.\u001b[39mconvert_dtype,\n\u001b[0;32m   1178\u001b[0m         )\n\u001b[0;32m   1180\u001b[0m \u001b[38;5;28;01mif\u001b[39;00m \u001b[38;5;28mlen\u001b[39m(mapped) \u001b[38;5;129;01mand\u001b[39;00m \u001b[38;5;28misinstance\u001b[39m(mapped[\u001b[38;5;241m0\u001b[39m], ABCSeries):\n\u001b[0;32m   1181\u001b[0m     \u001b[38;5;66;03m# GH#43986 Need to do list(mapped) in order to get treated as nested\u001b[39;00m\n\u001b[0;32m   1182\u001b[0m     \u001b[38;5;66;03m#  See also GH#25959 regarding EA support\u001b[39;00m\n\u001b[0;32m   1183\u001b[0m     \u001b[38;5;28;01mreturn\u001b[39;00m obj\u001b[38;5;241m.\u001b[39m_constructor_expanddim(\u001b[38;5;28mlist\u001b[39m(mapped), index\u001b[38;5;241m=\u001b[39mobj\u001b[38;5;241m.\u001b[39mindex)\n",
      "File \u001b[1;32mc:\\Users\\mikej\\anaconda3\\Lib\\site-packages\\pandas\\_libs\\lib.pyx:2924\u001b[0m, in \u001b[0;36mpandas._libs.lib.map_infer\u001b[1;34m()\u001b[0m\n",
      "Cell \u001b[1;32mIn[27], line 2\u001b[0m, in \u001b[0;36min_top20\u001b[1;34m(a)\u001b[0m\n\u001b[0;32m      1\u001b[0m \u001b[38;5;28;01mdef\u001b[39;00m \u001b[38;5;21min_top20\u001b[39m(a):\n\u001b[1;32m----> 2\u001b[0m     \u001b[38;5;28;01mif\u001b[39;00m a \u001b[38;5;241m>\u001b[39m \u001b[38;5;241m20\u001b[39m:\n\u001b[0;32m      3\u001b[0m         \u001b[38;5;28;01mreturn\u001b[39;00m \u001b[38;5;124m\"\u001b[39m\u001b[38;5;124mloss\u001b[39m\u001b[38;5;124m\"\u001b[39m\n\u001b[0;32m      4\u001b[0m     \u001b[38;5;28;01mreturn\u001b[39;00m \u001b[38;5;124m\"\u001b[39m\u001b[38;5;124mwin\u001b[39m\u001b[38;5;124m\"\u001b[39m\n",
      "\u001b[1;31mTypeError\u001b[0m: '>' not supported between instances of 'str' and 'int'"
     ]
    }
   ],
   "source": [
    "df['outcome'] = df['outcome'].astype(int)\n",
    "\n",
    "df['outcome_bool_20'] = df['outcome'].apply(in_top20)\n",
    "df['outcome_bool_10'] = df['outcome'].apply(in_top10)\n",
    "df['outcome_bool_5'] = df['outcome'].apply(in_top5)\n",
    "df['outcome_bool_win'] = df['outcome'].apply(in_win)"
   ]
  },
  {
   "cell_type": "code",
   "execution_count": null,
   "metadata": {},
   "outputs": [],
   "source": [
    "df"
   ]
  },
  {
   "cell_type": "code",
   "execution_count": null,
   "metadata": {},
   "outputs": [],
   "source": [
    "top20s = df[['player','outcome','odds_20','pred_20','diff_20','outcome_bool_20']].sort_values('odds_20',ascending=False)\n",
    "# top10s = df[['player','odds_10','pred_10','diff_10','outcome']].sort_values('odds_10',ascending=False)\n",
    "# top5s = df[['player','odds_5','pred_5','diff_5','outcome']].sort_values('odds_5',ascending=False)\n",
    "# wins = df[['player','odds_win','pred_win','diff_win','outcome']].sort_values('odds_win',ascending=False)\n",
    "top20s[:20]"
   ]
  },
  {
   "cell_type": "code",
   "execution_count": null,
   "metadata": {},
   "outputs": [],
   "source": [
    "\n",
    "px.scatter(df,\n",
    "           x='odds_20',\n",
    "           y='pred_20',\n",
    "           hover_name='player',\n",
    "           color='outcome_bool_20',\n",
    "           color_discrete_sequence=px.colors.qualitative.Safe,\n",
    "           trendline = 'ols',trendline_scope='overall',trendline_color_override = 'darkslategrey',\n",
    "           width=800,\n",
    "           height=700,\n",
    "           size='diff_20')#.add_shape(type=\"line\", x0=0, y0=0, x1=1, y1=1)"
   ]
  },
  {
   "cell_type": "code",
   "execution_count": null,
   "metadata": {},
   "outputs": [],
   "source": [
    "\n",
    "px.scatter(df,\n",
    "           x='diff_10',\n",
    "           y='pred_10',\n",
    "           hover_name='player',\n",
    "           color='outcome_bool_10',\n",
    "           color_discrete_sequence=px.colors.qualitative.Safe,\n",
    "           trendline = 'ols',trendline_scope='overall',trendline_color_override = 'darkslategrey',\n",
    "           width=800,\n",
    "           height=700,\n",
    "           size='odds_10')#.add_shape(type=\"line\", x0=0, y0=0, x1=1, y1=1)"
   ]
  },
  {
   "cell_type": "code",
   "execution_count": null,
   "metadata": {},
   "outputs": [],
   "source": [
    "\n",
    "\n",
    "px.scatter(df,\n",
    "           x='diff_5',\n",
    "           y='pred_5',\n",
    "           hover_name='player',\n",
    "           color='outcome_bool_5',\n",
    "           color_discrete_sequence=px.colors.qualitative.Safe,\n",
    "           trendline = 'ols',trendline_scope='overall',trendline_color_override = 'darkslategrey',\n",
    "           width=800,\n",
    "           height=700,\n",
    "           size='odds_5')#.add_shape(type=\"line\", x0=0, y0=0, x1=1, y1=1)"
   ]
  },
  {
   "cell_type": "code",
   "execution_count": null,
   "metadata": {},
   "outputs": [],
   "source": [
    "\n",
    "\n",
    "# top5s['outcome'] = top5s['outcome'].astype('int')\n",
    "\n",
    "px.scatter(df,\n",
    "           x='diff_win',\n",
    "           y='pred_win',\n",
    "           hover_name='player',\n",
    "           color='outcome_bool_win',\n",
    "           color_discrete_sequence=px.colors.qualitative.Safe,\n",
    "           trendline = 'ols',trendline_scope='overall',trendline_color_override = 'black',\n",
    "           width=800,\n",
    "           height=700,)"
   ]
  },
  {
   "cell_type": "code",
   "execution_count": null,
   "metadata": {},
   "outputs": [],
   "source": [
    "temp = df.sort_values('outcome')"
   ]
  },
  {
   "cell_type": "code",
   "execution_count": null,
   "metadata": {},
   "outputs": [],
   "source": [
    "px.bar(temp.sort_values('outcome'),#,ascending=False),\n",
    "    x='player',\n",
    "    y='outcome',\n",
    "    color='diff_20').add_vline(x='Kim, Si Woo')"
   ]
  },
  {
   "cell_type": "code",
   "execution_count": null,
   "metadata": {},
   "outputs": [],
   "source": [
    "df"
   ]
  },
  {
   "cell_type": "code",
   "execution_count": null,
   "metadata": {},
   "outputs": [],
   "source": [
    "px.scatter(df,\n",
    "           x='odds_20',\n",
    "           y='pred_20',\n",
    "           color='outcome_bool_20',\n",
    "           trendline='ols',trendline_scope='overall')"
   ]
  },
  {
   "cell_type": "code",
   "execution_count": null,
   "metadata": {},
   "outputs": [],
   "source": [
    "df.diff_20.hist()"
   ]
  },
  {
   "cell_type": "code",
   "execution_count": null,
   "metadata": {},
   "outputs": [],
   "source": []
  }
 ],
 "metadata": {
  "kernelspec": {
   "display_name": "base",
   "language": "python",
   "name": "python3"
  },
  "language_info": {
   "codemirror_mode": {
    "name": "ipython",
    "version": 3
   },
   "file_extension": ".py",
   "mimetype": "text/x-python",
   "name": "python",
   "nbconvert_exporter": "python",
   "pygments_lexer": "ipython3",
   "version": "3.11.5"
  }
 },
 "nbformat": 4,
 "nbformat_minor": 2
}
