{
 "cells": [
  {
   "cell_type": "code",
   "execution_count": 16,
   "metadata": {},
   "outputs": [],
   "source": [
    "import pandas as pd\n",
    "import numpy as np\n",
    "import plotly.express as px"
   ]
  },
  {
   "cell_type": "code",
   "execution_count": 17,
   "metadata": {},
   "outputs": [],
   "source": [
    "# paths corales puntacana\n",
    "\n",
    "preds_path = r\"C:\\Users\\mikej\\Downloads\\corales-puntacana-championship_course-adjustment-model.csv\"\n",
    "\n",
    "win_path = r\"C:\\Users\\mikej\\Downloads\\pga_historical_outrights (22).csv\"\n",
    "top5_path = r\"C:\\Users\\mikej\\Downloads\\pga_historical_outrights (21).csv\"\n",
    "top10_path = r\"C:\\Users\\mikej\\Downloads\\pga_historical_outrights (20).csv\"\n",
    "top20_path = r\"C:\\Users\\mikej\\Downloads\\pga_historical_outrights (19).csv\"\n"
   ]
  },
  {
   "cell_type": "code",
   "execution_count": 18,
   "metadata": {},
   "outputs": [],
   "source": [
    "def in_top20(a):\n",
    "    if int(a) > 20:\n",
    "        return \"loss\"\n",
    "    return \"win\"\n",
    "\n",
    "def in_top10(a):\n",
    "    if int(a) > 10:\n",
    "        return \"loss\"\n",
    "    return \"win\"\n",
    "\n",
    "def in_top5(a):\n",
    "    if int(a) > 5:\n",
    "        return \"loss\"\n",
    "    return \"win\"\n",
    "\n",
    "def in_win(a):\n",
    "    if int(a) > 1:\n",
    "        return \"loss\"\n",
    "    return \"win\""
   ]
  },
  {
   "cell_type": "code",
   "execution_count": null,
   "metadata": {},
   "outputs": [],
   "source": [
    "# rbc heritage paths\n",
    "\n",
    "    # read in datagolf\n",
    "top20 = pd.read_csv(r\"C:\\Users\\mikej\\Downloads\\pga_historical_outrights (13).csv\")\n",
    "top10 = pd.read_csv(r\"C:\\Users\\mikej\\Downloads\\pga_historical_outrights (12).csv\")\n",
    "top5 = pd.read_csv(r\"C:\\Users\\mikej\\Downloads\\pga_historical_outrights (11).csv\")\n",
    "win = pd.read_csv(r\"C:\\Users\\mikej\\Downloads\\pga_historical_outrights (10).csv\")"
   ]
  },
  {
   "cell_type": "code",
   "execution_count": 43,
   "metadata": {},
   "outputs": [],
   "source": [
    "def get_dg_outcomes_table(preds_path,win_path,top5_path,top10_path,top20_path):\n",
    "\n",
    "    # read in datagolf\n",
    "    top20 = pd.read_csv(top20_path)\n",
    "    top10 = pd.read_csv(top10_path)\n",
    "    top5 = pd.read_csv(top5_path)\n",
    "    win = pd.read_csv(win_path)\n",
    "    \n",
    "    # made dataframe of book odds\n",
    "    odds = pd.concat([win,top5,top10,top20])\n",
    "    odds = odds[['player_name','market','open_odds']].pivot(index='player_name',columns='market',values='open_odds').reset_index().round(2)\n",
    "    odds.columns = ['player','odds_20','odds_10','odds_5','odds_win']\n",
    "    \n",
    "    # make dataframe of tournament outcomes (leaderboard)\n",
    "    outcomes = top20[['player_name','outcome']]\n",
    "    outcomes['outcome'] = outcomes['outcome'].str.strip(\"T\")\n",
    "    outcomes.columns = ['player','outcome']\n",
    "\n",
    "    # make dataframe of datagolf predicted odds\n",
    "    preds = pd.read_csv(preds_path)\n",
    "    preds = preds[['player_name','top_20','top_10','top_5','win']].round(2)\n",
    "    preds.columns = ['player','pred_20','pred_10','pred_5','pred_win']\n",
    "\n",
    "    # merge books and datagolf\n",
    "    df = pd.merge(odds,preds)[['player','odds_20','pred_20','odds_10','pred_10','odds_5','pred_5','odds_win','pred_win']]\n",
    "\n",
    "    # add columns for difference in books odds and dg prediciton\n",
    "    df['diff_20'] = (df['pred_20'] - df['odds_20']) / df['odds_20']\n",
    "    df['diff_10'] = (df['pred_10'] - df['odds_10']) / df['odds_10']\n",
    "    df['diff_5'] = (df['pred_5'] - df['odds_5']) / df['odds_5']\n",
    "    df['diff_win'] = (df['pred_win'] - df['odds_win']) / df['odds_win']\n",
    "\n",
    "    # merge in actual outcomes\n",
    "    df = df.merge(outcomes,on='player')\n",
    "    df = df.convert_dtypes()\n",
    "    # df['outcome'] = df['outcome'].astype(int)\n",
    "\n",
    "    # add outcome 'bools'\n",
    "    # df['bool_20'] = df['outcome'].apply(in_top20)\n",
    "    # df['bool_10'] = df['outcome'].apply(in_top10)\n",
    "    # df['bool_5'] = df['outcome'].apply(in_top5)\n",
    "    # df['bool_win'] = df['outcome'].apply(in_win)\n",
    "\n",
    "    return df\n",
    "\n",
    "    \n",
    "\n",
    "    \n",
    "\n",
    "    \n",
    "\n",
    "    "
   ]
  },
  {
   "cell_type": "code",
   "execution_count": 44,
   "metadata": {},
   "outputs": [
    {
     "name": "stdout",
     "output_type": "stream",
     "text": [
      "<class 'pandas.core.frame.DataFrame'>\n",
      "Int64Index: 131 entries, 0 to 130\n",
      "Data columns (total 14 columns):\n",
      " #   Column    Non-Null Count  Dtype  \n",
      "---  ------    --------------  -----  \n",
      " 0   player    131 non-null    string \n",
      " 1   odds_20   131 non-null    Float64\n",
      " 2   pred_20   131 non-null    Float64\n",
      " 3   odds_10   131 non-null    Float64\n",
      " 4   pred_10   131 non-null    Float64\n",
      " 5   odds_5    131 non-null    Float64\n",
      " 6   pred_5    131 non-null    Float64\n",
      " 7   odds_win  131 non-null    Float64\n",
      " 8   pred_win  131 non-null    Float64\n",
      " 9   diff_20   129 non-null    Float64\n",
      " 10  diff_10   131 non-null    Float64\n",
      " 11  diff_5    116 non-null    Float64\n",
      " 12  diff_win  84 non-null     Float64\n",
      " 13  outcome   131 non-null    string \n",
      "dtypes: Float64(12), string(2)\n",
      "memory usage: 16.9 KB\n"
     ]
    }
   ],
   "source": [
    "df.info()"
   ]
  },
  {
   "cell_type": "code",
   "execution_count": 46,
   "metadata": {},
   "outputs": [
    {
     "name": "stderr",
     "output_type": "stream",
     "text": [
      "C:\\Users\\mikej\\AppData\\Local\\Temp\\ipykernel_23568\\1414055155.py:16: SettingWithCopyWarning:\n",
      "\n",
      "\n",
      "A value is trying to be set on a copy of a slice from a DataFrame.\n",
      "Try using .loc[row_indexer,col_indexer] = value instead\n",
      "\n",
      "See the caveats in the documentation: https://pandas.pydata.org/pandas-docs/stable/user_guide/indexing.html#returning-a-view-versus-a-copy\n",
      "\n"
     ]
    }
   ],
   "source": [
    "df = get_dg_outcomes_table(preds_path,win_path,top5_path,top10_path,top20_path)"
   ]
  },
  {
   "cell_type": "code",
   "execution_count": 27,
   "metadata": {},
   "outputs": [
    {
     "data": {
      "text/html": [
       "<div>\n",
       "<style scoped>\n",
       "    .dataframe tbody tr th:only-of-type {\n",
       "        vertical-align: middle;\n",
       "    }\n",
       "\n",
       "    .dataframe tbody tr th {\n",
       "        vertical-align: top;\n",
       "    }\n",
       "\n",
       "    .dataframe thead th {\n",
       "        text-align: right;\n",
       "    }\n",
       "</style>\n",
       "<table border=\"1\" class=\"dataframe\">\n",
       "  <thead>\n",
       "    <tr style=\"text-align: right;\">\n",
       "      <th></th>\n",
       "      <th>player</th>\n",
       "      <th>odds_20</th>\n",
       "      <th>pred_20</th>\n",
       "      <th>odds_10</th>\n",
       "      <th>pred_10</th>\n",
       "      <th>odds_5</th>\n",
       "      <th>pred_5</th>\n",
       "      <th>odds_win</th>\n",
       "      <th>pred_win</th>\n",
       "      <th>diff_20</th>\n",
       "      <th>diff_10</th>\n",
       "      <th>diff_5</th>\n",
       "      <th>diff_win</th>\n",
       "      <th>outcome</th>\n",
       "    </tr>\n",
       "  </thead>\n",
       "  <tbody>\n",
       "    <tr>\n",
       "      <th>84</th>\n",
       "      <td>Noren, Alex</td>\n",
       "      <td>0.38</td>\n",
       "      <td>0.52</td>\n",
       "      <td>0.58</td>\n",
       "      <td>0.35</td>\n",
       "      <td>0.24</td>\n",
       "      <td>0.22</td>\n",
       "      <td>0.08</td>\n",
       "      <td>0.06</td>\n",
       "      <td>0.368421</td>\n",
       "      <td>-0.396552</td>\n",
       "      <td>-0.083333</td>\n",
       "      <td>-0.250000</td>\n",
       "      <td>23</td>\n",
       "    </tr>\n",
       "    <tr>\n",
       "      <th>56</th>\n",
       "      <td>Hojgaard, Nicolai</td>\n",
       "      <td>0.36</td>\n",
       "      <td>0.49</td>\n",
       "      <td>0.52</td>\n",
       "      <td>0.31</td>\n",
       "      <td>0.22</td>\n",
       "      <td>0.19</td>\n",
       "      <td>0.08</td>\n",
       "      <td>0.05</td>\n",
       "      <td>0.361111</td>\n",
       "      <td>-0.403846</td>\n",
       "      <td>-0.136364</td>\n",
       "      <td>-0.375000</td>\n",
       "      <td>CU</td>\n",
       "    </tr>\n",
       "    <tr>\n",
       "      <th>57</th>\n",
       "      <td>Horschel, Billy</td>\n",
       "      <td>0.29</td>\n",
       "      <td>0.35</td>\n",
       "      <td>0.48</td>\n",
       "      <td>0.20</td>\n",
       "      <td>0.18</td>\n",
       "      <td>0.11</td>\n",
       "      <td>0.05</td>\n",
       "      <td>0.03</td>\n",
       "      <td>0.206897</td>\n",
       "      <td>-0.583333</td>\n",
       "      <td>-0.388889</td>\n",
       "      <td>-0.400000</td>\n",
       "      <td>1</td>\n",
       "    </tr>\n",
       "    <tr>\n",
       "      <th>95</th>\n",
       "      <td>Rai, Aaron</td>\n",
       "      <td>0.28</td>\n",
       "      <td>0.41</td>\n",
       "      <td>0.45</td>\n",
       "      <td>0.25</td>\n",
       "      <td>0.15</td>\n",
       "      <td>0.14</td>\n",
       "      <td>0.04</td>\n",
       "      <td>0.04</td>\n",
       "      <td>0.464286</td>\n",
       "      <td>-0.444444</td>\n",
       "      <td>-0.066667</td>\n",
       "      <td>0.000000</td>\n",
       "      <td>CU</td>\n",
       "    </tr>\n",
       "    <tr>\n",
       "      <th>69</th>\n",
       "      <td>Lashley, Nate</td>\n",
       "      <td>0.23</td>\n",
       "      <td>0.35</td>\n",
       "      <td>0.40</td>\n",
       "      <td>0.19</td>\n",
       "      <td>0.12</td>\n",
       "      <td>0.11</td>\n",
       "      <td>0.03</td>\n",
       "      <td>0.02</td>\n",
       "      <td>0.521739</td>\n",
       "      <td>-0.525000</td>\n",
       "      <td>-0.083333</td>\n",
       "      <td>-0.333333</td>\n",
       "      <td>CU</td>\n",
       "    </tr>\n",
       "    <tr>\n",
       "      <th>...</th>\n",
       "      <td>...</td>\n",
       "      <td>...</td>\n",
       "      <td>...</td>\n",
       "      <td>...</td>\n",
       "      <td>...</td>\n",
       "      <td>...</td>\n",
       "      <td>...</td>\n",
       "      <td>...</td>\n",
       "      <td>...</td>\n",
       "      <td>...</td>\n",
       "      <td>...</td>\n",
       "      <td>...</td>\n",
       "      <td>...</td>\n",
       "      <td>...</td>\n",
       "    </tr>\n",
       "    <tr>\n",
       "      <th>94</th>\n",
       "      <td>Pumarol, Guillermo</td>\n",
       "      <td>0.01</td>\n",
       "      <td>0.00</td>\n",
       "      <td>0.02</td>\n",
       "      <td>0.00</td>\n",
       "      <td>0.00</td>\n",
       "      <td>0.00</td>\n",
       "      <td>0.00</td>\n",
       "      <td>0.00</td>\n",
       "      <td>-1.000000</td>\n",
       "      <td>-1.000000</td>\n",
       "      <td>NaN</td>\n",
       "      <td>NaN</td>\n",
       "      <td>CU</td>\n",
       "    </tr>\n",
       "    <tr>\n",
       "      <th>1</th>\n",
       "      <td>Armour, Ryan</td>\n",
       "      <td>0.04</td>\n",
       "      <td>0.04</td>\n",
       "      <td>0.10</td>\n",
       "      <td>0.01</td>\n",
       "      <td>0.02</td>\n",
       "      <td>0.00</td>\n",
       "      <td>0.00</td>\n",
       "      <td>0.00</td>\n",
       "      <td>0.000000</td>\n",
       "      <td>-0.900000</td>\n",
       "      <td>-1.000000</td>\n",
       "      <td>NaN</td>\n",
       "      <td>67</td>\n",
       "    </tr>\n",
       "    <tr>\n",
       "      <th>99</th>\n",
       "      <td>Santos, Julio</td>\n",
       "      <td>0.00</td>\n",
       "      <td>0.00</td>\n",
       "      <td>0.01</td>\n",
       "      <td>0.00</td>\n",
       "      <td>0.00</td>\n",
       "      <td>0.00</td>\n",
       "      <td>0.00</td>\n",
       "      <td>0.00</td>\n",
       "      <td>NaN</td>\n",
       "      <td>-1.000000</td>\n",
       "      <td>NaN</td>\n",
       "      <td>NaN</td>\n",
       "      <td>CU</td>\n",
       "    </tr>\n",
       "    <tr>\n",
       "      <th>101</th>\n",
       "      <td>Sekne, Herman Wibe</td>\n",
       "      <td>0.07</td>\n",
       "      <td>0.05</td>\n",
       "      <td>0.14</td>\n",
       "      <td>0.02</td>\n",
       "      <td>0.03</td>\n",
       "      <td>0.01</td>\n",
       "      <td>0.00</td>\n",
       "      <td>0.00</td>\n",
       "      <td>-0.285714</td>\n",
       "      <td>-0.857143</td>\n",
       "      <td>-0.666667</td>\n",
       "      <td>NaN</td>\n",
       "      <td>CU</td>\n",
       "    </tr>\n",
       "    <tr>\n",
       "      <th>65</th>\n",
       "      <td>Knox, Russell</td>\n",
       "      <td>0.06</td>\n",
       "      <td>0.08</td>\n",
       "      <td>0.14</td>\n",
       "      <td>0.03</td>\n",
       "      <td>0.02</td>\n",
       "      <td>0.01</td>\n",
       "      <td>0.00</td>\n",
       "      <td>0.00</td>\n",
       "      <td>0.333333</td>\n",
       "      <td>-0.785714</td>\n",
       "      <td>-0.500000</td>\n",
       "      <td>NaN</td>\n",
       "      <td>CU</td>\n",
       "    </tr>\n",
       "  </tbody>\n",
       "</table>\n",
       "<p>131 rows × 14 columns</p>\n",
       "</div>"
      ],
      "text/plain": [
       "                 player  odds_20  pred_20  odds_10  pred_10  odds_5  pred_5  \\\n",
       "84          Noren, Alex     0.38     0.52     0.58     0.35    0.24    0.22   \n",
       "56    Hojgaard, Nicolai     0.36     0.49     0.52     0.31    0.22    0.19   \n",
       "57      Horschel, Billy     0.29     0.35     0.48     0.20    0.18    0.11   \n",
       "95           Rai, Aaron     0.28     0.41     0.45     0.25    0.15    0.14   \n",
       "69        Lashley, Nate     0.23     0.35     0.40     0.19    0.12    0.11   \n",
       "..                  ...      ...      ...      ...      ...     ...     ...   \n",
       "94   Pumarol, Guillermo     0.01     0.00     0.02     0.00    0.00    0.00   \n",
       "1          Armour, Ryan     0.04     0.04     0.10     0.01    0.02    0.00   \n",
       "99        Santos, Julio     0.00     0.00     0.01     0.00    0.00    0.00   \n",
       "101  Sekne, Herman Wibe     0.07     0.05     0.14     0.02    0.03    0.01   \n",
       "65        Knox, Russell     0.06     0.08     0.14     0.03    0.02    0.01   \n",
       "\n",
       "     odds_win  pred_win   diff_20   diff_10    diff_5  diff_win outcome  \n",
       "84       0.08      0.06  0.368421 -0.396552 -0.083333 -0.250000      23  \n",
       "56       0.08      0.05  0.361111 -0.403846 -0.136364 -0.375000      CU  \n",
       "57       0.05      0.03  0.206897 -0.583333 -0.388889 -0.400000       1  \n",
       "95       0.04      0.04  0.464286 -0.444444 -0.066667  0.000000      CU  \n",
       "69       0.03      0.02  0.521739 -0.525000 -0.083333 -0.333333      CU  \n",
       "..        ...       ...       ...       ...       ...       ...     ...  \n",
       "94       0.00      0.00 -1.000000 -1.000000       NaN       NaN      CU  \n",
       "1        0.00      0.00  0.000000 -0.900000 -1.000000       NaN      67  \n",
       "99       0.00      0.00       NaN -1.000000       NaN       NaN      CU  \n",
       "101      0.00      0.00 -0.285714 -0.857143 -0.666667       NaN      CU  \n",
       "65       0.00      0.00  0.333333 -0.785714 -0.500000       NaN      CU  \n",
       "\n",
       "[131 rows x 14 columns]"
      ]
     },
     "execution_count": 27,
     "metadata": {},
     "output_type": "execute_result"
    }
   ],
   "source": [
    "df.sort_values('odds_win',ascending=False)"
   ]
  },
  {
   "cell_type": "code",
   "execution_count": 34,
   "metadata": {},
   "outputs": [
    {
     "data": {
      "application/vnd.plotly.v1+json": {
       "config": {
        "plotlyServerURL": "https://plot.ly"
       },
       "data": [
        {
         "alignmentgroup": "True",
         "hovertemplate": "player=%{x}<br>diff_20=%{y}<extra></extra>",
         "legendgroup": "",
         "marker": {
          "color": "#636efa",
          "pattern": {
           "shape": ""
          }
         },
         "name": "",
         "offsetgroup": "",
         "orientation": "v",
         "showlegend": false,
         "textposition": "auto",
         "type": "bar",
         "x": [
          "Coody, Parker",
          "Wu, Brandon",
          "Whaley, Vince",
          "Trainer, Martin",
          "Springer, Hayden",
          "Highsmith, Joe",
          "Smalley, Alex",
          "Hoffman, Charley",
          "Dougherty, Kevin",
          "Gotterup, Chris",
          "Silverman, Ben",
          "Kuest, Peter",
          "Ramey, Chad",
          "Stanger, Jimmy",
          "Pendrith, Taylor",
          "Bridgeman, Jacob",
          "Kim, Michael",
          "Fitzpatrick, Alex",
          "Suh, Justin",
          "Duncan, Tyler",
          "Yuan, Carl",
          "Greyserman, Max",
          "Hardy, Nick",
          "Schmid, Matthias",
          "Dahmen, Joel",
          "Sigg, Greyson",
          "Kim, Chan",
          "Kim, Seonghyeon",
          "Bramlett, Joseph",
          "Vegas, Jhonattan",
          "Higgo, Garrick",
          "Ryder, Sam",
          "Lawrence, Thriston",
          "Stevens, Samuel",
          "Lower, Justin",
          "Berger, Daniel",
          "Lee, Kyounghoon",
          "Cauley, Bud",
          "Griffin, Ben",
          "Martin, Ben",
          "Yu, Kevin",
          "Ghim, Doug",
          "Perez, Victor",
          "Thompson, Davis",
          "Hubbard, Mark",
          "Lashley, Nate",
          "Rai, Aaron",
          "Horschel, Billy",
          "Hojgaard, Nicolai",
          "Noren, Alex"
         ],
         "xaxis": "x",
         "y": [
          1,
          0.4545454545454546,
          0.9090909090909091,
          0.4545454545454546,
          0.9166666666666669,
          0.9166666666666669,
          0.75,
          0.6666666666666669,
          0.5,
          0.846153846153846,
          0.5384615384615385,
          0.23076923076923075,
          0.7142857142857141,
          0.857142857142857,
          0.857142857142857,
          0.857142857142857,
          0.7142857142857141,
          0.07142857142857129,
          0.2666666666666667,
          0.6,
          0.5333333333333334,
          0.8666666666666669,
          0.7333333333333335,
          0.9333333333333332,
          0.5882352941176471,
          0.764705882352941,
          0.5882352941176471,
          0.5294117647058822,
          0.8235294117647057,
          0.4117647058823528,
          0.4117647058823528,
          0.2777777777777779,
          0.3333333333333333,
          0.611111111111111,
          0.611111111111111,
          0.1999999999999999,
          0.6,
          0.24999999999999994,
          0.6,
          0.18181818181818185,
          0.8181818181818182,
          0.7727272727272728,
          0.5454545454545455,
          0.6818181818181818,
          0.7727272727272728,
          0.5217391304347825,
          0.4642857142857141,
          0.20689655172413793,
          0.36111111111111116,
          0.368421052631579
         ],
         "yaxis": "y"
        }
       ],
       "layout": {
        "barmode": "relative",
        "legend": {
         "tracegroupgap": 0
        },
        "margin": {
         "t": 60
        },
        "template": {
         "data": {
          "bar": [
           {
            "error_x": {
             "color": "#2a3f5f"
            },
            "error_y": {
             "color": "#2a3f5f"
            },
            "marker": {
             "line": {
              "color": "#E5ECF6",
              "width": 0.5
             },
             "pattern": {
              "fillmode": "overlay",
              "size": 10,
              "solidity": 0.2
             }
            },
            "type": "bar"
           }
          ],
          "barpolar": [
           {
            "marker": {
             "line": {
              "color": "#E5ECF6",
              "width": 0.5
             },
             "pattern": {
              "fillmode": "overlay",
              "size": 10,
              "solidity": 0.2
             }
            },
            "type": "barpolar"
           }
          ],
          "carpet": [
           {
            "aaxis": {
             "endlinecolor": "#2a3f5f",
             "gridcolor": "white",
             "linecolor": "white",
             "minorgridcolor": "white",
             "startlinecolor": "#2a3f5f"
            },
            "baxis": {
             "endlinecolor": "#2a3f5f",
             "gridcolor": "white",
             "linecolor": "white",
             "minorgridcolor": "white",
             "startlinecolor": "#2a3f5f"
            },
            "type": "carpet"
           }
          ],
          "choropleth": [
           {
            "colorbar": {
             "outlinewidth": 0,
             "ticks": ""
            },
            "type": "choropleth"
           }
          ],
          "contour": [
           {
            "colorbar": {
             "outlinewidth": 0,
             "ticks": ""
            },
            "colorscale": [
             [
              0,
              "#0d0887"
             ],
             [
              0.1111111111111111,
              "#46039f"
             ],
             [
              0.2222222222222222,
              "#7201a8"
             ],
             [
              0.3333333333333333,
              "#9c179e"
             ],
             [
              0.4444444444444444,
              "#bd3786"
             ],
             [
              0.5555555555555556,
              "#d8576b"
             ],
             [
              0.6666666666666666,
              "#ed7953"
             ],
             [
              0.7777777777777778,
              "#fb9f3a"
             ],
             [
              0.8888888888888888,
              "#fdca26"
             ],
             [
              1,
              "#f0f921"
             ]
            ],
            "type": "contour"
           }
          ],
          "contourcarpet": [
           {
            "colorbar": {
             "outlinewidth": 0,
             "ticks": ""
            },
            "type": "contourcarpet"
           }
          ],
          "heatmap": [
           {
            "colorbar": {
             "outlinewidth": 0,
             "ticks": ""
            },
            "colorscale": [
             [
              0,
              "#0d0887"
             ],
             [
              0.1111111111111111,
              "#46039f"
             ],
             [
              0.2222222222222222,
              "#7201a8"
             ],
             [
              0.3333333333333333,
              "#9c179e"
             ],
             [
              0.4444444444444444,
              "#bd3786"
             ],
             [
              0.5555555555555556,
              "#d8576b"
             ],
             [
              0.6666666666666666,
              "#ed7953"
             ],
             [
              0.7777777777777778,
              "#fb9f3a"
             ],
             [
              0.8888888888888888,
              "#fdca26"
             ],
             [
              1,
              "#f0f921"
             ]
            ],
            "type": "heatmap"
           }
          ],
          "heatmapgl": [
           {
            "colorbar": {
             "outlinewidth": 0,
             "ticks": ""
            },
            "colorscale": [
             [
              0,
              "#0d0887"
             ],
             [
              0.1111111111111111,
              "#46039f"
             ],
             [
              0.2222222222222222,
              "#7201a8"
             ],
             [
              0.3333333333333333,
              "#9c179e"
             ],
             [
              0.4444444444444444,
              "#bd3786"
             ],
             [
              0.5555555555555556,
              "#d8576b"
             ],
             [
              0.6666666666666666,
              "#ed7953"
             ],
             [
              0.7777777777777778,
              "#fb9f3a"
             ],
             [
              0.8888888888888888,
              "#fdca26"
             ],
             [
              1,
              "#f0f921"
             ]
            ],
            "type": "heatmapgl"
           }
          ],
          "histogram": [
           {
            "marker": {
             "pattern": {
              "fillmode": "overlay",
              "size": 10,
              "solidity": 0.2
             }
            },
            "type": "histogram"
           }
          ],
          "histogram2d": [
           {
            "colorbar": {
             "outlinewidth": 0,
             "ticks": ""
            },
            "colorscale": [
             [
              0,
              "#0d0887"
             ],
             [
              0.1111111111111111,
              "#46039f"
             ],
             [
              0.2222222222222222,
              "#7201a8"
             ],
             [
              0.3333333333333333,
              "#9c179e"
             ],
             [
              0.4444444444444444,
              "#bd3786"
             ],
             [
              0.5555555555555556,
              "#d8576b"
             ],
             [
              0.6666666666666666,
              "#ed7953"
             ],
             [
              0.7777777777777778,
              "#fb9f3a"
             ],
             [
              0.8888888888888888,
              "#fdca26"
             ],
             [
              1,
              "#f0f921"
             ]
            ],
            "type": "histogram2d"
           }
          ],
          "histogram2dcontour": [
           {
            "colorbar": {
             "outlinewidth": 0,
             "ticks": ""
            },
            "colorscale": [
             [
              0,
              "#0d0887"
             ],
             [
              0.1111111111111111,
              "#46039f"
             ],
             [
              0.2222222222222222,
              "#7201a8"
             ],
             [
              0.3333333333333333,
              "#9c179e"
             ],
             [
              0.4444444444444444,
              "#bd3786"
             ],
             [
              0.5555555555555556,
              "#d8576b"
             ],
             [
              0.6666666666666666,
              "#ed7953"
             ],
             [
              0.7777777777777778,
              "#fb9f3a"
             ],
             [
              0.8888888888888888,
              "#fdca26"
             ],
             [
              1,
              "#f0f921"
             ]
            ],
            "type": "histogram2dcontour"
           }
          ],
          "mesh3d": [
           {
            "colorbar": {
             "outlinewidth": 0,
             "ticks": ""
            },
            "type": "mesh3d"
           }
          ],
          "parcoords": [
           {
            "line": {
             "colorbar": {
              "outlinewidth": 0,
              "ticks": ""
             }
            },
            "type": "parcoords"
           }
          ],
          "pie": [
           {
            "automargin": true,
            "type": "pie"
           }
          ],
          "scatter": [
           {
            "fillpattern": {
             "fillmode": "overlay",
             "size": 10,
             "solidity": 0.2
            },
            "type": "scatter"
           }
          ],
          "scatter3d": [
           {
            "line": {
             "colorbar": {
              "outlinewidth": 0,
              "ticks": ""
             }
            },
            "marker": {
             "colorbar": {
              "outlinewidth": 0,
              "ticks": ""
             }
            },
            "type": "scatter3d"
           }
          ],
          "scattercarpet": [
           {
            "marker": {
             "colorbar": {
              "outlinewidth": 0,
              "ticks": ""
             }
            },
            "type": "scattercarpet"
           }
          ],
          "scattergeo": [
           {
            "marker": {
             "colorbar": {
              "outlinewidth": 0,
              "ticks": ""
             }
            },
            "type": "scattergeo"
           }
          ],
          "scattergl": [
           {
            "marker": {
             "colorbar": {
              "outlinewidth": 0,
              "ticks": ""
             }
            },
            "type": "scattergl"
           }
          ],
          "scattermapbox": [
           {
            "marker": {
             "colorbar": {
              "outlinewidth": 0,
              "ticks": ""
             }
            },
            "type": "scattermapbox"
           }
          ],
          "scatterpolar": [
           {
            "marker": {
             "colorbar": {
              "outlinewidth": 0,
              "ticks": ""
             }
            },
            "type": "scatterpolar"
           }
          ],
          "scatterpolargl": [
           {
            "marker": {
             "colorbar": {
              "outlinewidth": 0,
              "ticks": ""
             }
            },
            "type": "scatterpolargl"
           }
          ],
          "scatterternary": [
           {
            "marker": {
             "colorbar": {
              "outlinewidth": 0,
              "ticks": ""
             }
            },
            "type": "scatterternary"
           }
          ],
          "surface": [
           {
            "colorbar": {
             "outlinewidth": 0,
             "ticks": ""
            },
            "colorscale": [
             [
              0,
              "#0d0887"
             ],
             [
              0.1111111111111111,
              "#46039f"
             ],
             [
              0.2222222222222222,
              "#7201a8"
             ],
             [
              0.3333333333333333,
              "#9c179e"
             ],
             [
              0.4444444444444444,
              "#bd3786"
             ],
             [
              0.5555555555555556,
              "#d8576b"
             ],
             [
              0.6666666666666666,
              "#ed7953"
             ],
             [
              0.7777777777777778,
              "#fb9f3a"
             ],
             [
              0.8888888888888888,
              "#fdca26"
             ],
             [
              1,
              "#f0f921"
             ]
            ],
            "type": "surface"
           }
          ],
          "table": [
           {
            "cells": {
             "fill": {
              "color": "#EBF0F8"
             },
             "line": {
              "color": "white"
             }
            },
            "header": {
             "fill": {
              "color": "#C8D4E3"
             },
             "line": {
              "color": "white"
             }
            },
            "type": "table"
           }
          ]
         },
         "layout": {
          "annotationdefaults": {
           "arrowcolor": "#2a3f5f",
           "arrowhead": 0,
           "arrowwidth": 1
          },
          "autotypenumbers": "strict",
          "coloraxis": {
           "colorbar": {
            "outlinewidth": 0,
            "ticks": ""
           }
          },
          "colorscale": {
           "diverging": [
            [
             0,
             "#8e0152"
            ],
            [
             0.1,
             "#c51b7d"
            ],
            [
             0.2,
             "#de77ae"
            ],
            [
             0.3,
             "#f1b6da"
            ],
            [
             0.4,
             "#fde0ef"
            ],
            [
             0.5,
             "#f7f7f7"
            ],
            [
             0.6,
             "#e6f5d0"
            ],
            [
             0.7,
             "#b8e186"
            ],
            [
             0.8,
             "#7fbc41"
            ],
            [
             0.9,
             "#4d9221"
            ],
            [
             1,
             "#276419"
            ]
           ],
           "sequential": [
            [
             0,
             "#0d0887"
            ],
            [
             0.1111111111111111,
             "#46039f"
            ],
            [
             0.2222222222222222,
             "#7201a8"
            ],
            [
             0.3333333333333333,
             "#9c179e"
            ],
            [
             0.4444444444444444,
             "#bd3786"
            ],
            [
             0.5555555555555556,
             "#d8576b"
            ],
            [
             0.6666666666666666,
             "#ed7953"
            ],
            [
             0.7777777777777778,
             "#fb9f3a"
            ],
            [
             0.8888888888888888,
             "#fdca26"
            ],
            [
             1,
             "#f0f921"
            ]
           ],
           "sequentialminus": [
            [
             0,
             "#0d0887"
            ],
            [
             0.1111111111111111,
             "#46039f"
            ],
            [
             0.2222222222222222,
             "#7201a8"
            ],
            [
             0.3333333333333333,
             "#9c179e"
            ],
            [
             0.4444444444444444,
             "#bd3786"
            ],
            [
             0.5555555555555556,
             "#d8576b"
            ],
            [
             0.6666666666666666,
             "#ed7953"
            ],
            [
             0.7777777777777778,
             "#fb9f3a"
            ],
            [
             0.8888888888888888,
             "#fdca26"
            ],
            [
             1,
             "#f0f921"
            ]
           ]
          },
          "colorway": [
           "#636efa",
           "#EF553B",
           "#00cc96",
           "#ab63fa",
           "#FFA15A",
           "#19d3f3",
           "#FF6692",
           "#B6E880",
           "#FF97FF",
           "#FECB52"
          ],
          "font": {
           "color": "#2a3f5f"
          },
          "geo": {
           "bgcolor": "white",
           "lakecolor": "white",
           "landcolor": "#E5ECF6",
           "showlakes": true,
           "showland": true,
           "subunitcolor": "white"
          },
          "hoverlabel": {
           "align": "left"
          },
          "hovermode": "closest",
          "mapbox": {
           "style": "light"
          },
          "paper_bgcolor": "white",
          "plot_bgcolor": "#E5ECF6",
          "polar": {
           "angularaxis": {
            "gridcolor": "white",
            "linecolor": "white",
            "ticks": ""
           },
           "bgcolor": "#E5ECF6",
           "radialaxis": {
            "gridcolor": "white",
            "linecolor": "white",
            "ticks": ""
           }
          },
          "scene": {
           "xaxis": {
            "backgroundcolor": "#E5ECF6",
            "gridcolor": "white",
            "gridwidth": 2,
            "linecolor": "white",
            "showbackground": true,
            "ticks": "",
            "zerolinecolor": "white"
           },
           "yaxis": {
            "backgroundcolor": "#E5ECF6",
            "gridcolor": "white",
            "gridwidth": 2,
            "linecolor": "white",
            "showbackground": true,
            "ticks": "",
            "zerolinecolor": "white"
           },
           "zaxis": {
            "backgroundcolor": "#E5ECF6",
            "gridcolor": "white",
            "gridwidth": 2,
            "linecolor": "white",
            "showbackground": true,
            "ticks": "",
            "zerolinecolor": "white"
           }
          },
          "shapedefaults": {
           "line": {
            "color": "#2a3f5f"
           }
          },
          "ternary": {
           "aaxis": {
            "gridcolor": "white",
            "linecolor": "white",
            "ticks": ""
           },
           "baxis": {
            "gridcolor": "white",
            "linecolor": "white",
            "ticks": ""
           },
           "bgcolor": "#E5ECF6",
           "caxis": {
            "gridcolor": "white",
            "linecolor": "white",
            "ticks": ""
           }
          },
          "title": {
           "x": 0.05
          },
          "xaxis": {
           "automargin": true,
           "gridcolor": "white",
           "linecolor": "white",
           "ticks": "",
           "title": {
            "standoff": 15
           },
           "zerolinecolor": "white",
           "zerolinewidth": 2
          },
          "yaxis": {
           "automargin": true,
           "gridcolor": "white",
           "linecolor": "white",
           "ticks": "",
           "title": {
            "standoff": 15
           },
           "zerolinecolor": "white",
           "zerolinewidth": 2
          }
         }
        },
        "xaxis": {
         "anchor": "y",
         "domain": [
          0,
          1
         ],
         "title": {
          "text": "player"
         }
        },
        "yaxis": {
         "anchor": "x",
         "domain": [
          0,
          1
         ],
         "title": {
          "text": "diff_20"
         }
        }
       }
      }
     },
     "metadata": {},
     "output_type": "display_data"
    }
   ],
   "source": [
    "px.bar(df.sort_values('odds_20')[-50:],\n",
    "       x='player',\n",
    "       y='diff_20')"
   ]
  },
  {
   "cell_type": "code",
   "execution_count": null,
   "metadata": {},
   "outputs": [],
   "source": [
    "top20 = pd.read_csv(r\"C:\\Users\\mikej\\Downloads\\pga_historical_outrights (13).csv\")\n",
    "top10 = pd.read_csv(r\"C:\\Users\\mikej\\Downloads\\pga_historical_outrights (12).csv\")\n",
    "top5 = pd.read_csv(r\"C:\\Users\\mikej\\Downloads\\pga_historical_outrights (11).csv\")\n",
    "win = pd.read_csv(r\"C:\\Users\\mikej\\Downloads\\pga_historical_outrights (10).csv\")"
   ]
  },
  {
   "cell_type": "code",
   "execution_count": null,
   "metadata": {},
   "outputs": [],
   "source": [
    "top20['outcome'] = top20['outcome'].str.strip(\"T\")\n",
    "\n",
    "outcomes = top20[['player_name','outcome']]\n",
    "outcomes.columns = ['player','outcome']"
   ]
  },
  {
   "cell_type": "code",
   "execution_count": null,
   "metadata": {},
   "outputs": [],
   "source": [
    "outcomes#.head(2)"
   ]
  },
  {
   "cell_type": "code",
   "execution_count": null,
   "metadata": {},
   "outputs": [],
   "source": [
    "odds = pd.concat([win,top5,top10,top20])\n",
    "\n",
    "odds = odds[['player_name','market','open_odds']].pivot(index='player_name',columns='market',values='open_odds').reset_index().round(2)\n",
    "\n",
    "odds.columns = ['player','odds_20','odds_10','odds_5','odds_win']\n",
    "\n",
    "odds = odds[['player','odds_20','odds_10','odds_5','odds_win']]\n",
    "\n",
    "odds#.head(2)"
   ]
  },
  {
   "cell_type": "code",
   "execution_count": null,
   "metadata": {},
   "outputs": [],
   "source": [
    "preds = pd.read_csv(r\"C:\\Users\\mikej\\Downloads\\rbc-heritage_course-adjustment-model.csv\")\n",
    "\n",
    "preds = preds[['player_name','top_20','top_10','top_5','win']].round(2)\n",
    "\n",
    "preds.columns = ['player','pred_20','pred_10','pred_5','pred_win']\n",
    "\n",
    "preds#.head(2)"
   ]
  },
  {
   "cell_type": "code",
   "execution_count": null,
   "metadata": {},
   "outputs": [],
   "source": [
    "df = pd.merge(odds,preds)[['player','odds_20','pred_20','odds_10','pred_10','odds_5','pred_5','odds_win','pred_win']]"
   ]
  },
  {
   "cell_type": "code",
   "execution_count": null,
   "metadata": {},
   "outputs": [],
   "source": [
    "df#.head(2)"
   ]
  },
  {
   "cell_type": "code",
   "execution_count": null,
   "metadata": {},
   "outputs": [],
   "source": [
    "df['diff_20'] = df['pred_20'] - df['odds_20']\n",
    "df['diff_10'] = df['pred_10'] - df['odds_10']\n",
    "df['diff_5'] = df['pred_5'] - df['odds_5']\n",
    "df['diff_win'] = df['pred_win'] - df['odds_win']"
   ]
  },
  {
   "cell_type": "code",
   "execution_count": null,
   "metadata": {},
   "outputs": [],
   "source": [
    "df"
   ]
  },
  {
   "cell_type": "code",
   "execution_count": null,
   "metadata": {},
   "outputs": [],
   "source": [
    "df = df.merge(outcomes,on='player')\n",
    "df"
   ]
  },
  {
   "cell_type": "code",
   "execution_count": null,
   "metadata": {},
   "outputs": [],
   "source": [
    "def in_top20(a):\n",
    "    if a > 20:\n",
    "        return \"loss\"\n",
    "    return \"win\"\n",
    "\n",
    "def in_top10(a):\n",
    "    if a > 10:\n",
    "        return \"loss\"\n",
    "    return \"win\"\n",
    "\n",
    "def in_top5(a):\n",
    "    if a > 5:\n",
    "        return \"loss\"\n",
    "    return \"win\"\n",
    "\n",
    "def in_win(a):\n",
    "    if a > 1:\n",
    "        return \"loss\"\n",
    "    return \"win\""
   ]
  },
  {
   "cell_type": "code",
   "execution_count": null,
   "metadata": {},
   "outputs": [],
   "source": [
    "df['outcome'] = df['outcome'].astype(int)\n",
    "\n",
    "df['outcome_bool_20'] = df['outcome'].apply(in_top20)\n",
    "df['outcome_bool_10'] = df['outcome'].apply(in_top10)\n",
    "df['outcome_bool_5'] = df['outcome'].apply(in_top5)\n",
    "df['outcome_bool_win'] = df['outcome'].apply(in_win)"
   ]
  },
  {
   "cell_type": "code",
   "execution_count": null,
   "metadata": {},
   "outputs": [],
   "source": [
    "df"
   ]
  },
  {
   "cell_type": "code",
   "execution_count": null,
   "metadata": {},
   "outputs": [],
   "source": [
    "top20s = df[['player','outcome','odds_20','pred_20','diff_20','outcome_bool_20']].sort_values('odds_20',ascending=False)\n",
    "# top10s = df[['player','odds_10','pred_10','diff_10','outcome']].sort_values('odds_10',ascending=False)\n",
    "# top5s = df[['player','odds_5','pred_5','diff_5','outcome']].sort_values('odds_5',ascending=False)\n",
    "# wins = df[['player','odds_win','pred_win','diff_win','outcome']].sort_values('odds_win',ascending=False)\n",
    "top20s[:20]"
   ]
  },
  {
   "cell_type": "code",
   "execution_count": null,
   "metadata": {},
   "outputs": [],
   "source": [
    "\n",
    "px.scatter(df,\n",
    "           x='odds_20',\n",
    "           y='pred_20',\n",
    "           hover_name='player',\n",
    "           color='outcome_bool_20',\n",
    "           color_discrete_sequence=px.colors.qualitative.Safe,\n",
    "           trendline = 'ols',trendline_scope='overall',trendline_color_override = 'darkslategrey',\n",
    "           width=800,\n",
    "           height=700,\n",
    "           size='diff_20')#.add_shape(type=\"line\", x0=0, y0=0, x1=1, y1=1)"
   ]
  },
  {
   "cell_type": "code",
   "execution_count": null,
   "metadata": {},
   "outputs": [],
   "source": [
    "\n",
    "px.scatter(df,\n",
    "           x='diff_10',\n",
    "           y='pred_10',\n",
    "           hover_name='player',\n",
    "           color='outcome_bool_10',\n",
    "           color_discrete_sequence=px.colors.qualitative.Safe,\n",
    "           trendline = 'ols',trendline_scope='overall',trendline_color_override = 'darkslategrey',\n",
    "           width=800,\n",
    "           height=700,\n",
    "           size='odds_10')#.add_shape(type=\"line\", x0=0, y0=0, x1=1, y1=1)"
   ]
  },
  {
   "cell_type": "code",
   "execution_count": null,
   "metadata": {},
   "outputs": [],
   "source": [
    "\n",
    "\n",
    "px.scatter(df,\n",
    "           x='diff_5',\n",
    "           y='pred_5',\n",
    "           hover_name='player',\n",
    "           color='outcome_bool_5',\n",
    "           color_discrete_sequence=px.colors.qualitative.Safe,\n",
    "           trendline = 'ols',trendline_scope='overall',trendline_color_override = 'darkslategrey',\n",
    "           width=800,\n",
    "           height=700,\n",
    "           size='odds_5')#.add_shape(type=\"line\", x0=0, y0=0, x1=1, y1=1)"
   ]
  },
  {
   "cell_type": "code",
   "execution_count": null,
   "metadata": {},
   "outputs": [],
   "source": [
    "\n",
    "\n",
    "# top5s['outcome'] = top5s['outcome'].astype('int')\n",
    "\n",
    "px.scatter(df,\n",
    "           x='diff_win',\n",
    "           y='pred_win',\n",
    "           hover_name='player',\n",
    "           color='outcome_bool_win',\n",
    "           color_discrete_sequence=px.colors.qualitative.Safe,\n",
    "           trendline = 'ols',trendline_scope='overall',trendline_color_override = 'black',\n",
    "           width=800,\n",
    "           height=700,)"
   ]
  },
  {
   "cell_type": "code",
   "execution_count": null,
   "metadata": {},
   "outputs": [],
   "source": [
    "temp = df.sort_values('outcome')"
   ]
  },
  {
   "cell_type": "code",
   "execution_count": null,
   "metadata": {},
   "outputs": [],
   "source": [
    "px.bar(temp.sort_values('outcome'),#,ascending=False),\n",
    "    x='player',\n",
    "    y='outcome',\n",
    "    color='diff_20').add_vline(x='Kim, Si Woo')"
   ]
  },
  {
   "cell_type": "code",
   "execution_count": null,
   "metadata": {},
   "outputs": [],
   "source": [
    "df"
   ]
  },
  {
   "cell_type": "code",
   "execution_count": null,
   "metadata": {},
   "outputs": [],
   "source": [
    "px.scatter(df,\n",
    "           x='odds_20',\n",
    "           y='pred_20',\n",
    "           color='outcome_bool_20',\n",
    "           trendline='ols',trendline_scope='overall')"
   ]
  },
  {
   "cell_type": "code",
   "execution_count": null,
   "metadata": {},
   "outputs": [],
   "source": [
    "df.diff_20.hist()"
   ]
  },
  {
   "cell_type": "code",
   "execution_count": null,
   "metadata": {},
   "outputs": [],
   "source": []
  }
 ],
 "metadata": {
  "kernelspec": {
   "display_name": "base",
   "language": "python",
   "name": "python3"
  },
  "language_info": {
   "codemirror_mode": {
    "name": "ipython",
    "version": 3
   },
   "file_extension": ".py",
   "mimetype": "text/x-python",
   "name": "python",
   "nbconvert_exporter": "python",
   "pygments_lexer": "ipython3",
   "version": "3.11.5"
  }
 },
 "nbformat": 4,
 "nbformat_minor": 2
}
